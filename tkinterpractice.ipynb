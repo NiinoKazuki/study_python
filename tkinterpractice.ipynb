{
 "cells": [
  {
   "cell_type": "code",
   "execution_count": 2,
   "metadata": {},
   "outputs": [],
   "source": [
    "import tkinter as tk\n",
    "base = tk.Tk()\n",
    "base.mainloop()\n"
   ]
  },
  {
   "cell_type": "code",
   "execution_count": 4,
   "metadata": {},
   "outputs": [],
   "source": [
    "import tkinter as tk\n",
    "base = tk.Tk()\n",
    "button = tk.Button(base, text='PUSH!')\n",
    "button.pack()"
   ]
  },
  {
   "cell_type": "code",
   "execution_count": 5,
   "metadata": {},
   "outputs": [],
   "source": [
    "import tkinter as tk\n",
    "base = tk.Tk()\n",
    "button1 = tk.Button(base, text='push1')\n",
    "button2 = tk.Button(base, text='push2')\n",
    "button3 = tk.Button(base, text='push3')\n",
    "button1.pack()\n",
    "button2.pack()\n",
    "button3.pack()\n"
   ]
  },
  {
   "cell_type": "code",
   "execution_count": 7,
   "metadata": {},
   "outputs": [],
   "source": [
    "import tkinter as tk\n",
    "base = tk.Tk()\n",
    "button1 = tk.Button(base, text='push1', width=20).pack()\n",
    "button2 = tk.Button(base, text='push2').pack(side=tk.LEFT)\n",
    "button3 = tk.Button(base, text='push3').pack(side=tk.RIGHT)"
   ]
  },
  {
   "cell_type": "code",
   "execution_count": 9,
   "metadata": {},
   "outputs": [],
   "source": [
    "import tkinter as tk\n",
    "base = tk.Tk()\n",
    "button1 = tk.Button(base, text='push1')\n",
    "button2 = tk.Button(base, text='push2')\n",
    "button3 = tk.Button(base, text='push3')\n",
    "button1.grid(row=0, column=0)\n",
    "button2.grid(row=0, column=1)\n",
    "button3.grid(row=1, column=1)"
   ]
  },
  {
   "cell_type": "code",
   "execution_count": 10,
   "metadata": {},
   "outputs": [],
   "source": [
    "import tkinter as tk\n",
    "base = tk.Tk()\n",
    "button1 = tk.Button(base, text='push1')\n",
    "button2 = tk.Button(base, text='push2')\n",
    "button3 = tk.Button(base, text='push3')\n",
    "button1.place(x=0,y=0)\n",
    "button2.place(x=50,y=30)\n",
    "button3.place(x=100,y=60)\n"
   ]
  },
  {
   "cell_type": "code",
   "execution_count": 1,
   "metadata": {},
   "outputs": [],
   "source": [
    "import tkinter as tk\n",
    "base = tk.Tk()\n",
    "def push():\n",
    "    print('MELON !')\n",
    "\n",
    "button = tk.Button(base, text=\"WATER\", command=push).pack()"
   ]
  },
  {
   "cell_type": "code",
   "execution_count": 2,
   "metadata": {},
   "outputs": [],
   "source": [
    "import tkinter as tk\n",
    "base = tk.Tk()\n",
    "tk.Label(base, text='赤', bg='red', width=20).pack()\n",
    "tk.Label(base, text='緑', bg='green', width=20).pack()\n",
    "tk.Label(base, text='青', bg='blue', width=20).pack()"
   ]
  },
  {
   "cell_type": "code",
   "execution_count": 6,
   "metadata": {},
   "outputs": [],
   "source": [
    "import tkinter as tk\n",
    "base = tk.Tk()\n",
    "topping = {0:'ノリ', 1:'煮卵', 2:'もやし', 3:'チャーシュー'}\n",
    "check_value ={}\n",
    "for i in range(len(topping)):\n",
    "    check_value[i] = tk.BooleanVar()\n",
    "    tk.Checkbutton(base, variable=check_value[i], text=topping[i]).pack(anchor=tk.W)\n",
    "\n",
    "def buy():\n",
    "    for i in check_value:\n",
    "        if check_value[i].get() == True:\n",
    "            print(topping[i])\n",
    "\n",
    "tk.Button(base, text='注文', command=buy).pack()\n",
    "base.mainloop()\n",
    "\n"
   ]
  },
  {
   "cell_type": "code",
   "execution_count": 7,
   "metadata": {},
   "outputs": [],
   "source": [
    "import tkinter as tk\n",
    "base = tk.Tk()\n",
    "radio_value = tk.IntVar()\n",
    "radio_value.set(1)\n",
    "lunch = {0 : 'Aランチ', 1 : 'Bランチ', 2 : 'Cランチ'}\n",
    "tk.Radiobutton(base, text = lunch[0], variable = radio_value, value = 0).pack()\n",
    "tk.Radiobutton(base, text = lunch[1], variable = radio_value, value = 1).pack()\n",
    "tk.Radiobutton(base, text = lunch[2], variable = radio_value, value = 2).pack()\n",
    "def buy():\n",
    "    value = radio_value.get()\n",
    "    print(lunch[value])\n",
    "\n",
    "tk.Button(base, text = '注文', command = buy).pack()"
   ]
  },
  {
   "cell_type": "code",
   "execution_count": 8,
   "metadata": {},
   "outputs": [],
   "source": [
    "import tkinter as tk\n",
    "base = tk.Tk()\n",
    "string = tk.StringVar()\n",
    "entry = tk.Entry(base, textvariable=string).pack()\n",
    "label = tk.Label(base, textvariable=string).pack()"
   ]
  },
  {
   "cell_type": "code",
   "execution_count": 9,
   "metadata": {},
   "outputs": [],
   "source": [
    "import tkinter as tk\n",
    "base = tk.Tk()\n",
    "def fileopen():\n",
    "    print('ファイルを開く処理')\n",
    "\n",
    "menubar = tk.Menu(base)\n",
    "filemenu =tk.Menu(menubar)\n",
    "menubar.add_cascade(label='ファイル', menu=filemenu)\n",
    "filemenu.add_command(label='ファイルを開く', command=fileopen)\n",
    "base.config(menu=menubar)\n",
    "base.mainloop()"
   ]
  },
  {
   "cell_type": "code",
   "execution_count": 12,
   "metadata": {},
   "outputs": [
    {
     "name": "stderr",
     "output_type": "stream",
     "text": [
      "Exception in Tkinter callback\n",
      "Traceback (most recent call last):\n",
      "  File \"c:\\Users\\pokat\\AppData\\Local\\Programs\\Python\\Python310\\lib\\tkinter\\__init__.py\", line 1921, in __call__\n",
      "    return self.func(*args)\n",
      "  File \"C:\\Users\\pokat\\AppData\\Local\\Temp\\ipykernel_19312\\1395669737.py\", line 5, in open\n",
      "    filename = fd.askopefilename()\n",
      "AttributeError: module 'tkinter.filedialog' has no attribute 'askopefilename'\n"
     ]
    },
    {
     "name": "stdout",
     "output_type": "stream",
     "text": [
      "find ! \n"
     ]
    },
    {
     "name": "stderr",
     "output_type": "stream",
     "text": [
      "Exception in Tkinter callback\n",
      "Traceback (most recent call last):\n",
      "  File \"c:\\Users\\pokat\\AppData\\Local\\Programs\\Python\\Python310\\lib\\tkinter\\__init__.py\", line 1921, in __call__\n",
      "    return self.func(*args)\n",
      "  File \"C:\\Users\\pokat\\AppData\\Local\\Temp\\ipykernel_19312\\1395669737.py\", line 5, in open\n",
      "    filename = fd.askopefilename()\n",
      "AttributeError: module 'tkinter.filedialog' has no attribute 'askopefilename'\n"
     ]
    }
   ],
   "source": [
    "import tkinter as tk\n",
    "import tkinter.filedialog as fd\n",
    "base = tk.Tk()\n",
    "def open():\n",
    "    filename = fd.askopefilename()\n",
    "    print('open file => ' + filename)\n",
    "\n",
    "def exit():\n",
    "    base.destroy()\n",
    "\n",
    "def find():\n",
    "    print('find ! ')\n",
    "\n",
    "menubar = tk.Menu(base)\n",
    "filemenu =tk.Menu(menubar)\n",
    "menubar.add_cascade(label='file', menu=filemenu)\n",
    "filemenu.add_command(label='open', command=open)\n",
    "filemenu.add_separator()\n",
    "filemenu.add_command(label='exit', command=exit)\n",
    "editmenu = tk.Menu(menubar)\n",
    "menubar.add_cascade(label='edit', menu=editmenu)\n",
    "editmenu.add_command(label='find', command=find)\n",
    "base.config(menu=menubar)\n",
    "base.mainloop()"
   ]
  }
 ],
 "metadata": {
  "kernelspec": {
   "display_name": "Python 3.10.4 64-bit",
   "language": "python",
   "name": "python3"
  },
  "language_info": {
   "codemirror_mode": {
    "name": "ipython",
    "version": 3
   },
   "file_extension": ".py",
   "mimetype": "text/x-python",
   "name": "python",
   "nbconvert_exporter": "python",
   "pygments_lexer": "ipython3",
   "version": "3.10.4"
  },
  "orig_nbformat": 4,
  "vscode": {
   "interpreter": {
    "hash": "419284614519436501c3aebe476c3f7ba1d8e2765297e8b8519b078b7a2e26ad"
   }
  }
 },
 "nbformat": 4,
 "nbformat_minor": 2
}
