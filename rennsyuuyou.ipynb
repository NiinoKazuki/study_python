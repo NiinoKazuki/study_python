{
 "cells": [
  {
   "cell_type": "code",
   "execution_count": 21,
   "metadata": {},
   "outputs": [
    {
     "name": "stdout",
     "output_type": "stream",
     "text": [
      "      May 2022\n",
      "Mo Tu We Th Fr Sa Su\n",
      "                   1\n",
      " 2  3  4  5  6  7  8\n",
      " 9 10 11 12 13 14 15\n",
      "16 17 18 19 20 21 22\n",
      "23 24 25 26 27 28 29\n",
      "30 31\n",
      "\n"
     ]
    }
   ],
   "source": [
    "import calendar\n",
    "print(calendar.month(2022,5))"
   ]
  },
  {
   "cell_type": "code",
   "execution_count": 22,
   "metadata": {},
   "outputs": [],
   "source": [
    "import tkinter as tk\n",
    "base = tk.Tk()\n",
    "radio_value = tk.IntVar()"
   ]
  },
  {
   "cell_type": "code",
   "execution_count": 23,
   "metadata": {},
   "outputs": [
    {
     "data": {
      "text/plain": [
       "4453"
      ]
     },
     "execution_count": 23,
     "metadata": {},
     "output_type": "execute_result"
    }
   ],
   "source": [
    "1129 + 3324"
   ]
  },
  {
   "cell_type": "code",
   "execution_count": 24,
   "metadata": {},
   "outputs": [
    {
     "data": {
      "text/plain": [
       "3797"
      ]
     },
     "execution_count": 24,
     "metadata": {},
     "output_type": "execute_result"
    }
   ],
   "source": [
    "3473 + 324"
   ]
  },
  {
   "cell_type": "code",
   "execution_count": 25,
   "metadata": {},
   "outputs": [
    {
     "data": {
      "text/plain": [
       "3024.0"
      ]
     },
     "execution_count": 25,
     "metadata": {},
     "output_type": "execute_result"
    }
   ],
   "source": [
    "2800 *1.08"
   ]
  },
  {
   "cell_type": "code",
   "execution_count": 26,
   "metadata": {},
   "outputs": [
    {
     "data": {
      "text/plain": [
       "220"
      ]
     },
     "execution_count": 26,
     "metadata": {},
     "output_type": "execute_result"
    }
   ],
   "source": [
    "(40 + 50) * 3 - 50"
   ]
  },
  {
   "cell_type": "code",
   "execution_count": 27,
   "metadata": {},
   "outputs": [
    {
     "data": {
      "text/plain": [
       "0"
      ]
     },
     "execution_count": 27,
     "metadata": {},
     "output_type": "execute_result"
    }
   ],
   "source": [
    "255 % 3"
   ]
  },
  {
   "cell_type": "code",
   "execution_count": 28,
   "metadata": {},
   "outputs": [
    {
     "data": {
      "text/plain": [
       "8"
      ]
     },
     "execution_count": 28,
     "metadata": {},
     "output_type": "execute_result"
    }
   ],
   "source": [
    "2 ** 3"
   ]
  },
  {
   "cell_type": "code",
   "execution_count": 29,
   "metadata": {},
   "outputs": [
    {
     "data": {
      "text/plain": [
       "(1+9j)"
      ]
     },
     "execution_count": 29,
     "metadata": {},
     "output_type": "execute_result"
    }
   ],
   "source": [
    "(4 + 5j) - (3 - 4j)"
   ]
  },
  {
   "cell_type": "markdown",
   "metadata": {},
   "source": [
    "2-2"
   ]
  },
  {
   "cell_type": "code",
   "execution_count": 30,
   "metadata": {},
   "outputs": [],
   "source": [
    "tax = 0.1\n",
    "price = 120\n",
    "suzuki_telephone = '090-1234-5678'"
   ]
  },
  {
   "cell_type": "code",
   "execution_count": 31,
   "metadata": {},
   "outputs": [
    {
     "data": {
      "text/plain": [
       "0.1"
      ]
     },
     "execution_count": 31,
     "metadata": {},
     "output_type": "execute_result"
    }
   ],
   "source": [
    "tax"
   ]
  },
  {
   "cell_type": "code",
   "execution_count": 32,
   "metadata": {},
   "outputs": [
    {
     "data": {
      "text/plain": [
       "12.0"
      ]
     },
     "execution_count": 32,
     "metadata": {},
     "output_type": "execute_result"
    }
   ],
   "source": [
    "price * tax"
   ]
  },
  {
   "cell_type": "code",
   "execution_count": 33,
   "metadata": {},
   "outputs": [
    {
     "data": {
      "text/plain": [
       "12.0"
      ]
     },
     "execution_count": 33,
     "metadata": {},
     "output_type": "execute_result"
    }
   ],
   "source": [
    "120 * 0.1"
   ]
  },
  {
   "cell_type": "code",
   "execution_count": 34,
   "metadata": {},
   "outputs": [
    {
     "ename": "SyntaxError",
     "evalue": "invalid decimal literal (1331102762.py, line 3)",
     "output_type": "error",
     "traceback": [
      "\u001b[1;36m  Input \u001b[1;32mIn [34]\u001b[1;36m\u001b[0m\n\u001b[1;33m    2value= 500\u001b[0m\n\u001b[1;37m    ^\u001b[0m\n\u001b[1;31mSyntaxError\u001b[0m\u001b[1;31m:\u001b[0m invalid decimal literal\n"
     ]
    }
   ],
   "source": [
    "value = 100\n",
    "_value = 300\n",
    "2value= 500"
   ]
  },
  {
   "cell_type": "code",
   "execution_count": 35,
   "metadata": {},
   "outputs": [
    {
     "ename": "SyntaxError",
     "evalue": "invalid syntax (2339774013.py, line 1)",
     "output_type": "error",
     "traceback": [
      "\u001b[1;36m  Input \u001b[1;32mIn [35]\u001b[1;36m\u001b[0m\n\u001b[1;33m    finally = 888\u001b[0m\n\u001b[1;37m    ^\u001b[0m\n\u001b[1;31mSyntaxError\u001b[0m\u001b[1;31m:\u001b[0m invalid syntax\n"
     ]
    }
   ],
   "source": [
    "finally = 888"
   ]
  },
  {
   "cell_type": "code",
   "execution_count": null,
   "metadata": {},
   "outputs": [
    {
     "ename": "SyntaxError",
     "evalue": "invalid syntax (590548611.py, line 1)",
     "output_type": "error",
     "traceback": [
      "\u001b[1;36m  Input \u001b[1;32mIn [18]\u001b[1;36m\u001b[0m\n\u001b[1;33m    global = 127\u001b[0m\n\u001b[1;37m           ^\u001b[0m\n\u001b[1;31mSyntaxError\u001b[0m\u001b[1;31m:\u001b[0m invalid syntax\n"
     ]
    }
   ],
   "source": [
    "global = 127"
   ]
  },
  {
   "cell_type": "code",
   "execution_count": null,
   "metadata": {},
   "outputs": [
    {
     "data": {
      "text/plain": [
       "['False',\n",
       " 'None',\n",
       " 'True',\n",
       " 'and',\n",
       " 'as',\n",
       " 'assert',\n",
       " 'async',\n",
       " 'await',\n",
       " 'break',\n",
       " 'class',\n",
       " 'continue',\n",
       " 'def',\n",
       " 'del',\n",
       " 'elif',\n",
       " 'else',\n",
       " 'except',\n",
       " 'finally',\n",
       " 'for',\n",
       " 'from',\n",
       " 'global',\n",
       " 'if',\n",
       " 'import',\n",
       " 'in',\n",
       " 'is',\n",
       " 'lambda',\n",
       " 'nonlocal',\n",
       " 'not',\n",
       " 'or',\n",
       " 'pass',\n",
       " 'raise',\n",
       " 'return',\n",
       " 'try',\n",
       " 'while',\n",
       " 'with',\n",
       " 'yield']"
      ]
     },
     "execution_count": 19,
     "metadata": {},
     "output_type": "execute_result"
    }
   ],
   "source": [
    "import keyword\n",
    "keyword.kwlist"
   ]
  },
  {
   "cell_type": "code",
   "execution_count": 36,
   "metadata": {},
   "outputs": [
    {
     "data": {
      "text/plain": [
       "True"
      ]
     },
     "execution_count": 36,
     "metadata": {},
     "output_type": "execute_result"
    }
   ],
   "source": [
    "34 > 22"
   ]
  },
  {
   "cell_type": "code",
   "execution_count": 37,
   "metadata": {},
   "outputs": [
    {
     "data": {
      "text/plain": [
       "False"
      ]
     },
     "execution_count": 37,
     "metadata": {},
     "output_type": "execute_result"
    }
   ],
   "source": [
    "34 < 22"
   ]
  },
  {
   "cell_type": "code",
   "execution_count": 38,
   "metadata": {},
   "outputs": [
    {
     "data": {
      "text/plain": [
       "True"
      ]
     },
     "execution_count": 38,
     "metadata": {},
     "output_type": "execute_result"
    }
   ],
   "source": [
    "apple = 15\n",
    "apple ==15"
   ]
  },
  {
   "cell_type": "code",
   "execution_count": 39,
   "metadata": {},
   "outputs": [
    {
     "data": {
      "text/plain": [
       "90"
      ]
     },
     "execution_count": 39,
     "metadata": {},
     "output_type": "execute_result"
    }
   ],
   "source": [
    "34 + 56"
   ]
  },
  {
   "cell_type": "code",
   "execution_count": 40,
   "metadata": {},
   "outputs": [],
   "source": [
    "number = 55"
   ]
  },
  {
   "cell_type": "code",
   "execution_count": 41,
   "metadata": {},
   "outputs": [
    {
     "data": {
      "text/plain": [
       "8.4"
      ]
     },
     "execution_count": 41,
     "metadata": {},
     "output_type": "execute_result"
    }
   ],
   "source": [
    "5 + 3.4"
   ]
  },
  {
   "cell_type": "code",
   "execution_count": 43,
   "metadata": {},
   "outputs": [],
   "source": [
    "complex = 5 + 5j"
   ]
  },
  {
   "cell_type": "code",
   "execution_count": 42,
   "metadata": {},
   "outputs": [
    {
     "data": {
      "text/plain": [
       "'happy birthday!!'"
      ]
     },
     "execution_count": 42,
     "metadata": {},
     "output_type": "execute_result"
    }
   ],
   "source": [
    "'happy birthday!!'"
   ]
  },
  {
   "cell_type": "code",
   "execution_count": 44,
   "metadata": {},
   "outputs": [],
   "source": [
    "message = 'おめでとう'"
   ]
  },
  {
   "cell_type": "code",
   "execution_count": 45,
   "metadata": {},
   "outputs": [
    {
     "ename": "NameError",
     "evalue": "name 'Sunday' is not defined",
     "output_type": "error",
     "traceback": [
      "\u001b[1;31m---------------------------------------------------------------------------\u001b[0m",
      "\u001b[1;31mNameError\u001b[0m                                 Traceback (most recent call last)",
      "\u001b[1;32mc:\\Users\\pokat\\コード\\rennsyuuyou.ipynb Cell 28'\u001b[0m in \u001b[0;36m<cell line: 1>\u001b[1;34m()\u001b[0m\n\u001b[1;32m----> <a href='vscode-notebook-cell:/c%3A/Users/pokat/%E3%82%B3%E3%83%BC%E3%83%89/rennsyuuyou.ipynb#ch0000027?line=0'>1</a>\u001b[0m Sunday\n\u001b[0;32m      <a href='vscode-notebook-cell:/c%3A/Users/pokat/%E3%82%B3%E3%83%BC%E3%83%89/rennsyuuyou.ipynb#ch0000027?line=1'>2</a>\u001b[0m Monday\n\u001b[0;32m      <a href='vscode-notebook-cell:/c%3A/Users/pokat/%E3%82%B3%E3%83%BC%E3%83%89/rennsyuuyou.ipynb#ch0000027?line=2'>3</a>\u001b[0m Tuesday\n",
      "\u001b[1;31mNameError\u001b[0m: name 'Sunday' is not defined"
     ]
    }
   ],
   "source": [
    "Sunday\n",
    "Monday\n",
    "Tuesday"
   ]
  },
  {
   "cell_type": "code",
   "execution_count": 47,
   "metadata": {},
   "outputs": [
    {
     "data": {
      "text/plain": [
       "'thunderbolt'"
      ]
     },
     "execution_count": 47,
     "metadata": {},
     "output_type": "execute_result"
    }
   ],
   "source": [
    "'thunder' + 'bolt'\n"
   ]
  },
  {
   "cell_type": "code",
   "execution_count": 48,
   "metadata": {},
   "outputs": [
    {
     "data": {
      "text/plain": [
       "'monstermonster'"
      ]
     },
     "execution_count": 48,
     "metadata": {},
     "output_type": "execute_result"
    }
   ],
   "source": [
    "'monster' * 2"
   ]
  },
  {
   "cell_type": "code",
   "execution_count": 49,
   "metadata": {},
   "outputs": [
    {
     "data": {
      "text/plain": [
       "'HELLO'"
      ]
     },
     "execution_count": 49,
     "metadata": {},
     "output_type": "execute_result"
    }
   ],
   "source": [
    "text = 'hello'\n",
    "text.upper()"
   ]
  },
  {
   "cell_type": "code",
   "execution_count": 50,
   "metadata": {},
   "outputs": [
    {
     "data": {
      "text/plain": [
       "3"
      ]
     },
     "execution_count": 50,
     "metadata": {},
     "output_type": "execute_result"
    }
   ],
   "source": [
    "word = 'maintenance'\n",
    "word.count('n')"
   ]
  },
  {
   "cell_type": "code",
   "execution_count": 51,
   "metadata": {},
   "outputs": [],
   "source": [
    "Agroup = ['kazu' , 'gorou']\n",
    "Bgroup = ['syun' , ' haruka']"
   ]
  },
  {
   "cell_type": "code",
   "execution_count": 52,
   "metadata": {},
   "outputs": [
    {
     "data": {
      "text/plain": [
       "'kazu'"
      ]
     },
     "execution_count": 52,
     "metadata": {},
     "output_type": "execute_result"
    }
   ],
   "source": [
    "Agroup[0] "
   ]
  },
  {
   "cell_type": "code",
   "execution_count": 53,
   "metadata": {},
   "outputs": [
    {
     "data": {
      "text/plain": [
       "['kazu', 'gorou', 'dai']"
      ]
     },
     "execution_count": 53,
     "metadata": {},
     "output_type": "execute_result"
    }
   ],
   "source": [
    "Agroup.append('dai')\n",
    "Agroup"
   ]
  },
  {
   "cell_type": "code",
   "execution_count": 54,
   "metadata": {},
   "outputs": [],
   "source": [
    "Agroup.remove('kazu')"
   ]
  },
  {
   "cell_type": "code",
   "execution_count": 55,
   "metadata": {},
   "outputs": [
    {
     "data": {
      "text/plain": [
       "['dai', 'gorou']"
      ]
     },
     "execution_count": 55,
     "metadata": {},
     "output_type": "execute_result"
    }
   ],
   "source": [
    "Agroup.sort()\n",
    "Agroup"
   ]
  },
  {
   "cell_type": "code",
   "execution_count": 56,
   "metadata": {},
   "outputs": [
    {
     "data": {
      "text/plain": [
       "[55, 66, 78, 87, 99]"
      ]
     },
     "execution_count": 56,
     "metadata": {},
     "output_type": "execute_result"
    }
   ],
   "source": [
    "test_result = [87, 55, 99, 66, 78]\n",
    "test_result.sort()\n",
    "test_result"
   ]
  },
  {
   "cell_type": "markdown",
   "metadata": {},
   "source": [
    "#辞書型に関して"
   ]
  },
  {
   "cell_type": "code",
   "execution_count": 57,
   "metadata": {},
   "outputs": [],
   "source": [
    "activities = {'monoday':'バスケ', 'tuesday':'自転車', 'Wedenesday':'軽音' , 'friday':'水泳'} "
   ]
  },
  {
   "cell_type": "code",
   "execution_count": 58,
   "metadata": {},
   "outputs": [
    {
     "data": {
      "text/plain": [
       "'自転車'"
      ]
     },
     "execution_count": 58,
     "metadata": {},
     "output_type": "execute_result"
    }
   ],
   "source": [
    "activities['tuesday']\n"
   ]
  },
  {
   "cell_type": "code",
   "execution_count": 59,
   "metadata": {},
   "outputs": [
    {
     "data": {
      "text/plain": [
       "'水泳'"
      ]
     },
     "execution_count": 59,
     "metadata": {},
     "output_type": "execute_result"
    }
   ],
   "source": [
    "activities['friday']"
   ]
  },
  {
   "cell_type": "code",
   "execution_count": 60,
   "metadata": {},
   "outputs": [
    {
     "data": {
      "text/plain": [
       "dict_keys(['monoday', 'tuesday', 'Wedenesday', 'friday'])"
      ]
     },
     "execution_count": 60,
     "metadata": {},
     "output_type": "execute_result"
    }
   ],
   "source": [
    "activities.keys()"
   ]
  },
  {
   "cell_type": "code",
   "execution_count": 61,
   "metadata": {},
   "outputs": [
    {
     "data": {
      "text/plain": [
       "dict_values(['バスケ', '自転車', '軽音', '水泳'])"
      ]
     },
     "execution_count": 61,
     "metadata": {},
     "output_type": "execute_result"
    }
   ],
   "source": [
    "activities.values()"
   ]
  },
  {
   "cell_type": "markdown",
   "metadata": {},
   "source": [
    "keys:辞書型の見出し　values:内容のデータ"
   ]
  },
  {
   "cell_type": "markdown",
   "metadata": {},
   "source": [
    "#タプル型に関して　複数の要素をカンマで区切ったもの（）"
   ]
  },
  {
   "cell_type": "code",
   "execution_count": 63,
   "metadata": {},
   "outputs": [
    {
     "name": "stdout",
     "output_type": "stream",
     "text": [
      "('apple', 3, 90.4)\n"
     ]
    }
   ],
   "source": [
    "tuple_sumple = ('apple', 3 , 90.4)\n",
    "print(tuple_sumple)"
   ]
  },
  {
   "cell_type": "code",
   "execution_count": 71,
   "metadata": {},
   "outputs": [],
   "source": [
    "flavor_tuple = ('ミント', 'チョコ', 'ストロベリー',  'バニラ')\n"
   ]
  },
  {
   "cell_type": "code",
   "execution_count": 72,
   "metadata": {},
   "outputs": [
    {
     "ename": "TypeError",
     "evalue": "'tuple' object does not support item assignment",
     "output_type": "error",
     "traceback": [
      "\u001b[1;31m---------------------------------------------------------------------------\u001b[0m",
      "\u001b[1;31mTypeError\u001b[0m                                 Traceback (most recent call last)",
      "\u001b[1;32mc:\\Users\\pokat\\コード\\rennsyuuyou.ipynb Cell 49'\u001b[0m in \u001b[0;36m<cell line: 1>\u001b[1;34m()\u001b[0m\n\u001b[1;32m----> <a href='vscode-notebook-cell:/c%3A/Users/pokat/%E3%82%B3%E3%83%BC%E3%83%89/rennsyuuyou.ipynb#ch0000051?line=0'>1</a>\u001b[0m flavor_tuple[\u001b[39m0\u001b[39m] \u001b[39m=\u001b[39m \u001b[39m'\u001b[39m\u001b[39mラムレーズン\u001b[39m\u001b[39m'\u001b[39m\n",
      "\u001b[1;31mTypeError\u001b[0m: 'tuple' object does not support item assignment"
     ]
    }
   ],
   "source": [
    "flavor_tuple[0] = 'ラムレーズン'"
   ]
  },
  {
   "cell_type": "code",
   "execution_count": 73,
   "metadata": {},
   "outputs": [
    {
     "name": "stdout",
     "output_type": "stream",
     "text": [
      "('ミント', 'チョコ', 'ストロベリー', 'バニラ')\n"
     ]
    }
   ],
   "source": [
    "print(flavor_tuple)"
   ]
  },
  {
   "cell_type": "markdown",
   "metadata": {},
   "source": [
    "タプル型特徴①　新要素の追加ができない\n",
    "　　　　　　②　辞書のkeyになる"
   ]
  },
  {
   "cell_type": "code",
   "execution_count": 74,
   "metadata": {},
   "outputs": [
    {
     "name": "stdout",
     "output_type": "stream",
     "text": [
      "{('kamata', '08-01'): '70kg'}\n"
     ]
    }
   ],
   "source": [
    "diary = {}\n",
    "key = ('kamata', '08-01')\n",
    "diary[key] = '70kg'\n",
    "print(diary)"
   ]
  },
  {
   "cell_type": "code",
   "execution_count": 75,
   "metadata": {},
   "outputs": [
    {
     "ename": "TypeError",
     "evalue": "unhashable type: 'list'",
     "output_type": "error",
     "traceback": [
      "\u001b[1;31m---------------------------------------------------------------------------\u001b[0m",
      "\u001b[1;31mTypeError\u001b[0m                                 Traceback (most recent call last)",
      "\u001b[1;32mc:\\Users\\pokat\\コード\\rennsyuuyou.ipynb Cell 53'\u001b[0m in \u001b[0;36m<cell line: 3>\u001b[1;34m()\u001b[0m\n\u001b[0;32m      <a href='vscode-notebook-cell:/c%3A/Users/pokat/%E3%82%B3%E3%83%BC%E3%83%89/rennsyuuyou.ipynb#ch0000055?line=0'>1</a>\u001b[0m diary \u001b[39m=\u001b[39m {}\n\u001b[0;32m      <a href='vscode-notebook-cell:/c%3A/Users/pokat/%E3%82%B3%E3%83%BC%E3%83%89/rennsyuuyou.ipynb#ch0000055?line=1'>2</a>\u001b[0m key \u001b[39m=\u001b[39m [\u001b[39m'\u001b[39m\u001b[39mkamata\u001b[39m\u001b[39m'\u001b[39m, \u001b[39m'\u001b[39m\u001b[39m08-01\u001b[39m\u001b[39m'\u001b[39m]\n\u001b[1;32m----> <a href='vscode-notebook-cell:/c%3A/Users/pokat/%E3%82%B3%E3%83%BC%E3%83%89/rennsyuuyou.ipynb#ch0000055?line=2'>3</a>\u001b[0m diary[key] \u001b[39m=\u001b[39m \u001b[39m'\u001b[39m\u001b[39m50kg\u001b[39m\u001b[39m'\u001b[39m\n",
      "\u001b[1;31mTypeError\u001b[0m: unhashable type: 'list'"
     ]
    }
   ],
   "source": [
    "diary = {}\n",
    "key = ['kamata', '08-01']\n",
    "diary[key] = '50kg'"
   ]
  },
  {
   "cell_type": "code",
   "execution_count": 76,
   "metadata": {},
   "outputs": [
    {
     "name": "stdout",
     "output_type": "stream",
     "text": [
      "{'delicious', 'fantastic'}\n"
     ]
    }
   ],
   "source": [
    "candy = {'delicious', 'fantastic'}\n",
    "print(candy)"
   ]
  },
  {
   "cell_type": "code",
   "execution_count": 77,
   "metadata": {},
   "outputs": [
    {
     "name": "stdout",
     "output_type": "stream",
     "text": [
      "{'d', 'c', 'l', 'u', 's', 'e', 'o', 'i'}\n"
     ]
    }
   ],
   "source": [
    "candy = set('delicious')\n",
    "print(candy)"
   ]
  },
  {
   "cell_type": "code",
   "execution_count": 78,
   "metadata": {},
   "outputs": [
    {
     "data": {
      "text/plain": [
       "{'apple', 'peach', 'soda'}"
      ]
     },
     "execution_count": 78,
     "metadata": {},
     "output_type": "execute_result"
    }
   ],
   "source": [
    "flavor = ['apple' ,'peach', 'soda']\n",
    "candy = set(flavor)\n",
    "candy"
   ]
  },
  {
   "cell_type": "code",
   "execution_count": 81,
   "metadata": {},
   "outputs": [
    {
     "data": {
      "text/plain": [
       "{'apple', 'grape', 'peach', 'soda'}"
      ]
     },
     "execution_count": 81,
     "metadata": {},
     "output_type": "execute_result"
    }
   ],
   "source": [
    "candy.update(['grape'])\n",
    "candy"
   ]
  },
  {
   "cell_type": "code",
   "execution_count": 82,
   "metadata": {},
   "outputs": [
    {
     "name": "stdout",
     "output_type": "stream",
     "text": [
      "{'my_love', 'life', 'good_time'}\n"
     ]
    }
   ],
   "source": [
    "music = ['my_love', 'life', 'life', 'good_time']\n",
    "music_set = set(music)\n",
    "print(music_set)"
   ]
  },
  {
   "cell_type": "code",
   "execution_count": 83,
   "metadata": {},
   "outputs": [
    {
     "name": "stdout",
     "output_type": "stream",
     "text": [
      "['my_love', 'life', 'good_time']\n"
     ]
    }
   ],
   "source": [
    "music = list(music_set)\n",
    "print(music)"
   ]
  },
  {
   "cell_type": "code",
   "execution_count": 84,
   "metadata": {},
   "outputs": [
    {
     "data": {
      "text/plain": [
       "{'loyality'}"
      ]
     },
     "execution_count": 84,
     "metadata": {},
     "output_type": "execute_result"
    }
   ],
   "source": [
    "limited_cd = {'good_day', 'chocolate', 'loyality'}\n",
    "normal_cd = {'good_day', 'chocolate'}\n",
    "limited_cd - normal_cd\n"
   ]
  },
  {
   "cell_type": "code",
   "execution_count": 85,
   "metadata": {},
   "outputs": [
    {
     "data": {
      "text/plain": [
       "{'chocolate', 'good_day'}"
      ]
     },
     "execution_count": 85,
     "metadata": {},
     "output_type": "execute_result"
    }
   ],
   "source": [
    "limited_cd & normal_cd"
   ]
  },
  {
   "cell_type": "markdown",
   "metadata": {},
   "source": [
    "条件分岐(if文)"
   ]
  },
  {
   "cell_type": "code",
   "execution_count": 88,
   "metadata": {},
   "outputs": [
    {
     "name": "stdout",
     "output_type": "stream",
     "text": [
      "チケットを売る\n"
     ]
    }
   ],
   "source": [
    "age = 29\n",
    "if(18 <= age):\n",
    "    print('チケットを売る')"
   ]
  },
  {
   "cell_type": "code",
   "execution_count": 89,
   "metadata": {},
   "outputs": [],
   "source": [
    "age = 15\n",
    "if(18 <= age):\n",
    "    print('チケットを売る')"
   ]
  },
  {
   "cell_type": "code",
   "execution_count": 90,
   "metadata": {},
   "outputs": [
    {
     "name": "stdout",
     "output_type": "stream",
     "text": [
      "チケットを売る\n"
     ]
    }
   ],
   "source": [
    "age = 29\n",
    "if(18 <= age):\n",
    "    print('チケットを売る')\n",
    "else:\n",
    "    print('チケットを売ることは出来ません')"
   ]
  },
  {
   "cell_type": "code",
   "execution_count": 91,
   "metadata": {},
   "outputs": [
    {
     "name": "stdout",
     "output_type": "stream",
     "text": [
      "チケットは1000円です\n"
     ]
    }
   ],
   "source": [
    "age = 70\n",
    "if (60<=age):\n",
    "    print('チケットは1000円です')\n",
    "elif(18<=age):\n",
    "    print('チケットは1800円です')\n",
    "else:\n",
    "    print('チケットを売ることは出来ません')"
   ]
  },
  {
   "cell_type": "code",
   "execution_count": 92,
   "metadata": {},
   "outputs": [
    {
     "name": "stdout",
     "output_type": "stream",
     "text": [
      "チケットは1800円です\n"
     ]
    }
   ],
   "source": [
    "age = 70\n",
    "if (18<=age):\n",
    "    print('チケットは1800円です')\n",
    "elif(60<=age):\n",
    "    print('チケットは1000円です')\n",
    "else:\n",
    "    print('チケットを売ることは出来ません')"
   ]
  },
  {
   "cell_type": "code",
   "execution_count": 93,
   "metadata": {},
   "outputs": [
    {
     "name": "stdout",
     "output_type": "stream",
     "text": [
      "チケットは1000円です\n"
     ]
    }
   ],
   "source": [
    "age = 70\n",
    "if (18<=age<=59):\n",
    "    print('チケットは1800円です')\n",
    "elif(60<=age):\n",
    "    print('チケットは1000円です')\n",
    "else:\n",
    "    print('チケットを売ることは出来ません')"
   ]
  },
  {
   "cell_type": "code",
   "execution_count": 96,
   "metadata": {},
   "outputs": [
    {
     "name": "stdout",
     "output_type": "stream",
     "text": [
      "いつもありがとうございます。今回は1000円です\n"
     ]
    }
   ],
   "source": [
    "pointcard = True\n",
    "count = 5\n",
    "if(pointcard == True):\n",
    "    if(count == 5):\n",
    "        print('いつもありがとうございます。今回は1000円です')"
   ]
  },
  {
   "cell_type": "code",
   "execution_count": 97,
   "metadata": {},
   "outputs": [
    {
     "data": {
      "text/plain": [
       "True"
      ]
     },
     "execution_count": 97,
     "metadata": {},
     "output_type": "execute_result"
    }
   ],
   "source": [
    "pointcard = True\n",
    "count = 5\n",
    "pointcard == True"
   ]
  },
  {
   "cell_type": "code",
   "execution_count": 98,
   "metadata": {},
   "outputs": [
    {
     "data": {
      "text/plain": [
       "True"
      ]
     },
     "execution_count": 98,
     "metadata": {},
     "output_type": "execute_result"
    }
   ],
   "source": [
    "count == 5"
   ]
  },
  {
   "cell_type": "code",
   "execution_count": 100,
   "metadata": {},
   "outputs": [
    {
     "data": {
      "text/plain": [
       "True"
      ]
     },
     "execution_count": 100,
     "metadata": {},
     "output_type": "execute_result"
    }
   ],
   "source": [
    "(pointcard == True) and (count == 5)"
   ]
  },
  {
   "cell_type": "code",
   "execution_count": 101,
   "metadata": {},
   "outputs": [
    {
     "data": {
      "text/plain": [
       "False"
      ]
     },
     "execution_count": 101,
     "metadata": {},
     "output_type": "execute_result"
    }
   ],
   "source": [
    "pointcard = False\n",
    "count = 5\n",
    "pointcard == True"
   ]
  },
  {
   "cell_type": "code",
   "execution_count": 102,
   "metadata": {},
   "outputs": [
    {
     "data": {
      "text/plain": [
       "True"
      ]
     },
     "execution_count": 102,
     "metadata": {},
     "output_type": "execute_result"
    }
   ],
   "source": [
    "count ==5"
   ]
  },
  {
   "cell_type": "code",
   "execution_count": 103,
   "metadata": {},
   "outputs": [
    {
     "data": {
      "text/plain": [
       "False"
      ]
     },
     "execution_count": 103,
     "metadata": {},
     "output_type": "execute_result"
    }
   ],
   "source": [
    "(pointcard == True) and (count==5)"
   ]
  },
  {
   "cell_type": "code",
   "execution_count": 104,
   "metadata": {},
   "outputs": [
    {
     "name": "stdout",
     "output_type": "stream",
     "text": [
      "いつもありがとうございます。今回は1000円です\n"
     ]
    }
   ],
   "source": [
    "pointcard = True\n",
    "count = 5\n",
    "if(pointcard == True) and  (count == 5):\n",
    "    print('いつもありがとうございます。今回は1000円です')"
   ]
  },
  {
   "cell_type": "code",
   "execution_count": 109,
   "metadata": {},
   "outputs": [
    {
     "name": "stdout",
     "output_type": "stream",
     "text": [
      "チケットは1000円です\n"
     ]
    }
   ],
   "source": [
    "age = 35\n",
    "pointcard = True\n",
    "count = 5\n",
    "if(age < 18):\n",
    "    print('チケットを売ることは出来ません')\n",
    "elif((60 <= age)or((pointcard == True) and (count == 5))):\n",
    "    print('チケットは1000円です')\n",
    "else:\n",
    "    print('チケットは1800円です')"
   ]
  },
  {
   "cell_type": "code",
   "execution_count": 110,
   "metadata": {},
   "outputs": [
    {
     "name": "stdout",
     "output_type": "stream",
     "text": [
      "繰り返します\n",
      "0\n",
      "繰り返します\n",
      "1\n",
      "繰り返します\n",
      "2\n"
     ]
    }
   ],
   "source": [
    "for count in range(3):\n",
    "    print('繰り返します')\n",
    "    print(count)"
   ]
  },
  {
   "cell_type": "code",
   "execution_count": 111,
   "metadata": {},
   "outputs": [
    {
     "name": "stdout",
     "output_type": "stream",
     "text": [
      "n\n",
      "i\n",
      "n\n",
      "j\n",
      "a\n"
     ]
    }
   ],
   "source": [
    "word = 'ninja'\n",
    "for chara in word:\n",
    "    print(chara)"
   ]
  },
  {
   "cell_type": "code",
   "execution_count": 112,
   "metadata": {},
   "outputs": [
    {
     "name": "stdout",
     "output_type": "stream",
     "text": [
      "nowplaying...DEATH METAL\n",
      "nowplaying...ROCK\n",
      "nowplaying...ANIME\n",
      "nowplaying...POP\n"
     ]
    }
   ],
   "source": [
    "music_list = ['DEATH METAL', 'ROCK', 'ANIME', 'POP' ]\n",
    "for music in music_list:\n",
    "    print('nowplaying...' + music)"
   ]
  },
  {
   "cell_type": "code",
   "execution_count": 113,
   "metadata": {},
   "outputs": [
    {
     "name": "stdout",
     "output_type": "stream",
     "text": [
      "ラーメン\n",
      "550.0\n",
      "チャーハン\n",
      "473.00000000000006\n",
      "餃子\n",
      "231.00000000000003\n"
     ]
    }
   ],
   "source": [
    "menu = {'ラーメン':500, 'チャーハン':430, '餃子':210}\n",
    "for order in menu:\n",
    "    print(order)\n",
    "    print(menu[order]*1.10)"
   ]
  },
  {
   "cell_type": "code",
   "execution_count": 114,
   "metadata": {},
   "outputs": [
    {
     "name": "stdout",
     "output_type": "stream",
     "text": [
      "0\n",
      "1\n",
      "2\n",
      "3\n",
      "4\n"
     ]
    }
   ],
   "source": [
    "counter = 0\n",
    "while (counter < 5):\n",
    "    print(counter)\n",
    "    counter = counter + 1\n",
    "    "
   ]
  },
  {
   "cell_type": "code",
   "execution_count": 4,
   "metadata": {},
   "outputs": [
    {
     "name": "stdout",
     "output_type": "stream",
     "text": [
      "パンチ\n",
      "キック\n",
      "必殺奥義\n",
      "パンチ\n",
      "キック\n",
      "必殺奥義\n"
     ]
    }
   ],
   "source": [
    "power = 2\n",
    "while(True):\n",
    "    print('パンチ')\n",
    "    print('キック')\n",
    "    print('必殺奥義')\n",
    "    power = power -1\n",
    "    if(power == 0):\n",
    "        break\n",
    "    "
   ]
  },
  {
   "cell_type": "code",
   "execution_count": 5,
   "metadata": {},
   "outputs": [
    {
     "name": "stdout",
     "output_type": "stream",
     "text": [
      "おはようryu-ko\n",
      "起床\n",
      "朝ごはん\n",
      "おはようmako\n",
      "起床\n",
      "朝ごはん\n",
      "おはようsatsuki\n",
      "起床\n",
      "朝ごはん\n"
     ]
    }
   ],
   "source": [
    "family = ['ryu-ko', 'mako', 'satsuki']\n",
    "for kid in family:\n",
    "    print('おはよう' + kid)\n",
    "    print('起床')\n",
    "    print('朝ごはん')\n",
    "    continue\n",
    "    print('学校に出発')"
   ]
  },
  {
   "cell_type": "code",
   "execution_count": 7,
   "metadata": {},
   "outputs": [
    {
     "name": "stdout",
     "output_type": "stream",
     "text": [
      "給水します\n",
      "洗います\n",
      "すすぎます\n",
      "給水します\n",
      "乾燥します\n"
     ]
    }
   ],
   "source": [
    "def washingMachine():\n",
    "    print('給水します')\n",
    "    print('洗います')\n",
    "    print('すすぎます')\n",
    "    print('給水します')\n",
    "    print('乾燥します')\n",
    "\n",
    "washingMachine()"
   ]
  },
  {
   "cell_type": "code",
   "execution_count": 8,
   "metadata": {},
   "outputs": [],
   "source": [
    "def softwash():\n",
    "    print('給水します')\n",
    "    print('やさしく洗います')\n",
    "    print('すすぎます')\n",
    "    print('脱水します')\n",
    "    print('乾燥します')\n"
   ]
  },
  {
   "cell_type": "code",
   "execution_count": 9,
   "metadata": {},
   "outputs": [
    {
     "name": "stdout",
     "output_type": "stream",
     "text": [
      "やさしく洗う\n"
     ]
    }
   ],
   "source": [
    "mode = 'soft'\n",
    "if(mode == 'soft'):\n",
    "    print('やさしく洗う')\n",
    "elif(mode == 'hard'):\n",
    "    print('激しく洗う')\n",
    "else:\n",
    "    print('ふつうに洗う')\n",
    "    \n"
   ]
  },
  {
   "cell_type": "code",
   "execution_count": 10,
   "metadata": {},
   "outputs": [],
   "source": [
    "def washingMachine(mode):\n",
    "    print('給水します')\n",
    "    if (mode == 'soft'):\n",
    "        print('やさしく洗う')\n",
    "    elif(mode =='hard'):\n",
    "        print('激しく洗う')\n",
    "    else:\n",
    "        print('ふつうに洗う')"
   ]
  },
  {
   "cell_type": "code",
   "execution_count": 11,
   "metadata": {},
   "outputs": [
    {
     "name": "stdout",
     "output_type": "stream",
     "text": [
      "給水します\n",
      "やさしく洗う\n"
     ]
    }
   ],
   "source": [
    "washingMachine('soft')"
   ]
  },
  {
   "cell_type": "code",
   "execution_count": 12,
   "metadata": {},
   "outputs": [],
   "source": [
    "def area(radius):\n",
    "    result = radius * radius * 3.14\n",
    "    return result     ## returnは右に書いたデータを返す役割\n"
   ]
  },
  {
   "cell_type": "code",
   "execution_count": 13,
   "metadata": {},
   "outputs": [
    {
     "data": {
      "text/plain": [
       "78.5"
      ]
     },
     "execution_count": 13,
     "metadata": {},
     "output_type": "execute_result"
    }
   ],
   "source": [
    "area(5)"
   ]
  },
  {
   "cell_type": "code",
   "execution_count": 14,
   "metadata": {},
   "outputs": [
    {
     "name": "stdout",
     "output_type": "stream",
     "text": [
      "78.5\n",
      "314.0\n"
     ]
    }
   ],
   "source": [
    "small = area(5)\n",
    "big = area(10)\n",
    "print(small)\n",
    "print(big)"
   ]
  },
  {
   "cell_type": "code",
   "execution_count": 15,
   "metadata": {},
   "outputs": [
    {
     "data": {
      "text/plain": [
       "11"
      ]
     },
     "execution_count": 15,
     "metadata": {},
     "output_type": "execute_result"
    }
   ],
   "source": [
    "len('thunderbolt')"
   ]
  },
  {
   "cell_type": "code",
   "execution_count": 16,
   "metadata": {},
   "outputs": [
    {
     "data": {
      "text/plain": [
       "3"
      ]
     },
     "execution_count": 16,
     "metadata": {},
     "output_type": "execute_result"
    }
   ],
   "source": [
    "animal = ['cat', 'dog', 'duck'] ##要素の数を数えてくれる\n",
    "len(animal)"
   ]
  },
  {
   "cell_type": "code",
   "execution_count": 17,
   "metadata": {},
   "outputs": [
    {
     "data": {
      "text/plain": [
       "100"
      ]
     },
     "execution_count": 17,
     "metadata": {},
     "output_type": "execute_result"
    }
   ],
   "source": [
    "max(100 , 10, 50)"
   ]
  },
  {
   "cell_type": "code",
   "execution_count": 18,
   "metadata": {},
   "outputs": [
    {
     "data": {
      "text/plain": [
       "30"
      ]
     },
     "execution_count": 18,
     "metadata": {},
     "output_type": "execute_result"
    }
   ],
   "source": [
    "min(300, 30, 3000)"
   ]
  },
  {
   "cell_type": "code",
   "execution_count": 19,
   "metadata": {},
   "outputs": [
    {
     "data": {
      "text/plain": [
       "'u'"
      ]
     },
     "execution_count": 19,
     "metadata": {},
     "output_type": "execute_result"
    }
   ],
   "source": [
    "max('thunderbolt')"
   ]
  },
  {
   "cell_type": "code",
   "execution_count": 22,
   "metadata": {},
   "outputs": [
    {
     "data": {
      "text/plain": [
       "'1'"
      ]
     },
     "execution_count": 22,
     "metadata": {},
     "output_type": "execute_result"
    }
   ],
   "source": [
    "min('1Aa')"
   ]
  },
  {
   "cell_type": "code",
   "execution_count": 21,
   "metadata": {},
   "outputs": [
    {
     "data": {
      "text/plain": [
       "'a'"
      ]
     },
     "execution_count": 21,
     "metadata": {},
     "output_type": "execute_result"
    }
   ],
   "source": [
    "max('1Aa')"
   ]
  },
  {
   "cell_type": "code",
   "execution_count": 24,
   "metadata": {},
   "outputs": [
    {
     "data": {
      "text/plain": [
       "[55, 78, 78, 80, 95, 100]"
      ]
     },
     "execution_count": 24,
     "metadata": {},
     "output_type": "execute_result"
    }
   ],
   "source": [
    "sorted('thunderbolt')\n",
    "sorted('1Aa')\n",
    "sorted([100,95,55,78,80,78])"
   ]
  },
  {
   "cell_type": "code",
   "execution_count": 25,
   "metadata": {},
   "outputs": [
    {
     "name": "stdout",
     "output_type": "stream",
     "text": [
      "1000\n",
      "Hey! World\n"
     ]
    }
   ],
   "source": [
    "print(988+12)\n",
    "print('Hey! World')"
   ]
  },
  {
   "cell_type": "code",
   "execution_count": 28,
   "metadata": {},
   "outputs": [
    {
     "data": {
      "text/plain": [
       "int"
      ]
     },
     "execution_count": 28,
     "metadata": {},
     "output_type": "execute_result"
    }
   ],
   "source": [
    "hatena_1 = 9800\n",
    "type(hatena_1)"
   ]
  },
  {
   "cell_type": "code",
   "execution_count": 27,
   "metadata": {},
   "outputs": [
    {
     "data": {
      "text/plain": [
       "str"
      ]
     },
     "execution_count": 27,
     "metadata": {},
     "output_type": "execute_result"
    }
   ],
   "source": [
    "hatena_2 = 'mashmallow'\n",
    "type(hatena_2)"
   ]
  },
  {
   "cell_type": "code",
   "execution_count": 29,
   "metadata": {},
   "outputs": [
    {
     "data": {
      "text/plain": [
       "list"
      ]
     },
     "execution_count": 29,
     "metadata": {},
     "output_type": "execute_result"
    }
   ],
   "source": [
    "hatena_3 = ['osomatsu', 'karamatsu']\n",
    "type(hatena_3)"
   ]
  },
  {
   "cell_type": "markdown",
   "metadata": {},
   "source": [
    "クラス・インスタンス化"
   ]
  },
  {
   "cell_type": "code",
   "execution_count": 30,
   "metadata": {},
   "outputs": [],
   "source": [
    "class fruit:\n",
    "    color = 'red'\n",
    "    def taste(self):\n",
    "        return 'delicious'"
   ]
  },
  {
   "cell_type": "code",
   "execution_count": 31,
   "metadata": {},
   "outputs": [
    {
     "data": {
      "text/plain": [
       "'red'"
      ]
     },
     "execution_count": 31,
     "metadata": {},
     "output_type": "execute_result"
    }
   ],
   "source": [
    "apple = fruit()\n",
    "apple.color\n"
   ]
  },
  {
   "cell_type": "code",
   "execution_count": 32,
   "metadata": {},
   "outputs": [
    {
     "data": {
      "text/plain": [
       "'delicious'"
      ]
     },
     "execution_count": 32,
     "metadata": {},
     "output_type": "execute_result"
    }
   ],
   "source": [
    "apple.taste()"
   ]
  },
  {
   "cell_type": "markdown",
   "metadata": {},
   "source": [
    "オブジェクト：データとメソッドがセットになったもの\n",
    "    変数.メソッド"
   ]
  },
  {
   "cell_type": "code",
   "execution_count": 33,
   "metadata": {},
   "outputs": [
    {
     "data": {
      "text/plain": [
       "2"
      ]
     },
     "execution_count": 33,
     "metadata": {},
     "output_type": "execute_result"
    }
   ],
   "source": [
    "color = 'green'\n",
    "color.count('e')"
   ]
  },
  {
   "cell_type": "code",
   "execution_count": 34,
   "metadata": {},
   "outputs": [
    {
     "data": {
      "text/plain": [
       "'GREEN'"
      ]
     },
     "execution_count": 34,
     "metadata": {},
     "output_type": "execute_result"
    }
   ],
   "source": [
    "color = 'green'\n",
    "color.upper()"
   ]
  },
  {
   "cell_type": "code",
   "execution_count": 36,
   "metadata": {},
   "outputs": [
    {
     "data": {
      "text/plain": [
       "'10000yen'"
      ]
     },
     "execution_count": 36,
     "metadata": {},
     "output_type": "execute_result"
    }
   ],
   "source": [
    "class staff:\n",
    "    def salary(self):\n",
    "        return '10000yen'\n",
    "\n",
    "yamamoto = staff()\n",
    "yamamoto.salary()"
   ]
  },
  {
   "cell_type": "code",
   "execution_count": 37,
   "metadata": {},
   "outputs": [
    {
     "ename": "NameError",
     "evalue": "name 'bonus' is not defined",
     "output_type": "error",
     "traceback": [
      "\u001b[1;31m---------------------------------------------------------------------------\u001b[0m",
      "\u001b[1;31mNameError\u001b[0m                                 Traceback (most recent call last)",
      "\u001b[1;32mc:\\Users\\pokat\\コード\\rennsyuuyou.ipynb Cell 20'\u001b[0m in \u001b[0;36m<cell line: 8>\u001b[1;34m()\u001b[0m\n\u001b[0;32m      <a href='vscode-notebook-cell:/c%3A/Users/pokat/%E3%82%B3%E3%83%BC%E3%83%89/rennsyuuyou.ipynb#ch0000019?line=4'>5</a>\u001b[0m         \u001b[39mreturn\u001b[39;00m salary\n\u001b[0;32m      <a href='vscode-notebook-cell:/c%3A/Users/pokat/%E3%82%B3%E3%83%BC%E3%83%89/rennsyuuyou.ipynb#ch0000019?line=6'>7</a>\u001b[0m yamamoto \u001b[39m=\u001b[39m staff()\n\u001b[1;32m----> <a href='vscode-notebook-cell:/c%3A/Users/pokat/%E3%82%B3%E3%83%BC%E3%83%89/rennsyuuyou.ipynb#ch0000019?line=7'>8</a>\u001b[0m yamamoto\u001b[39m.\u001b[39;49msalary()\n",
      "\u001b[1;32mc:\\Users\\pokat\\コード\\rennsyuuyou.ipynb Cell 20'\u001b[0m in \u001b[0;36mstaff.salary\u001b[1;34m(self)\u001b[0m\n\u001b[0;32m      <a href='vscode-notebook-cell:/c%3A/Users/pokat/%E3%82%B3%E3%83%BC%E3%83%89/rennsyuuyou.ipynb#ch0000019?line=2'>3</a>\u001b[0m \u001b[39mdef\u001b[39;00m \u001b[39msalary\u001b[39m(\u001b[39mself\u001b[39m):\n\u001b[1;32m----> <a href='vscode-notebook-cell:/c%3A/Users/pokat/%E3%82%B3%E3%83%BC%E3%83%89/rennsyuuyou.ipynb#ch0000019?line=3'>4</a>\u001b[0m     salary \u001b[39m=\u001b[39m \u001b[39m10000\u001b[39m \u001b[39m+\u001b[39m bonus\n\u001b[0;32m      <a href='vscode-notebook-cell:/c%3A/Users/pokat/%E3%82%B3%E3%83%BC%E3%83%89/rennsyuuyou.ipynb#ch0000019?line=4'>5</a>\u001b[0m     \u001b[39mreturn\u001b[39;00m salary\n",
      "\u001b[1;31mNameError\u001b[0m: name 'bonus' is not defined"
     ]
    }
   ],
   "source": [
    "class staff:\n",
    "    bonus = 30000\n",
    "    def salary(self):\n",
    "        salary = 10000 + bonus\n",
    "        return salary\n",
    "\n",
    "yamamoto = staff()\n",
    "yamamoto.salary()"
   ]
  },
  {
   "cell_type": "code",
   "execution_count": 38,
   "metadata": {},
   "outputs": [
    {
     "data": {
      "text/plain": [
       "40000"
      ]
     },
     "execution_count": 38,
     "metadata": {},
     "output_type": "execute_result"
    }
   ],
   "source": [
    "class staff:\n",
    "    bonus = 30000\n",
    "    def salary(self):\n",
    "        salary = 10000 + self.bonus\n",
    "        return salary\n",
    "\n",
    "\n",
    "yamamoto = staff()\n",
    "yamamoto.salary()    "
   ]
  },
  {
   "cell_type": "code",
   "execution_count": 40,
   "metadata": {},
   "outputs": [
    {
     "data": {
      "text/plain": [
       "60000"
      ]
     },
     "execution_count": 40,
     "metadata": {},
     "output_type": "execute_result"
    }
   ],
   "source": [
    "class staff:\n",
    "    def __init__(self, bonus):\n",
    "        self.bonus = bonus\n",
    "    def salary(self):\n",
    "        salary = 10000 + self.bonus\n",
    "        return salary\n",
    "\n",
    "yamamoto = staff(50000)\n",
    "yamamoto.salary()"
   ]
  },
  {
   "cell_type": "code",
   "execution_count": 46,
   "metadata": {},
   "outputs": [
    {
     "name": "stdout",
     "output_type": "stream",
     "text": [
      "いぬです\n"
     ]
    }
   ],
   "source": [
    "class animalBaseClass:\n",
    "    animallegs = 4\n",
    "    def walk(self):\n",
    "        print('あるく')\n",
    "    def cry(self):\n",
    "        print('泣く')\n",
    "    def getLegsNum(self):\n",
    "        print(self.animallegs)\n",
    "\n",
    "class dogClass(animalBaseClass):\n",
    "    def __init__(self):\n",
    "        print('いぬです')\n",
    "\n",
    "wanko = dogClass()\n"
   ]
  },
  {
   "cell_type": "code",
   "execution_count": 42,
   "metadata": {},
   "outputs": [
    {
     "name": "stdout",
     "output_type": "stream",
     "text": [
      "あるく\n"
     ]
    }
   ],
   "source": [
    "wanko.walk()"
   ]
  },
  {
   "cell_type": "code",
   "execution_count": 43,
   "metadata": {},
   "outputs": [
    {
     "name": "stdout",
     "output_type": "stream",
     "text": [
      "泣く\n"
     ]
    }
   ],
   "source": [
    "wanko.cry()"
   ]
  },
  {
   "cell_type": "code",
   "execution_count": 47,
   "metadata": {},
   "outputs": [
    {
     "name": "stdout",
     "output_type": "stream",
     "text": [
      "4\n"
     ]
    }
   ],
   "source": [
    "wanko.getLegsNum()"
   ]
  },
  {
   "cell_type": "code",
   "execution_count": 48,
   "metadata": {},
   "outputs": [
    {
     "name": "stdout",
     "output_type": "stream",
     "text": [
      "ねこです\n"
     ]
    }
   ],
   "source": [
    "class animalBaseClass:\n",
    "    animallegs = 4\n",
    "    def walk(self):\n",
    "        print('あるく')\n",
    "    def cry(self):\n",
    "        print('泣く')\n",
    "\n",
    "class catClass(animalBaseClass):\n",
    "    def __init__(self):\n",
    "        print('ねこです')\n",
    "    def cry(self):\n",
    "        print('にゃー')\n",
    "\n",
    "chachamaru = catClass()\n"
   ]
  },
  {
   "cell_type": "code",
   "execution_count": 49,
   "metadata": {},
   "outputs": [
    {
     "name": "stdout",
     "output_type": "stream",
     "text": [
      "あるく\n"
     ]
    }
   ],
   "source": [
    "chachamaru.walk()"
   ]
  },
  {
   "cell_type": "code",
   "execution_count": 50,
   "metadata": {},
   "outputs": [
    {
     "name": "stdout",
     "output_type": "stream",
     "text": [
      "にゃー\n"
     ]
    }
   ],
   "source": [
    "chachamaru.cry()"
   ]
  },
  {
   "cell_type": "markdown",
   "metadata": {},
   "source": [
    "2022/06/27 4-3から"
   ]
  },
  {
   "cell_type": "code",
   "execution_count": 51,
   "metadata": {},
   "outputs": [
    {
     "name": "stdout",
     "output_type": "stream",
     "text": [
      "     July 2022\n",
      "Mo Tu We Th Fr Sa Su\n",
      "             1  2  3\n",
      " 4  5  6  7  8  9 10\n",
      "11 12 13 14 15 16 17\n",
      "18 19 20 21 22 23 24\n",
      "25 26 27 28 29 30 31\n",
      "\n"
     ]
    }
   ],
   "source": [
    "import calendar\n",
    "print(calendar. month(2022, 7))"
   ]
  },
  {
   "cell_type": "code",
   "execution_count": 52,
   "metadata": {},
   "outputs": [
    {
     "name": "stdout",
     "output_type": "stream",
     "text": [
      "    August 2022\n",
      "Mo Tu We Th Fr Sa Su\n",
      " 1  2  3  4  5  6  7\n",
      " 8  9 10 11 12 13 14\n",
      "15 16 17 18 19 20 21\n",
      "22 23 24 25 26 27 28\n",
      "29 30 31\n",
      "\n"
     ]
    }
   ],
   "source": [
    "import calendar as cal\n",
    "print(cal.month(2022, 8))"
   ]
  },
  {
   "cell_type": "code",
   "execution_count": 54,
   "metadata": {},
   "outputs": [
    {
     "name": "stdout",
     "output_type": "stream",
     "text": [
      "   September 2022\n",
      "Mo Tu We Th Fr Sa Su\n",
      "          1  2  3  4\n",
      " 5  6  7  8  9 10 11\n",
      "12 13 14 15 16 17 18\n",
      "19 20 21 22 23 24 25\n",
      "26 27 28 29 30\n",
      "\n"
     ]
    }
   ],
   "source": [
    "from calendar import month, isleap\n",
    "print(month(2022, 9))"
   ]
  },
  {
   "cell_type": "code",
   "execution_count": 55,
   "metadata": {},
   "outputs": [
    {
     "data": {
      "text/plain": [
       "datetime.date(2022, 6, 27)"
      ]
     },
     "execution_count": 55,
     "metadata": {},
     "output_type": "execute_result"
    }
   ],
   "source": [
    "from datetime import date\n",
    "date.today()"
   ]
  },
  {
   "cell_type": "markdown",
   "metadata": {},
   "source": [
    "date型オブジェクト⇒文字列型に変換"
   ]
  },
  {
   "cell_type": "code",
   "execution_count": 57,
   "metadata": {},
   "outputs": [
    {
     "data": {
      "text/plain": [
       "'20220627'"
      ]
     },
     "execution_count": 57,
     "metadata": {},
     "output_type": "execute_result"
    }
   ],
   "source": [
    "from datetime import date\n",
    "today = date.today()\n",
    "today.strftime('%Y%m%d')"
   ]
  },
  {
   "cell_type": "code",
   "execution_count": 58,
   "metadata": {},
   "outputs": [
    {
     "data": {
      "text/plain": [
       "'22/06/27'"
      ]
     },
     "execution_count": 58,
     "metadata": {},
     "output_type": "execute_result"
    }
   ],
   "source": [
    "today.strftime('%y/%m/%d')"
   ]
  },
  {
   "cell_type": "code",
   "execution_count": 59,
   "metadata": {},
   "outputs": [
    {
     "data": {
      "text/plain": [
       "'2022年06月27日'"
      ]
     },
     "execution_count": 59,
     "metadata": {},
     "output_type": "execute_result"
    }
   ],
   "source": [
    "today.strftime('%Y年%m月%d日')"
   ]
  },
  {
   "cell_type": "code",
   "execution_count": 60,
   "metadata": {},
   "outputs": [
    {
     "data": {
      "text/plain": [
       "'2022 June 27 Mon'"
      ]
     },
     "execution_count": 60,
     "metadata": {},
     "output_type": "execute_result"
    }
   ],
   "source": [
    "today.strftime('%Y %B %d %a')"
   ]
  },
  {
   "cell_type": "code",
   "execution_count": 61,
   "metadata": {},
   "outputs": [
    {
     "data": {
      "text/plain": [
       "datetime.datetime(2022, 6, 27, 15, 50, 45, 888617)"
      ]
     },
     "execution_count": 61,
     "metadata": {},
     "output_type": "execute_result"
    }
   ],
   "source": [
    "from datetime import datetime\n",
    "datetime.now()"
   ]
  },
  {
   "cell_type": "code",
   "execution_count": 63,
   "metadata": {},
   "outputs": [
    {
     "data": {
      "text/plain": [
       "'2022-06-27 15:52:51'"
      ]
     },
     "execution_count": 63,
     "metadata": {},
     "output_type": "execute_result"
    }
   ],
   "source": [
    "from datetime import datetime as dt\n",
    "now = dt.now()\n",
    "now.strftime('%Y-%m-%d %H:%M:%S')"
   ]
  },
  {
   "cell_type": "code",
   "execution_count": 64,
   "metadata": {},
   "outputs": [
    {
     "data": {
      "text/plain": [
       "datetime.date(2022, 6, 27)"
      ]
     },
     "execution_count": 64,
     "metadata": {},
     "output_type": "execute_result"
    }
   ],
   "source": [
    "from datetime import date, timedelta\n",
    "today = date.today()\n",
    "today"
   ]
  },
  {
   "cell_type": "code",
   "execution_count": 66,
   "metadata": {},
   "outputs": [
    {
     "data": {
      "text/plain": [
       "datetime.date(2022, 7, 4)"
      ]
     },
     "execution_count": 66,
     "metadata": {},
     "output_type": "execute_result"
    }
   ],
   "source": [
    "one_week = timedelta(days = 7)\n",
    "today + one_week"
   ]
  },
  {
   "cell_type": "code",
   "execution_count": 67,
   "metadata": {},
   "outputs": [
    {
     "data": {
      "text/plain": [
       "datetime.date(2022, 6, 20)"
      ]
     },
     "execution_count": 67,
     "metadata": {},
     "output_type": "execute_result"
    }
   ],
   "source": [
    "today - one_week"
   ]
  },
  {
   "cell_type": "markdown",
   "metadata": {},
   "source": [
    "第5章\n"
   ]
  },
  {
   "cell_type": "code",
   "execution_count": 4,
   "metadata": {},
   "outputs": [
    {
     "ename": "FileNotFoundError",
     "evalue": "[Errno 2] No such file or directory: 'normal_typhoon.zip'",
     "output_type": "error",
     "traceback": [
      "\u001b[1;31m---------------------------------------------------------------------------\u001b[0m",
      "\u001b[1;31mFileNotFoundError\u001b[0m                         Traceback (most recent call last)",
      "\u001b[1;32mc:\\Users\\pokat\\コード\\rennsyuuyou.ipynb Cell 83'\u001b[0m in \u001b[0;36m<cell line: 2>\u001b[1;34m()\u001b[0m\n\u001b[0;32m      <a href='vscode-notebook-cell:/c%3A/Users/pokat/%E3%82%B3%E3%83%BC%E3%83%89/rennsyuuyou.ipynb#ch0000082?line=0'>1</a>\u001b[0m \u001b[39mimport\u001b[39;00m \u001b[39mzipfile\u001b[39;00m\n\u001b[1;32m----> <a href='vscode-notebook-cell:/c%3A/Users/pokat/%E3%82%B3%E3%83%BC%E3%83%89/rennsyuuyou.ipynb#ch0000082?line=1'>2</a>\u001b[0m files \u001b[39m=\u001b[39m zipfile\u001b[39m.\u001b[39;49mZipFile(\u001b[39m'\u001b[39;49m\u001b[39mnormal_typhoon.zip\u001b[39;49m\u001b[39m'\u001b[39;49m)\n\u001b[0;32m      <a href='vscode-notebook-cell:/c%3A/Users/pokat/%E3%82%B3%E3%83%BC%E3%83%89/rennsyuuyou.ipynb#ch0000082?line=2'>3</a>\u001b[0m files\u001b[39m.\u001b[39mnamelist()\n",
      "File \u001b[1;32mc:\\Users\\pokat\\AppData\\Local\\Programs\\Python\\Python310\\lib\\zipfile.py:1249\u001b[0m, in \u001b[0;36mZipFile.__init__\u001b[1;34m(self, file, mode, compression, allowZip64, compresslevel, strict_timestamps)\u001b[0m\n\u001b[0;32m   1247\u001b[0m \u001b[39mwhile\u001b[39;00m \u001b[39mTrue\u001b[39;00m:\n\u001b[0;32m   1248\u001b[0m     \u001b[39mtry\u001b[39;00m:\n\u001b[1;32m-> 1249\u001b[0m         \u001b[39mself\u001b[39m\u001b[39m.\u001b[39mfp \u001b[39m=\u001b[39m io\u001b[39m.\u001b[39;49mopen(file, filemode)\n\u001b[0;32m   1250\u001b[0m     \u001b[39mexcept\u001b[39;00m \u001b[39mOSError\u001b[39;00m:\n\u001b[0;32m   1251\u001b[0m         \u001b[39mif\u001b[39;00m filemode \u001b[39min\u001b[39;00m modeDict:\n",
      "\u001b[1;31mFileNotFoundError\u001b[0m: [Errno 2] No such file or directory: 'normal_typhoon.zip'"
     ]
    }
   ],
   "source": [
    "import zipfile\n",
    "files = zipfile.ZipFile('normal_typhoon.zip')\n",
    "files.namelist()"
   ]
  },
  {
   "cell_type": "code",
   "execution_count": 5,
   "metadata": {},
   "outputs": [
    {
     "ename": "FileNotFoundError",
     "evalue": "[Errno 2] No such file or directory: 'null.txt'",
     "output_type": "error",
     "traceback": [
      "\u001b[1;31m---------------------------------------------------------------------------\u001b[0m",
      "\u001b[1;31mFileNotFoundError\u001b[0m                         Traceback (most recent call last)",
      "\u001b[1;32mc:\\Users\\pokat\\コード\\rennsyuuyou.ipynb Cell 84'\u001b[0m in \u001b[0;36m<cell line: 1>\u001b[1;34m()\u001b[0m\n\u001b[1;32m----> <a href='vscode-notebook-cell:/c%3A/Users/pokat/%E3%82%B3%E3%83%BC%E3%83%89/rennsyuuyou.ipynb#ch0000083?line=0'>1</a>\u001b[0m \u001b[39mopen\u001b[39;49m(\u001b[39m'\u001b[39;49m\u001b[39mnull.txt\u001b[39;49m\u001b[39m'\u001b[39;49m, \u001b[39m'\u001b[39;49m\u001b[39mr\u001b[39;49m\u001b[39m'\u001b[39;49m)\n",
      "\u001b[1;31mFileNotFoundError\u001b[0m: [Errno 2] No such file or directory: 'null.txt'"
     ]
    }
   ],
   "source": [
    "open('null.txt', 'r')"
   ]
  },
  {
   "cell_type": "code",
   "execution_count": 6,
   "metadata": {},
   "outputs": [
    {
     "data": {
      "text/plain": [
       "25"
      ]
     },
     "execution_count": 6,
     "metadata": {},
     "output_type": "execute_result"
    }
   ],
   "source": [
    "file_object = open('python.txt', 'w')\n",
    "file_object.write('this is sample of python.')"
   ]
  },
  {
   "cell_type": "code",
   "execution_count": 7,
   "metadata": {},
   "outputs": [
    {
     "ename": "ValueError",
     "evalue": "I/O operation on closed file.",
     "output_type": "error",
     "traceback": [
      "\u001b[1;31m---------------------------------------------------------------------------\u001b[0m",
      "\u001b[1;31mValueError\u001b[0m                                Traceback (most recent call last)",
      "\u001b[1;32mc:\\Users\\pokat\\コード\\rennsyuuyou.ipynb Cell 85'\u001b[0m in \u001b[0;36m<cell line: 2>\u001b[1;34m()\u001b[0m\n\u001b[0;32m      <a href='vscode-notebook-cell:/c%3A/Users/pokat/%E3%82%B3%E3%83%BC%E3%83%89/rennsyuuyou.ipynb#ch0000084?line=0'>1</a>\u001b[0m file_object\u001b[39m.\u001b[39mclose()\n\u001b[1;32m----> <a href='vscode-notebook-cell:/c%3A/Users/pokat/%E3%82%B3%E3%83%BC%E3%83%89/rennsyuuyou.ipynb#ch0000084?line=1'>2</a>\u001b[0m file_object\u001b[39m.\u001b[39;49mwrite(\u001b[39m'\u001b[39;49m\u001b[39mthis is sample of python\u001b[39;49m\u001b[39m'\u001b[39;49m)\n",
      "\u001b[1;31mValueError\u001b[0m: I/O operation on closed file."
     ]
    }
   ],
   "source": [
    "file_object.close()\n",
    "file_object.write('this is sample of python')"
   ]
  },
  {
   "cell_type": "code",
   "execution_count": 8,
   "metadata": {},
   "outputs": [
    {
     "data": {
      "text/plain": [
       "10"
      ]
     },
     "execution_count": 8,
     "metadata": {},
     "output_type": "execute_result"
    }
   ],
   "source": [
    "file_object = open('python_flush_test.txt', 'w')\n",
    "file_object.write('use flush!')"
   ]
  },
  {
   "cell_type": "code",
   "execution_count": 9,
   "metadata": {},
   "outputs": [],
   "source": [
    "file_object.flush()"
   ]
  },
  {
   "cell_type": "code",
   "execution_count": 10,
   "metadata": {},
   "outputs": [
    {
     "data": {
      "text/plain": [
       "'this is sample of python.'"
      ]
     },
     "execution_count": 10,
     "metadata": {},
     "output_type": "execute_result"
    }
   ],
   "source": [
    "file_object = open('python.txt', 'r')\n",
    "file_object.read()"
   ]
  },
  {
   "cell_type": "code",
   "execution_count": 14,
   "metadata": {},
   "outputs": [],
   "source": [
    "from PIL import Image\n",
    "image = Image.open('flower.jpg')\n",
    "image.show()"
   ]
  },
  {
   "cell_type": "code",
   "execution_count": 15,
   "metadata": {},
   "outputs": [],
   "source": [
    "red, green, blue = image.split()\n",
    "convert_image = Image.merge('RGB', (blue, green, red))\n",
    "convert_image.show()\n",
    "convert_image.save('rgb_to_bgr.jpg')"
   ]
  },
  {
   "cell_type": "code",
   "execution_count": 16,
   "metadata": {},
   "outputs": [],
   "source": [
    "from PIL import Image\n",
    "image = Image.open('flower.jpg')\n",
    "black_and_white = image.convert('1')\n",
    "black_and_white.show()\n",
    "black_and_white.save('b_and_w.jpg')"
   ]
  },
  {
   "cell_type": "code",
   "execution_count": 17,
   "metadata": {},
   "outputs": [],
   "source": [
    "from PIL import Image\n",
    "image = Image.open('flower.jpg')\n",
    "gray_image = image.convert('L')\n",
    "gray_image.show()\n",
    "gray_image.save('gray_image.jpg')"
   ]
  },
  {
   "cell_type": "code",
   "execution_count": 18,
   "metadata": {},
   "outputs": [
    {
     "name": "stderr",
     "output_type": "stream",
     "text": [
      "C:\\Users\\pokat\\AppData\\Local\\Temp\\ipykernel_19844\\4148804501.py:3: DeprecationWarning: ROTATE_90 is deprecated and will be removed in Pillow 10 (2023-07-01). Use Transpose.ROTATE_90 instead.\n",
      "  image.transpose(Image.ROTATE_90).show()\n",
      "C:\\Users\\pokat\\AppData\\Local\\Temp\\ipykernel_19844\\4148804501.py:4: DeprecationWarning: ROTATE_90 is deprecated and will be removed in Pillow 10 (2023-07-01). Use Transpose.ROTATE_90 instead.\n",
      "  image.transpose(Image.ROTATE_90).save('rotate_90.jpg')\n"
     ]
    }
   ],
   "source": [
    "from PIL import Image\n",
    "image = Image.open('flower.jpg')\n",
    "image.transpose(Image.ROTATE_90).show()\n",
    "image.transpose(Image.ROTATE_90).save('rotate_90.jpg')"
   ]
  },
  {
   "cell_type": "markdown",
   "metadata": {},
   "source": [
    "Image.show = 表示　Image.save = 保存　\n",
    "Image.FLIP_LEFT_RIGHT = 左右反転　Image.FLIP_TOP_BOTTOM = 上下反転　Image.ROTATE_90 = 画像90度回転させる　Image.ROTATE_180 = 画像180度回転させる\n",
    "Image.ROTATE_270 =　画像270度回転させる\n"
   ]
  },
  {
   "cell_type": "code",
   "execution_count": 20,
   "metadata": {},
   "outputs": [
    {
     "name": "stdout",
     "output_type": "stream",
     "text": [
      "<!DOCTYPE html><html lang=\"ja\"><head><meta charSet=\"utf-8\"/><meta http-equiv=\"X-UA-Compatible\" content=\"IE=edge,chrome=1\"/><title>Yahoo! JAPAN</title><meta name=\"description\" content=\"あなたの毎日をアップデートする情報ポータル。検索、ニュース、天気、スポーツ、メール、ショッピング、オークションなど便利なサービスを展開しています。\"/><meta name=\"robots\" content=\"noodp\"/><meta name=\"viewport\" content=\"width=1010\"/><link rel=\"dns-prefetch\" href=\"//s.yimg.jp\"/><link rel=\"dns-prefetch\" href=\"//yads.c.yimg.jp\"/><meta name=\"google-site-verification\" content=\"fsLMOiigp5fIpCDMEVodQnQC7jIY1K3UXW5QkQcBmVs\"/><link rel=\"alternate\" href=\"android-app://jp.co.yahoo.android.yjtop/yahoojapan/home/top\"/><link rel=\"alternate\" media=\"only screen and (max-width: 640px)\" href=\"https://m.yahoo.co.jp/\"/><link rel=\"canonical\" href=\"https://www.yahoo.co.jp/\"/><link rel=\"shortcut icon\" href=\"https://s.yimg.jp/c/icon/s/bsc/2.0/favicon.ico\" type=\"image/vnd.microsoft.icon\"/><link rel=\"icon\" href=\"https://s.yimg.jp/c/icon/s/bsc/2.0/favicon.ico\" type=\"image/vnd.microsoft.icon\"/><link rel=\"apple-touch-icon-precomposed\" href=\"https://s.yimg.jp/c/icon/s/bsc/2.0/y120.png\"/><meta property=\"og:title\" content=\"Yahoo! JAPAN\"/><meta property=\"og:type\" content=\"website\"/><meta property=\"og:url\" content=\"https://www.yahoo.co.jp/\"/><meta property=\"og:image\" content=\"https://s.yimg.jp/images/top/ogp/fb_y_1500px.png\"/><meta property=\"og:description\" content=\"あなたの毎日をアップデートする情報ポータル。検索、ニュース、天気、スポーツ、メール、ショッピング、オークションなど便利なサービスを展開しています。\"/><meta property=\"og:site_name\" content=\"Yahoo! JAPAN\"/><meta property=\"twitter:card\" content=\"summary_large_image\"/><meta property=\"twitter:site\" content=\"@Yahoo_JAPAN_PR\"/><meta property=\"twitter:image\" content=\"https://s.yimg.jp/images/top/ogp/tw_y_1400px.png\"/><meta property=\"fb:app_id\" content=\"472870002762883\"/><link rel=\"stylesheet\" href=\"//s.yimg.jp/images/yjtop-pc/orion/v93/bundle_v93.css\"/><script>window.onbeforeunload = function() {}</script><script>\n",
      "            var TLDataContext = {\n",
      "              ual : {\n",
      "                pageview : {\n",
      "                  service: \"toppage\",\n",
      "                  apptype: \"web\",\n",
      "                  opttype: \"pc\",\n",
      "                  hierarchy_id: \"2079181999\",\n",
      "                  content_id : '',\n",
      "                  id_type : '',\n",
      "                  nopv : 'false',\n",
      "                  mtestid: \"\",\n",
      "                  ss_join_id : '',\n",
      "                  ss_join_id_type : '',\n",
      "                }\n",
      "              }\n",
      "            };</script><script>(function () {\n",
      "              var tagjs = document.createElement(\"script\");\n",
      "              var s = document.getElementsByTagName(\"script\")[0];\n",
      "              tagjs.async = true;\n",
      "              tagjs.src = \"https://s.yjtag.jp/tag.js#site=2wzBV9u\";\n",
      "              s.parentNode.insertBefore(tagjs, s);\n",
      "            }());</script><script src=\"https://yads.c.yimg.jp/js/yads-async.js\"></script><link rel=\"preconnect\" href=\"//logql.yahoo.co.jp\"/><link rel=\"preconnect\" href=\"//yjtag.yahoo.co.jp\"/><link rel=\"preconnect\" href=\"//yeas.yahoo.co.jp\"/><link rel=\"preconnect\" href=\"//cas.criteo.com\"/><link rel=\"preconnect\" href=\"//ybx-test.yahoo.co.jp\"/><link rel=\"preconnect\" href=\"//quriosity.yahoo.co.jp\"/></head><body><noscript><iframe title=\"PageCount\" src=\"https://b.yjtag.jp/iframe?c=2wzBV9u\" width=\"1\" height=\"1\" frameBorder=\"0\" scrolling=\"no\" marginHeight=\"0\" marginWidth=\"0\"></iframe></noscript><script>bucket_id_for_ad = ''; bucket_ids = '';</script><script>window.YAHOO = window.YAHOO || {};\n",
      "              window.YAHOO.JP = window.YAHOO.JP || {};\n",
      "              window.YAHOO.JP.Fp = window.YAHOO.JP.Fp || {};\n",
      "              window.YAHOO.JP.Fp.ads = window.YAHOO.JP.Fp.ads || {};\n",
      "              window.YAHOO.JP.Fp.ads.sidehide = true;</script><div id=\"wrapper\" class=\"_1DyDVN-3FsqGF_QKLg1M9G\" data-rma-pos=\"GYJ\"><div id=\"ContentWrapper\"><header class=\"_34gx9tFRGRvqVVrA66m_wl\"><div id=\"Masthead\" class=\"_1mo4G7fxHMqUog3vJGxY2_ ult__mods\"><h1 class=\"_3YIqBohnzWyU3NQ8zb-mQI _1dr5aVDbNPF63JCS2bJhij\"><a class=\"yMWCYupQNdgppL-NV6sMi _3sAlKGsIBCxTUbNi86oSjt\" href=\"https://www.yahoo.co.jp\" data-ylk=\"rsec:header;slk:logo;pos:0\" data-cl-params=\"_cl_vmodule:header;_cl_link:logo;_cl_position:0\">Yahoo! JAPAN</a></h1><div class=\"_15h66qPnVy4iQzPepgAaiY\"><ul class=\"_6iDyy-CUks251J9k1epBP\"><li class=\"_3gsf81y-6_ZDi-j-tMaVHe\"><a class=\"yMWCYupQNdgppL-NV6sMi _3sAlKGsIBCxTUbNi86oSjt\" href=\"https://paypaystep.yahoo.co.jp/?sc_e=ytmh_p2c_web\" data-ylk=\"rsec:header;slk:paypaystep;pos:0\" data-cl-params=\"_cl_vmodule:header;_cl_link:paypaystep;_cl_position:0\" aria-label=\"PayPay STEPへ遷移する\"><p class=\"oLvk9L5Yk-9JOuzi-OHW5\"><span class=\"t_jb9bKlgIcajcRS2hZAP\">PayPay STEP</span><span class=\"_2Uq6Pw5lfFfxr_OD36xHp6 _1dr5aVDbNPF63JCS2bJhij _18UPg6R6cxJSC9JHKF8juc\" style=\"width:38px;height:38px\"></span></p></a></li><li class=\"_3gsf81y-6_ZDi-j-tMaVHe\"><a class=\"yMWCYupQNdgppL-NV6sMi _3sAlKGsIBCxTUbNi86oSjt\" href=\"https://card.yahoo.co.jp/service/redirect/top/\" data-ylk=\"rsec:header;slk:paypaycard;pos:0\" data-cl-params=\"_cl_vmodule:header;_cl_link:paypaycard;_cl_position:0\" aria-label=\"カードへ遷移する\"><p class=\"oLvk9L5Yk-9JOuzi-OHW5\"><span class=\"t_jb9bKlgIcajcRS2hZAP\">カード</span><span class=\"_2Uq6Pw5lfFfxr_OD36xHp6 _1dr5aVDbNPF63JCS2bJhij P1WzQfoRll3q8GIGneUYg\" style=\"width:36px;height:38px\"></span></p></a></li><li class=\"_3gsf81y-6_ZDi-j-tMaVHe\"><a class=\"yMWCYupQNdgppL-NV6sMi _3sAlKGsIBCxTUbNi86oSjt\" href=\"https://mail.yahoo.co.jp/\" data-ylk=\"rsec:header;slk:mail;pos:0\" data-cl-params=\"_cl_vmodule:header;_cl_link:mail;_cl_position:0\" aria-label=\"メールへ遷移する\"><p class=\"oLvk9L5Yk-9JOuzi-OHW5\"><span class=\"t_jb9bKlgIcajcRS2hZAP\">メール</span><span class=\"_2Uq6Pw5lfFfxr_OD36xHp6 _1dr5aVDbNPF63JCS2bJhij _3Qi5P0lTFbNkWishPzz8tb\" style=\"width:36px;height:38px\"></span></p></a></li></ul></div><div class=\"_2TzkLph0QyL9hAv5c53WeY\"><ul class=\"_6iDyy-CUks251J9k1epBP\"><li class=\"_3gsf81y-6_ZDi-j-tMaVHe\"><a class=\"yMWCYupQNdgppL-NV6sMi _3sAlKGsIBCxTUbNi86oSjt\" href=\"https://travel.yahoo.co.jp/ikCo.ashx?cosid=y_010017&amp;cosuid=ytmh&amp;surl=%2F&amp;sc_e=ytmh\" data-ylk=\"rsec:header;slk:travel;pos:0\" data-cl-params=\"_cl_vmodule:header;_cl_link:travel;_cl_position:0\" aria-label=\"トラベルへ遷移する\"><p class=\"oLvk9L5Yk-9JOuzi-OHW5\"><span class=\"t_jb9bKlgIcajcRS2hZAP\">トラベル</span><span class=\"_2Uq6Pw5lfFfxr_OD36xHp6 _1dr5aVDbNPF63JCS2bJhij _1yEKxUFSw-Xv2gaBZsYRuI\" style=\"width:38px;height:38px\"></span></p></a></li><li class=\"_3gsf81y-6_ZDi-j-tMaVHe\"><a class=\"yMWCYupQNdgppL-NV6sMi _3sAlKGsIBCxTUbNi86oSjt\" href=\"https://auctions.yahoo.co.jp/\" data-ylk=\"rsec:header;slk:auction;pos:0\" data-cl-params=\"_cl_vmodule:header;_cl_link:auction;_cl_position:0\" aria-label=\"ヤフオク!へ遷移する\"><p class=\"oLvk9L5Yk-9JOuzi-OHW5\"><span class=\"t_jb9bKlgIcajcRS2hZAP\">ヤフオク!</span><span class=\"_2Uq6Pw5lfFfxr_OD36xHp6 _1dr5aVDbNPF63JCS2bJhij _1K47f2oTmrnpusFOpVVqfY\" style=\"width:38px;height:38px\"></span></p></a></li><li class=\"_3gsf81y-6_ZDi-j-tMaVHe\"><a class=\"yMWCYupQNdgppL-NV6sMi _3sAlKGsIBCxTUbNi86oSjt\" href=\"https://shopping.yahoo.co.jp/?sc_e=ytmh\" data-ylk=\"rsec:header;slk:shopping;pos:0\" data-cl-params=\"_cl_vmodule:header;_cl_link:shopping;_cl_position:0\" aria-label=\"ショッピングへ遷移する\"><p class=\"oLvk9L5Yk-9JOuzi-OHW5\"><span class=\"t_jb9bKlgIcajcRS2hZAP\">ショッピング</span><span class=\"_2Uq6Pw5lfFfxr_OD36xHp6 _1dr5aVDbNPF63JCS2bJhij MOLSPrtOUmdnYy_LgNt2f\" style=\"width:38px;height:38px\"></span></p></a></li></ul></div></div><section id=\"search\" class=\"ult__mods _1w9b7DyFfTztW-X6_zmnAE\"><div class=\"_2pgJollUxnY09eN4CPKMrS\"><h1 class=\"_1iMgPNrCw806mefWspPVMk _3v9VCsGKsktTB7eaN70w-n\">検索</h1><ul class=\"ZMlm7LHfZujKgm8NY-0N5\"><li><a href=\"https://search.yahoo.co.jp/\" class=\"y9H1Sj9hz4OlEq2_aEt5E\" aria-label=\"ウェブで検索\" tabindex=\"-1\" data-ylk=\"rsec:search;slk:web_tab;pos:0\" data-cl-params=\"_cl_vmodule:search;_cl_link:web_tab;_cl_position:0\"><span class=\"fQMqQTGJTbIMxjQwZA2zk _3tGRl6x9iIWRiFTkKl3kcR\"><span class=\"_1uQvvM7M_K0hc4e29lRa8 _2B_ETzo6nh1JNMLebSi_2p\">ウェブ</span></span></a></li><li><a href=\"https://search.yahoo.co.jp/image\" class=\"y9H1Sj9hz4OlEq2_aEt5E\" aria-label=\"画像で検索\" tabindex=\"-1\" data-ylk=\"rsec:search;slk:img;pos:0\" data-cl-params=\"_cl_vmodule:search;_cl_link:img;_cl_position:0\"><span class=\"fQMqQTGJTbIMxjQwZA2zk _3tGRl6x9iIWRiFTkKl3kcR\"><span class=\"_1uQvvM7M_K0hc4e29lRa8\">画像</span></span></a></li><li><a href=\"https://search.yahoo.co.jp/video\" class=\"y9H1Sj9hz4OlEq2_aEt5E\" aria-label=\"動画で検索\" tabindex=\"-1\" data-ylk=\"rsec:search;slk:vd;pos:0\" data-cl-params=\"_cl_vmodule:search;_cl_link:vd;_cl_position:0\"><span class=\"fQMqQTGJTbIMxjQwZA2zk _3tGRl6x9iIWRiFTkKl3kcR\"><span class=\"_1uQvvM7M_K0hc4e29lRa8\">動画</span></span></a></li><li><a href=\"https://chiebukuro.yahoo.co.jp/\" class=\"y9H1Sj9hz4OlEq2_aEt5E\" aria-label=\"知恵袋で検索\" tabindex=\"-1\" data-ylk=\"rsec:search;slk:chie;pos:0\" data-cl-params=\"_cl_vmodule:search;_cl_link:chie;_cl_position:0\"><span class=\"fQMqQTGJTbIMxjQwZA2zk _3tGRl6x9iIWRiFTkKl3kcR\"><span class=\"_1uQvvM7M_K0hc4e29lRa8\">知恵袋</span></span></a></li><li><a href=\"https://map.yahoo.co.jp/\" class=\"y9H1Sj9hz4OlEq2_aEt5E\" aria-label=\"地図で検索\" tabindex=\"-1\" data-ylk=\"rsec:search;slk:map;pos:0\" data-cl-params=\"_cl_vmodule:search;_cl_link:map;_cl_position:0\"><span class=\"fQMqQTGJTbIMxjQwZA2zk _3tGRl6x9iIWRiFTkKl3kcR\"><span class=\"_1uQvvM7M_K0hc4e29lRa8\">地図</span></span></a></li><li><a href=\"https://search.yahoo.co.jp/realtime\" class=\"y9H1Sj9hz4OlEq2_aEt5E\" aria-label=\"リアルタイムで検索\" tabindex=\"-1\" data-ylk=\"rsec:search;slk:realtime;pos:0\" data-cl-params=\"_cl_vmodule:search;_cl_link:realtime;_cl_position:0\"><span class=\"fQMqQTGJTbIMxjQwZA2zk _3tGRl6x9iIWRiFTkKl3kcR\"><span class=\"_1uQvvM7M_K0hc4e29lRa8\">リアルタイム</span></span></a></li><li><a href=\"https://services.yahoo.co.jp/\" class=\"y9H1Sj9hz4OlEq2_aEt5E\" aria-label=\"一覧で検索\" tabindex=\"-1\" data-ylk=\"rsec:search;slk:svc;pos:0\" data-cl-params=\"_cl_vmodule:search;_cl_link:svc;_cl_position:0\"><span class=\"fQMqQTGJTbIMxjQwZA2zk _3tGRl6x9iIWRiFTkKl3kcR\"><span class=\"_1uQvvM7M_K0hc4e29lRa8\">一覧</span></span></a></li></ul><form action=\"https://search.yahoo.co.jp/search\" name=\"sf1\" method=\"get\" role=\"search\"><fieldset><legend>Yahoo!検索</legend><span class=\"DqAzAIGI9nNwKOFNu3ohH\"><input type=\"search\" class=\"n1Bw-ocbo_PYJUKDrSyHN\" name=\"p\" autoComplete=\"on\" aria-label=\"検索したいキーワードを入力してください\" aria-live=\"assertive\"/><button class=\"_3doZ1jaGSB3ytjCOeYg5nG\" type=\"submit\" data-ylk=\"rsec:search;slk:web;pos:0\" data-cl-params=\"_cl_vmodule:search;_cl_link:web;_cl_position:0\"><span class=\"_4L_am9wbgiSNBUD50wbDA\"><span class=\"_3oyNASbPKmiq-iwh602OKt\">検索</span></span></button></span></fieldset><input type=\"hidden\" name=\"fr\" value=\"top_table\"/><input type=\"hidden\" name=\"ei\" value=\"UTF-8\"/><input type=\"hidden\" name=\"ts\"/><input type=\"hidden\" name=\"aq\" value=\"\"/></form></div></section><div id=\"Message\" class=\"ult__mods\"><noscript><section class=\"_1bzp-M2uxs86VaYq0IxNuy\"><h1 class=\"_2lQjNEXfrs2C14psQwQ5ai _3v9VCsGKsktTB7eaN70w-n\">JavaScriptの設定について</h1><div class=\"_19J_Z9KVKnQzOVKA0jkC4e\"><p><span class=\"fQMqQTGJTbIMxjQwZA2zk _3tGRl6x9iIWRiFTkKl3kcR\">JavaScriptが無効になっています。すべての機能を利用するためには、有効に設定してください。<br/>詳しくは「<a class=\"_1NzGMsC3awTFzjzXnvX-zV\" data-ylk=\"rsec:message;slk:jsof;pos:0\" data-cl-params=\"_cl_vmodule:message;_cl_link:jsof;_cl_position:0\" href=\"https://support.yahoo-net.jp/noscript\">JavaScriptの設定方法</a>」をご覧ください。</span></p></div></section></noscript><section class=\"_1bzp-M2uxs86VaYq0IxNuy\"><h1 class=\"_2lQjNEXfrs2C14psQwQ5ai _3v9VCsGKsktTB7eaN70w-n\">推奨ブラウザーについて</h1><div class=\"_19J_Z9KVKnQzOVKA0jkC4e\"><p><span class=\"fQMqQTGJTbIMxjQwZA2zk _3tGRl6x9iIWRiFTkKl3kcR\">Yahoo! JAPANトップページの機能を正しくご利用いただくには、下記の環境が必要です。<span class=\"_1XWJVEK6heb_Paj9eU6R1u\">パソコンでご利用のお客様<br/>Windows：Edge 最新版 / Chrome 最新版 / Firefox 最新版　macOS：Safari 11.0以上</span><span class=\"_1XWJVEK6heb_Paj9eU6R1u\">タブレットでご利用のお客様<br/>iOS 9.0以降、または、Android4.4以降のOSに標準搭載されたブラウザー<br/>※日本国内版として発売されている端末でご利用ください。</span></span></p></div></section></div><section id=\"TopLink\" class=\"_2Pb7ROIJrC3Wj9bPxN4J7D ult__mods\"><h1 class=\"T29vXGZu-fmHRJfd123YZ _3v9VCsGKsktTB7eaN70w-n\">お知らせ</h1><ul class=\"QoCp7KDEt29FbN5hCjsCx\" aria-label=\"お知らせ\"><li class=\"_2ZzfUQqYuRip1h-aXoiCHV\"><a class=\"yMWCYupQNdgppL-NV6sMi _3sAlKGsIBCxTUbNi86oSjt\" href=\"https://news.yahoo.co.jp/pages/denki\" data-ylk=\"rsec:toplink;slk:link;pos:1;aid:2834820\" data-cl-params=\"_cl_vmodule:toplink;_cl_link:link;_cl_position:1;aid:2834820\"><span class=\"fQMqQTGJTbIMxjQwZA2zk _3tGRl6x9iIWRiFTkKl3kcR\"><span class=\"_3S2Wdrkt1LKANaWcLrZToT\">あす30日も電力ひっ迫注意報　見通しと対策</span></span></a></li><li class=\"_2ZzfUQqYuRip1h-aXoiCHV\"><a class=\"yMWCYupQNdgppL-NV6sMi _3sAlKGsIBCxTUbNi86oSjt\" href=\"https://travel.yahoo.co.jp/ikCo.ashx?cosid=y_010019&amp;cosuid=yttl&amp;surl=feature%2Fcampaign_summer%2F&amp;sc_e=yttl\" data-ylk=\"rsec:toplink;slk:link;pos:2;aid:2833041\" data-cl-params=\"_cl_vmodule:toplink;_cl_link:link;_cl_position:2;aid:2833041\"><span class=\"fQMqQTGJTbIMxjQwZA2zk _3tGRl6x9iIWRiFTkKl3kcR\"><span class=\"_3S2Wdrkt1LKANaWcLrZToT\">宿泊予約するだけで、誰でも最大10％お得に</span></span></a></li><li class=\"_2ZzfUQqYuRip1h-aXoiCHV\"><a class=\"yMWCYupQNdgppL-NV6sMi _3sAlKGsIBCxTUbNi86oSjt\" href=\"https://news.yahoo.co.jp/senkyo\" data-ylk=\"rsec:toplink;slk:link;pos:3;aid:2833035\" data-cl-params=\"_cl_vmodule:toplink;_cl_link:link;_cl_position:3;aid:2833035\"><span class=\"fQMqQTGJTbIMxjQwZA2zk _3tGRl6x9iIWRiFTkKl3kcR\"><span class=\"_3S2Wdrkt1LKANaWcLrZToT\">参院選　各選挙区の候補者や政党との相性は</span></span></a></li></ul></section></header><main><div class=\"TB4Q1fVfD913TSKe04tHT\"><nav><div class=\"_1nJ39BFpWaPCIWutB-olO8 _171Q0OxQF2Vk3J_CxMxajb -DmdTfmK9dpsdI1vggc-z\"><header class=\"_37AoRe1Io5JOtSIPDdUQCF _1m5d7MNAIFyOM71xJdSK_s _3v9VCsGKsktTB7eaN70w-n\"><h1 class=\"_2LJWWRbnY7KqEPyWQukxFD _2vlyNSs41eUR8HDyQ8iUvQ\">主なサービス</h1></header><div id=\"ToolList\"><ul class=\"_1glrFPJpWbefWf8qr3k4FU\" aria-label=\"主なサービス\"><li><div class=\"_3Ip8DQAJYKfPeByyVN-utZ\"><a class=\"yMWCYupQNdgppL-NV6sMi _3sAlKGsIBCxTUbNi86oSjt\" href=\"https://shopping.yahoo.co.jp/?sc_e=ytc\" aria-label=\"ショッピングへ遷移する\"><p class=\"_2bBRLhI5ZpVYu0tuHZEFrn\"><span class=\"pz0On1w4yAviBGMdKItoQ\"><span class=\"fQMqQTGJTbIMxjQwZA2zk _3tGRl6x9iIWRiFTkKl3kcR\">ショッピング</span></span><span class=\"_1Al3K70np2V_Ev1eGkfsBm\"><span class=\"_2Uq6Pw5lfFfxr_OD36xHp6 _1dr5aVDbNPF63JCS2bJhij MOLSPrtOUmdnYy_LgNt2f\" style=\"width:20px;height:20px\"></span></span></p></a></div></li><li><div class=\"_3Ip8DQAJYKfPeByyVN-utZ\"><a class=\"yMWCYupQNdgppL-NV6sMi _3sAlKGsIBCxTUbNi86oSjt\" href=\"https://paypaymall.yahoo.co.jp/?sc_e=ytc\" aria-label=\"PayPayモールへ遷移する\"><p class=\"_2bBRLhI5ZpVYu0tuHZEFrn\"><span class=\"pz0On1w4yAviBGMdKItoQ\"><span class=\"fQMqQTGJTbIMxjQwZA2zk _3tGRl6x9iIWRiFTkKl3kcR\">PayPayモール</span></span><span class=\"_1Al3K70np2V_Ev1eGkfsBm\"><span class=\"_2Uq6Pw5lfFfxr_OD36xHp6 _1dr5aVDbNPF63JCS2bJhij _2aNXx7_xy-w5TRQtsAbLhN\" style=\"width:20px;height:20px\"></span></span></p></a></div></li><li><div class=\"_3Ip8DQAJYKfPeByyVN-utZ\"><a class=\"yMWCYupQNdgppL-NV6sMi _3sAlKGsIBCxTUbNi86oSjt\" href=\"https://auctions.yahoo.co.jp\" aria-label=\"ヤフオク!へ遷移する\"><p class=\"_2bBRLhI5ZpVYu0tuHZEFrn\"><span class=\"pz0On1w4yAviBGMdKItoQ\"><span class=\"fQMqQTGJTbIMxjQwZA2zk _3tGRl6x9iIWRiFTkKl3kcR\">ヤフオク!</span></span><span class=\"_1Al3K70np2V_Ev1eGkfsBm\"><span class=\"_2Uq6Pw5lfFfxr_OD36xHp6 _1dr5aVDbNPF63JCS2bJhij _1K47f2oTmrnpusFOpVVqfY\" style=\"width:20px;height:20px\"></span></span></p></a></div></li><li><div class=\"_3Ip8DQAJYKfPeByyVN-utZ\"><a class=\"yMWCYupQNdgppL-NV6sMi _3sAlKGsIBCxTUbNi86oSjt\" href=\"https://app.adjust.com/1kmi1m2?redirect=https%3A%2F%2Fpaypayfleamarket.yahoo.co.jp%2F%3Fcpt_s%3Dytopmedia%26cpt_m%3Dkotei%26cpt_n%3Dcontent%26cpt_c%3Dytopmedia\" aria-label=\"PayPayフリマへ遷移する\"><p class=\"_2bBRLhI5ZpVYu0tuHZEFrn\"><span class=\"pz0On1w4yAviBGMdKItoQ\"><span class=\"fQMqQTGJTbIMxjQwZA2zk _3tGRl6x9iIWRiFTkKl3kcR\">PayPayフリマ</span></span><span class=\"_1Al3K70np2V_Ev1eGkfsBm\"><span class=\"_2Uq6Pw5lfFfxr_OD36xHp6 _1dr5aVDbNPF63JCS2bJhij _3zb-zxOYGPoHJ2-_Ie8y8T\" style=\"width:20px;height:20px\"></span></span></p></a></div></li><li><div class=\"_3Ip8DQAJYKfPeByyVN-utZ\"><a class=\"yMWCYupQNdgppL-NV6sMi _3sAlKGsIBCxTUbNi86oSjt\" href=\"https://zozo.jp/?utm_source=yahoo&amp;utm_medium=referral&amp;utm_campaign=web_ytop-leftcolumn\" aria-label=\"ZOZOTOWNへ遷移する\"><p class=\"_2bBRLhI5ZpVYu0tuHZEFrn\"><span class=\"pz0On1w4yAviBGMdKItoQ\"><span class=\"fQMqQTGJTbIMxjQwZA2zk _3tGRl6x9iIWRiFTkKl3kcR\">ZOZOTOWN</span></span><span class=\"_1Al3K70np2V_Ev1eGkfsBm\"><span class=\"_2Uq6Pw5lfFfxr_OD36xHp6 _1dr5aVDbNPF63JCS2bJhij _2VdNwkD_q8hjK0ZyvATgab\" style=\"width:20px;height:20px\"></span></span></p></a></div></li><li><div class=\"_3Ip8DQAJYKfPeByyVN-utZ\"><a class=\"yMWCYupQNdgppL-NV6sMi _3sAlKGsIBCxTUbNi86oSjt\" href=\"https://lohaco.yahoo.co.jp/?bk=t&amp;sc_e=j_as_ya_tc_n&amp;iscr=1\" aria-label=\"LOHACOへ遷移する\"><p class=\"_2bBRLhI5ZpVYu0tuHZEFrn\"><span class=\"pz0On1w4yAviBGMdKItoQ\"><span class=\"fQMqQTGJTbIMxjQwZA2zk _3tGRl6x9iIWRiFTkKl3kcR\">LOHACO</span></span><span class=\"_1Al3K70np2V_Ev1eGkfsBm\"><span class=\"_2Uq6Pw5lfFfxr_OD36xHp6 _1dr5aVDbNPF63JCS2bJhij _3xvmznkMqRitO0Iqn3ckur\" style=\"width:20px;height:20px\"></span></span></p></a></div></li><li><div class=\"_3Ip8DQAJYKfPeByyVN-utZ\"><a class=\"yMWCYupQNdgppL-NV6sMi _3sAlKGsIBCxTUbNi86oSjt\" href=\"https://travel.yahoo.co.jp/ikCo.ashx?cosid=y_010002&amp;cosuid=ytsl&amp;surl=%2F&amp;sc_e=ytsl\" aria-label=\"トラベルへ遷移する\"><p class=\"_2bBRLhI5ZpVYu0tuHZEFrn\"><span class=\"pz0On1w4yAviBGMdKItoQ\"><span class=\"fQMqQTGJTbIMxjQwZA2zk _3tGRl6x9iIWRiFTkKl3kcR\">トラベル</span></span><span class=\"_1Al3K70np2V_Ev1eGkfsBm\"><span class=\"_2Uq6Pw5lfFfxr_OD36xHp6 _1dr5aVDbNPF63JCS2bJhij _1yEKxUFSw-Xv2gaBZsYRuI\" style=\"width:20px;height:20px\"></span></span></p></a></div></li><li><div class=\"_3Ip8DQAJYKfPeByyVN-utZ\"><a class=\"yMWCYupQNdgppL-NV6sMi _3sAlKGsIBCxTUbNi86oSjt\" href=\"https://www.ikyu.com/ikCo.ashx?cosid=ik010002&amp;surl=%2F&amp;sc_e=ytc_pc_ikyu\" aria-label=\"一休.comへ遷移する\"><p class=\"_2bBRLhI5ZpVYu0tuHZEFrn\"><span class=\"pz0On1w4yAviBGMdKItoQ\"><span class=\"fQMqQTGJTbIMxjQwZA2zk _3tGRl6x9iIWRiFTkKl3kcR\">一休.com</span></span><span class=\"_1Al3K70np2V_Ev1eGkfsBm\"><span class=\"_2Uq6Pw5lfFfxr_OD36xHp6 _1dr5aVDbNPF63JCS2bJhij daLkyi7PiGXeFyVYTU_9n\" style=\"width:20px;height:20px\"></span></span></p></a></div></li><li><div class=\"_3Ip8DQAJYKfPeByyVN-utZ\"><a class=\"yMWCYupQNdgppL-NV6sMi _3sAlKGsIBCxTUbNi86oSjt\" href=\"https://restaurant.ikyu.com/rsCosite.asp?CosNo=10000175&amp;CosUrl=\" aria-label=\"一休.comレストランへ遷移する\"><p class=\"_2bBRLhI5ZpVYu0tuHZEFrn\"><span class=\"pz0On1w4yAviBGMdKItoQ\"><span class=\"fQMqQTGJTbIMxjQwZA2zk _3tGRl6x9iIWRiFTkKl3kcR\">一休.comレストラン</span></span><span class=\"_1Al3K70np2V_Ev1eGkfsBm\"><span class=\"_2Uq6Pw5lfFfxr_OD36xHp6 _1dr5aVDbNPF63JCS2bJhij _1z4Le4zkghapVZCQm9RCy8\" style=\"width:20px;height:20px\"></span></span></p></a></div></li><li><div class=\"_3Ip8DQAJYKfPeByyVN-utZ\"><a class=\"yMWCYupQNdgppL-NV6sMi _3sAlKGsIBCxTUbNi86oSjt\" href=\"https://demae-can.com/?utm_source=yahoo&amp;utm_medium=toplink&amp;utm_campaign=demaecantop\" aria-label=\"出前館へ遷移する\"><p class=\"_2bBRLhI5ZpVYu0tuHZEFrn\"><span class=\"pz0On1w4yAviBGMdKItoQ\"><span class=\"fQMqQTGJTbIMxjQwZA2zk _3tGRl6x9iIWRiFTkKl3kcR\">出前館</span></span><span class=\"_1Al3K70np2V_Ev1eGkfsBm\"><span class=\"_2Uq6Pw5lfFfxr_OD36xHp6 _1dr5aVDbNPF63JCS2bJhij NuRliOifOckuQ9kobVaI9\" style=\"width:20px;height:20px\"></span></span></p></a></div></li></ul></div><footer id=\"ToolFooter\" class=\"_3wZKJtfV8AYYaTP-zoyO9O ult__mods\"><a class=\"yMWCYupQNdgppL-NV6sMi _3sAlKGsIBCxTUbNi86oSjt\" href=\"https://services.yahoo.co.jp/\" data-ylk=\"rsec:tool;slk:list;pos:0\" data-cl-params=\"_cl_vmodule:tool;_cl_link:list;_cl_position:0\" aria-label=\"Yahoo! JAPANのサービス一覧\"><dl class=\"STepvEgbaZ0rLEqfER-qm\"><dt class=\"W2bretj6vyf8QDes2gkQA\"><span class=\"fQMqQTGJTbIMxjQwZA2zk _3tGRl6x9iIWRiFTkKl3kcR\">サービス一覧</span></dt><dd class=\"_37zK--zuySKLzNE12rgdHL\"><span class=\"_2Uq6Pw5lfFfxr_OD36xHp6 _1dr5aVDbNPF63JCS2bJhij _3WrFs0ChLr_s9-gBqS7yts\" style=\"width:12px;height:12px\"></span></dd></dl></a></footer></div></nav></div><div class=\"uNpDe6C78e3sXg1jhoFPr\"><div class=\"_2DunygeBZHdgHX_Gih3GC4\" id=\"Topics\"><article><div class=\"_1nJ39BFpWaPCIWutB-olO8 -DmdTfmK9dpsdI1vggc-z\"><header class=\"_3WRl3h4EAx9fdzwK76sfHC\"><h1 class=\"_2LJWWRbnY7KqEPyWQukxFD _9YxVmCAhrwLz2V6qXWqBJ\" aria-label=\"Yahoo!ニュース\">ニュース</h1></header><section id=\"tabpanelTopics1\" class=\"ult__mods\" role=\"tabpanel\" aria-labelledby=\"tabTopics1\" aria-hidden=\"false\"><header class=\"_5swsXRdQMtHOvhS2bwHid _3v9VCsGKsktTB7eaN70w-n\"><h1>主要 ニュース</h1></header><div class=\"_1XAfHUWtx6tfYZuWDVjNxZ\"><div class=\"_2jjSS8r_I9Zd6O9NFJtDN-\" aria-label=\"主要 ニュース\"><p class=\"_2vq5UBfOFpYcyqNRy51gDf\"><span class=\"fQMqQTGJTbIMxjQwZA2zk _2VDw54wcDejORZkozpOysW\">6/29(水) 17:48更新</span></p><ul><li class=\"_2j0udhv5jERZtYzddeDwcv\"><article class=\"QLtbNZwO-lssuRUcWewbd\" data-ual-view-type=\"list\" data-ual=\"id_type:shannon_article;content_id:bb138333e026dd8fd63d3c3716d4162b0714478a;element_id:first-news-topics-text\"><a class=\"yMWCYupQNdgppL-NV6sMi _3sAlKGsIBCxTUbNi86oSjt\" href=\"https://news.yahoo.co.jp/pickup/6431016\" data-ylk=\"rsec:tpto;slk:title;pos:1;tpid:6431016;imgsize:s;cmt_num:326\" data-cl-params=\"_cl_vmodule:tpto;_cl_link:title;_cl_position:1;tpid:6431016;imgsize:s;cmt_num:326\" data-ual-gotocontent=\"true\"><div class=\"_2cXD1uC4eaOih4-zkRgqjU\"><div class=\"TRuzXRRZHRqbqgLUCCco9\"><h1 class=\"_3cl937Zpn1ce8mDKd5kp7u\"><span class=\"fQMqQTGJTbIMxjQwZA2zk _1alzSpTqJzvSVUWqpx82d4\">電力ひっ迫 東電管内30日も注意報</span></h1></div></div></a></article></li><li class=\"_2j0udhv5jERZtYzddeDwcv\"><article class=\"QLtbNZwO-lssuRUcWewbd\" data-ual-view-type=\"list\" data-ual=\"id_type:shannon_article;content_id:f9f7663bf672367dfa4f959e011334d683a80290;element_id:first-news-topics-text\"><a class=\"yMWCYupQNdgppL-NV6sMi _3sAlKGsIBCxTUbNi86oSjt\" href=\"https://news.yahoo.co.jp/pickup/6431013\" data-ylk=\"rsec:tpto;slk:title;pos:2;tpid:6431013;imgsize:s;cmt_num:2143\" data-cl-params=\"_cl_vmodule:tpto;_cl_link:title;_cl_position:2;tpid:6431013;imgsize:s;cmt_num:2143\" data-ual-gotocontent=\"true\"><div class=\"_2cXD1uC4eaOih4-zkRgqjU\"><div class=\"TRuzXRRZHRqbqgLUCCco9\"><h1 class=\"_3cl937Zpn1ce8mDKd5kp7u\"><span class=\"fQMqQTGJTbIMxjQwZA2zk _1alzSpTqJzvSVUWqpx82d4\">電力大手4社 8月電気料金値上げ</span></h1></div></div></a></article></li><li class=\"_2j0udhv5jERZtYzddeDwcv\"><article class=\"QLtbNZwO-lssuRUcWewbd\" data-ual-view-type=\"list\" data-ual=\"id_type:shannon_article;content_id:257f789286ce5bcaafceab73b44c6d05ad70def1;element_id:first-news-topics-text\"><a class=\"yMWCYupQNdgppL-NV6sMi _3sAlKGsIBCxTUbNi86oSjt\" href=\"https://news.yahoo.co.jp/pickup/6431026\" data-ylk=\"rsec:tpto;slk:title;pos:3;tpid:6431026;imgsize:s;cmt_num:116\" data-cl-params=\"_cl_vmodule:tpto;_cl_link:title;_cl_position:3;tpid:6431026;imgsize:s;cmt_num:116\" data-ual-gotocontent=\"true\"><div class=\"_2cXD1uC4eaOih4-zkRgqjU\"><div class=\"TRuzXRRZHRqbqgLUCCco9\"><h1 class=\"_3cl937Zpn1ce8mDKd5kp7u\"><span class=\"fQMqQTGJTbIMxjQwZA2zk _1alzSpTqJzvSVUWqpx82d4\">40℃の酷暑継続か 来週は戻り梅雨</span></h1><span class=\"_2obRU_TgAxzHaYqOXrZYlv\"><span class=\"h4yLXygiSc5wwNlJOQEdz _1dr5aVDbNPF63JCS2bJhij _2M3AyDfFaeJl3Uo7lUPMAp\" style=\"width:30px;height:12px\">NEW</span></span></div></div></a></article></li><li class=\"_2j0udhv5jERZtYzddeDwcv\"><article class=\"QLtbNZwO-lssuRUcWewbd\" data-ual-view-type=\"list\" data-ual=\"id_type:shannon_article;content_id:16749c03f5f44b20bb82de481670c6d5283099f2;element_id:first-news-topics-text\"><a class=\"yMWCYupQNdgppL-NV6sMi _3sAlKGsIBCxTUbNi86oSjt\" href=\"https://news.yahoo.co.jp/pickup/6431022\" data-ylk=\"rsec:tpto;slk:title;pos:4;tpid:6431022;imgsize:s;cmt_num:0\" data-cl-params=\"_cl_vmodule:tpto;_cl_link:title;_cl_position:4;tpid:6431022;imgsize:s;cmt_num:0\" data-ual-gotocontent=\"true\"><div class=\"_2cXD1uC4eaOih4-zkRgqjU\"><div class=\"TRuzXRRZHRqbqgLUCCco9\"><h1 class=\"_3cl937Zpn1ce8mDKd5kp7u\"><span class=\"fQMqQTGJTbIMxjQwZA2zk _1alzSpTqJzvSVUWqpx82d4\">USB紛失 市長のボーナスをカット</span></h1></div></div></a></article></li><li class=\"_2j0udhv5jERZtYzddeDwcv\"><article class=\"QLtbNZwO-lssuRUcWewbd\" data-ual-view-type=\"list\" data-ual=\"id_type:shannon_article;content_id:4051f9a4cf7088f867e21e5378ae3ed3f35564d6;element_id:first-news-topics-text\"><a class=\"yMWCYupQNdgppL-NV6sMi _3sAlKGsIBCxTUbNi86oSjt\" href=\"https://news.yahoo.co.jp/pickup/6431024\" data-ylk=\"rsec:tpto;slk:title;pos:5;tpid:6431024;imgsize:s;cmt_num:337\" data-cl-params=\"_cl_vmodule:tpto;_cl_link:title;_cl_position:5;tpid:6431024;imgsize:s;cmt_num:337\" data-ual-gotocontent=\"true\"><div class=\"_2cXD1uC4eaOih4-zkRgqjU\"><div class=\"TRuzXRRZHRqbqgLUCCco9\"><h1 class=\"_3cl937Zpn1ce8mDKd5kp7u\"><span class=\"fQMqQTGJTbIMxjQwZA2zk _1alzSpTqJzvSVUWqpx82d4\">バレー名将が部員に傷害疑い 逮捕</span></h1><span class=\"_2obRU_TgAxzHaYqOXrZYlv\"><span class=\"h4yLXygiSc5wwNlJOQEdz _1dr5aVDbNPF63JCS2bJhij _2M3AyDfFaeJl3Uo7lUPMAp\" style=\"width:30px;height:12px\">NEW</span></span></div></div></a></article></li><li class=\"_2j0udhv5jERZtYzddeDwcv\"><article class=\"QLtbNZwO-lssuRUcWewbd\" data-ual-view-type=\"list\" data-ual=\"id_type:shannon_article;content_id:c3814b56f3a20f1590b40ee42f90eb7307f9a7ea;element_id:first-news-topics-text\"><a class=\"yMWCYupQNdgppL-NV6sMi _3sAlKGsIBCxTUbNi86oSjt\" href=\"https://news.yahoo.co.jp/pickup/6431011\" data-ylk=\"rsec:tpto;slk:title;pos:6;tpid:6431011;imgsize:s;cmt_num:383\" data-cl-params=\"_cl_vmodule:tpto;_cl_link:title;_cl_position:6;tpid:6431011;imgsize:s;cmt_num:383\" data-ual-gotocontent=\"true\"><div class=\"_2cXD1uC4eaOih4-zkRgqjU\"><div class=\"TRuzXRRZHRqbqgLUCCco9\"><h1 class=\"_3cl937Zpn1ce8mDKd5kp7u\"><span class=\"fQMqQTGJTbIMxjQwZA2zk _1alzSpTqJzvSVUWqpx82d4\">アニサキス食中毒 なぜ痛む</span></h1><span class=\"_2obRU_TgAxzHaYqOXrZYlv\"><span class=\"h4yLXygiSc5wwNlJOQEdz _1dr5aVDbNPF63JCS2bJhij _2M3AyDfFaeJl3Uo7lUPMAp\" style=\"width:30px;height:12px\">NEW</span></span></div></div></a></article></li><li class=\"_2j0udhv5jERZtYzddeDwcv\"><article class=\"QLtbNZwO-lssuRUcWewbd\" data-ual-view-type=\"list\" data-ual=\"id_type:shannon_article;content_id:7ad09c76b7c2a762b05ee80d7e1b4339a6d083fa;element_id:first-news-topics-text\"><a class=\"yMWCYupQNdgppL-NV6sMi _3sAlKGsIBCxTUbNi86oSjt\" href=\"https://news.yahoo.co.jp/pickup/6431020\" data-ylk=\"rsec:tpto;slk:title;pos:7;tpid:6431020;imgsize:s;cmt_num:1976\" data-cl-params=\"_cl_vmodule:tpto;_cl_link:title;_cl_position:7;tpid:6431020;imgsize:s;cmt_num:1976\" data-ual-gotocontent=\"true\"><div class=\"_2cXD1uC4eaOih4-zkRgqjU\"><div class=\"TRuzXRRZHRqbqgLUCCco9\"><h1 class=\"_3cl937Zpn1ce8mDKd5kp7u\"><span class=\"fQMqQTGJTbIMxjQwZA2zk _1alzSpTqJzvSVUWqpx82d4\">騒動のキャディー 処分なら不本意</span></h1></div></div></a></article></li><li class=\"_2j0udhv5jERZtYzddeDwcv\"><article class=\"QLtbNZwO-lssuRUcWewbd\" data-ual-view-type=\"list\" data-ual=\"id_type:shannon_article;content_id:e49522909560400fc16948928c68c146d43b8bfb;element_id:first-news-topics-text\"><a class=\"yMWCYupQNdgppL-NV6sMi _3sAlKGsIBCxTUbNi86oSjt\" href=\"https://news.yahoo.co.jp/pickup/6431028\" data-ylk=\"rsec:tpto;slk:title;pos:8;tpid:6431028;imgsize:s;cmt_num:110\" data-cl-params=\"_cl_vmodule:tpto;_cl_link:title;_cl_position:8;tpid:6431028;imgsize:s;cmt_num:110\" data-ual-gotocontent=\"true\"><div class=\"_2cXD1uC4eaOih4-zkRgqjU\"><div class=\"TRuzXRRZHRqbqgLUCCco9\"><h1 class=\"_3cl937Zpn1ce8mDKd5kp7u\"><span class=\"fQMqQTGJTbIMxjQwZA2zk _1alzSpTqJzvSVUWqpx82d4\">竹内涼真 髪形は「おすすめです」</span></h1><span class=\"_2obRU_TgAxzHaYqOXrZYlv\"><span class=\"h4yLXygiSc5wwNlJOQEdz _1dr5aVDbNPF63JCS2bJhij _2M3AyDfFaeJl3Uo7lUPMAp\" style=\"width:30px;height:12px\">NEW</span></span></div></div></a></article></li></ul></div><div class=\"_3sm0x0pVyxLkf4q9ubmXSL\"><article><a class=\"yMWCYupQNdgppL-NV6sMi _3sAlKGsIBCxTUbNi86oSjt\" href=\"https://news.yahoo.co.jp/articles/7d876b1cc08176b78acd3b5c5d29aa357b12d837/images/000\" data-ylk=\"rsec:tpto;slk:title;pos:9;imgsize:l\" data-cl-params=\"_cl_vmodule:tpto;_cl_link:title;_cl_position:9;imgsize:l\"><div class=\"_1EYwdR4JxrwgpIvWk7vO3f\"><h1 class=\"RS4h_eDWC6FIIyYMupWR0\"><span class=\"fQMqQTGJTbIMxjQwZA2zk _1alzSpTqJzvSVUWqpx82d4\">6月猛暑</span></h1><p class=\"_2e8OreFgYIc3gdzYJLKAMA\"><time class=\"_1GD9Sx7FpCs4EuL3bT974r\">6/29(水) 14:37</time></p><div class=\"_1pfcRKnf6y-2AXzpXf0vrb\"><cite class=\"O9jggTRv0zy3XcPayfJLa\">共同通信</cite></div><div class=\"_1UmUawjY6VSzmTK3Y-1sjq\"><span class=\"rStpk9W4eUO5IMVhnJylj\"><picture><source type=\"image/webp\" srcSet=\"https://news-pctr.c.yimg.jp/t/news-topics/images/tpc/2022/6/29/e16bcdda05f841a4ca5560403e919af99ba15b2762cb88848088fc9de89fdc3d.jpg?h=200&amp;w=200&amp;pri=l&amp;fmt=webp\"/><img src=\"https://news-pctr.c.yimg.jp/t/news-topics/images/tpc/2022/6/29/e16bcdda05f841a4ca5560403e919af99ba15b2762cb88848088fc9de89fdc3d.jpg?h=200&amp;w=200&amp;pri=l\" width=\"90\" height=\"62.14090909090909\" alt=\"\"/></picture></span></div></div></a></article></div></div><footer class=\"_14QMUEF7FBJllh14_fachi\"><ul class=\"g0enqV_RXcWSi7gOheAhU\"><li class=\"_3gXYBXvKzn55TlnxGoxJ5j\"><span class=\"fQMqQTGJTbIMxjQwZA2zk _1alzSpTqJzvSVUWqpx82d4\"><a class=\"yMWCYupQNdgppL-NV6sMi _3sAlKGsIBCxTUbNi86oSjt\" href=\"https://news.yahoo.co.jp/topics/top-picks\" data-ylk=\"rsec:tpto;slk:more;pos:0\" data-cl-params=\"_cl_vmodule:tpto;_cl_link:more;_cl_position:0\">もっと見る</a></span></li><li class=\"_3gXYBXvKzn55TlnxGoxJ5j\"><span class=\"fQMqQTGJTbIMxjQwZA2zk _1alzSpTqJzvSVUWqpx82d4\"><a class=\"yMWCYupQNdgppL-NV6sMi _3sAlKGsIBCxTUbNi86oSjt\" href=\"https://news.yahoo.co.jp/topics\" data-ylk=\"rsec:tpto;slk:list;pos:0\" data-cl-params=\"_cl_vmodule:tpto;_cl_link:list;_cl_position:0\">トピックス一覧</a></span></li></ul></footer></section></div></article></div></div><div class=\"_25JlXdhY8HDBefygTGBvyW\"><article class=\"_3Ehituw3p_tjwuQ6KpjDWE\"><div class=\"_1nJ39BFpWaPCIWutB-olO8 _171Q0OxQF2Vk3J_CxMxajb -DmdTfmK9dpsdI1vggc-z\"><div class=\"_3DayOTWaRJVwUMySMNY4MZ\"><header class=\"ipzr3pZxMz2g8uDg9Y7R1 _3v9VCsGKsktTB7eaN70w-n\"><h1 class=\"_2LJWWRbnY7KqEPyWQukxFD _2vlyNSs41eUR8HDyQ8iUvQ\">個人に関わる情報</h1></header><div id=\"Login\" class=\"ult__mods JnVVZlSIAMbTJUrCMznTu\"><div class=\"_3anmkKnMOA7QwHXTM7PZ9T\"><p class=\"_1tJgZl7jyxpfZIocuTRj5W\"><a class=\"yMWCYupQNdgppL-NV6sMi _3sAlKGsIBCxTUbNi86oSjt\" href=\"https://login.yahoo.co.jp/config/login?.src=www&amp;.done=https://www.yahoo.co.jp/\" data-ylk=\"rsec:personal;slk:login;pos:0\" data-cl-params=\"_cl_vmodule:personal;_cl_link:login;_cl_position:0\"><span class=\"fQMqQTGJTbIMxjQwZA2zk _3tGRl6x9iIWRiFTkKl3kcR\">ログイン</span></a></p><p class=\"_1hINco49ET4FljpITFfh4h\"><a class=\"yMWCYupQNdgppL-NV6sMi _3sAlKGsIBCxTUbNi86oSjt\" href=\"https://account.edit.yahoo.co.jp/registration?.src=www&amp;.done=https://www.yahoo.co.jp/\" data-ylk=\"rsec:personal;slk:reg;pos:0\" data-cl-params=\"_cl_vmodule:personal;_cl_link:reg;_cl_position:0\"><span class=\"_1mkb9myOuisBstoCqO0Hqs\">ID新規取得</span></a></p></div><a class=\"yMWCYupQNdgppL-NV6sMi _3sAlKGsIBCxTUbNi86oSjt\" href=\"https://login.yahoo.co.jp/config/login?.src=www&amp;.done=https%3A%2F%2Faccounts.yahoo.co.jp%2Fprofile%3F.done%3Dhttps%253A%252F%252Fwww.yahoo.co.jp%252F%253F.src%253Dwww%2526t_cushion%253D1\" data-ylk=\"rsec:personal;slk:profile;pos:0\" data-cl-params=\"_cl_vmodule:personal;_cl_link:profile;_cl_position:0\"><p class=\"_2KSAVmekATGu43KySZB31Z _39bsyXI766slVaQ8YaCP7e\">登録情報</p></a></div><div class=\"_3sWLgEua45mRS1wa27goG-\"><section><div class=\"_1nJ39BFpWaPCIWutB-olO8 -DmdTfmK9dpsdI1vggc-z\"><header class=\"_37AoRe1Io5JOtSIPDdUQCF _1m5d7MNAIFyOM71xJdSK_s _3v9VCsGKsktTB7eaN70w-n\"><h1 class=\"_2LJWWRbnY7KqEPyWQukxFD _2vlyNSs41eUR8HDyQ8iUvQ\">あなたのステータス</h1></header><ul class=\"_2Wm09S4b119SO3Eoh_Q7V3\" aria-label=\"あなたのステータス\"><li id=\"StatusMail\" class=\"_2RpFjP5HbDyD457N6YoFih\"><a class=\"yMWCYupQNdgppL-NV6sMi _3sAlKGsIBCxTUbNi86oSjt\" href=\"https://mail.yahoo.co.jp/\" data-ylk=\"rsec:personal;slk:mail;pos:0\" data-cl-params=\"_cl_vmodule:personal;_cl_link:mail;_cl_position:0\" aria-label=\"メール\"><dl class=\"NhCWhleHpZ0CADioxObVu\"><dt class=\"_3KpLuhOuze7bsGr1VOVvCU _1cwjJ3tGb1rIXP4crTFbkT\"><span class=\"_2Uq6Pw5lfFfxr_OD36xHp6 _1dr5aVDbNPF63JCS2bJhij _3Qi5P0lTFbNkWishPzz8tb\" style=\"width:34px;height:24px\">メール</span></dt><dd class=\"_1CLgF9dk2PVVFQFnko3vN0\"><span class=\"fQMqQTGJTbIMxjQwZA2zk DB1xWkV-AiF3oBGL1BuYd\">メール</span></dd></dl></a></li><li id=\"StatusMyCoupon\" class=\"_2RpFjP5HbDyD457N6YoFih ult__mods\"><a class=\"yMWCYupQNdgppL-NV6sMi _3sAlKGsIBCxTUbNi86oSjt\" href=\"https://takarabako.yahoo.co.jp/couponlist?sc_e=ytprsnl_m2cwithlp_tkbcplistkpc\" data-ylk=\"rsec:personal;slk:coupon;pos:0\" data-cl-params=\"_cl_vmodule:personal;_cl_link:coupon;_cl_position:0\" aria-label=\"クーポン確認\"><dl class=\"NhCWhleHpZ0CADioxObVu\"><dt class=\"_3KpLuhOuze7bsGr1VOVvCU _13KS_mFqHK2VUqgquLqEUn\"><span class=\"_2Uq6Pw5lfFfxr_OD36xHp6 _1dr5aVDbNPF63JCS2bJhij _1Vg0G_MV-B3DdCtI-6SS8z\" style=\"width:32px;height:26px\">Myクーポン</span></dt><dd class=\"_1CLgF9dk2PVVFQFnko3vN0\"><span class=\"fQMqQTGJTbIMxjQwZA2zk DB1xWkV-AiF3oBGL1BuYd\">クーポン確認</span></dd></dl></a></li><li id=\"StatusPayPay\" class=\"_2RpFjP5HbDyD457N6YoFih ult__mods\"><a class=\"yMWCYupQNdgppL-NV6sMi _3sAlKGsIBCxTUbNi86oSjt\" href=\"https://paypay.yahoo.co.jp/balance?.done=https%3A%2F%2Fwww.yahoo.co.jp%2F&amp;.bail=https%3A%2F%2Fwww.yahoo.co.jp%2F&amp;.linkdisp=1&amp;sc_e=ywww_pp_top_pc1\" data-ylk=\"rsec:personal;slk:paypay;pos:0;badge:off\" data-cl-params=\"_cl_vmodule:personal;_cl_link:paypay;_cl_position:0;badge:off\" aria-label=\"PayPay残高確認\"><dl class=\"NhCWhleHpZ0CADioxObVu\"><dt class=\"_3KpLuhOuze7bsGr1VOVvCU\"><span class=\"_2Uq6Pw5lfFfxr_OD36xHp6 _1dr5aVDbNPF63JCS2bJhij _2288dlil4Nkm3lO8Sm3hDU\" style=\"width:28px;height:28px\">PayPay</span></dt><dd class=\"_1CLgF9dk2PVVFQFnko3vN0\"><span class=\"fQMqQTGJTbIMxjQwZA2zk DB1xWkV-AiF3oBGL1BuYd\">PayPay残高確認</span></dd></dl></a></li></ul></div></section></div><div class=\"_31418k5_VMxE0Bfx2e1yNh\"><article id=\"Today\" class=\"ult__mods\"><div class=\"_1nJ39BFpWaPCIWutB-olO8 -DmdTfmK9dpsdI1vggc-z\"><header class=\"_3KxBQ9kjbz4FI25qkyAiJg\"><h1 class=\"_1kmEi41WiB4M_UKwNzOtG5 _3v9VCsGKsktTB7eaN70w-n\">今日の日付</h1><div class=\"_17f0xnyODgIyXzpprYD8Ot\"><p><a class=\"yMWCYupQNdgppL-NV6sMi _3sAlKGsIBCxTUbNi86oSjt\" href=\"https://calendar.yahoo.co.jp\" data-ylk=\"rsec:today;slk:date;pos:0\" data-cl-params=\"_cl_vmodule:today;_cl_link:date;_cl_position:0\" aria-label=\"今日の日付は2022年6月29日　水曜日\"><span class=\"fQMqQTGJTbIMxjQwZA2zk _3tGRl6x9iIWRiFTkKl3kcR\"><time class=\"_39pIdCsxycrMrZfr-69cAP\" dateTime=\"2022-06-29T09:04:19.000Z\">2022年6月29日(水)</time></span></a></p></div></header></div></article></div></div></div></article></div></main><footer id=\"footer\" role=\"contentinfo\" class=\"_2GpKo0TlJwonmUj2nqQxuE ult__mods\"><ul><li class=\"_2dqDKArI6iGaA3nS7xNUmE\"><dl><dt class=\"_2X2lsrA-jZqBKb6bsA9Vnr\"><span class=\"fQMqQTGJTbIMxjQwZA2zk _3tGRl6x9iIWRiFTkKl3kcR\">ヤフー株式会社</span></dt><dd><ul class=\"_3I3C2VL0OPEm7Iyt-OCFz0\"><li class=\"_3b1WmJCwznSYqqf7ptd54g\"><a class=\"yMWCYupQNdgppL-NV6sMi _3sAlKGsIBCxTUbNi86oSjt\" href=\"https://about.yahoo.co.jp/\" data-ylk=\"slk:comp;pos:0\" data-cl-params=\"_cl_link:comp;_cl_position:0\">会社概要</a></li><li class=\"_3b1WmJCwznSYqqf7ptd54g\"><a class=\"yMWCYupQNdgppL-NV6sMi _3sAlKGsIBCxTUbNi86oSjt\" href=\"https://about.yahoo.co.jp/csr/\" data-ylk=\"slk:soc;pos:0\" data-cl-params=\"_cl_link:soc;_cl_position:0\">社会的責任</a></li><li class=\"_3b1WmJCwznSYqqf7ptd54g\"><a class=\"yMWCYupQNdgppL-NV6sMi _3sAlKGsIBCxTUbNi86oSjt\" href=\"https://marketing.yahoo.co.jp/\" data-ylk=\"slk:ad;pos:0\" data-cl-params=\"_cl_link:ad;_cl_position:0\">広告掲載について</a></li><li class=\"_3b1WmJCwznSYqqf7ptd54g\"><a class=\"yMWCYupQNdgppL-NV6sMi _3sAlKGsIBCxTUbNi86oSjt\" href=\"https://about.yahoo.co.jp/hr/\" data-ylk=\"slk:hr;pos:0\" data-cl-params=\"_cl_link:hr;_cl_position:0\">採用情報</a></li></ul><ul class=\"_3I3C2VL0OPEm7Iyt-OCFz0\"><li class=\"_3b1WmJCwznSYqqf7ptd54g\"><a class=\"yMWCYupQNdgppL-NV6sMi _3sAlKGsIBCxTUbNi86oSjt\" href=\"https://about.yahoo.co.jp/common/terms/\" data-ylk=\"slk:agreement;pos:0\" data-cl-params=\"_cl_link:agreement;_cl_position:0\">利用規約</a></li><li class=\"_3b1WmJCwznSYqqf7ptd54g\"><a class=\"yMWCYupQNdgppL-NV6sMi _3sAlKGsIBCxTUbNi86oSjt\" href=\"https://about.yahoo.co.jp/common/disclaimer/\" data-ylk=\"slk:disc;pos:0\" data-cl-params=\"_cl_link:disc;_cl_position:0\">免責事項</a></li><li class=\"_3b1WmJCwznSYqqf7ptd54g\"><a class=\"yMWCYupQNdgppL-NV6sMi _3sAlKGsIBCxTUbNi86oSjt\" href=\"https://about.yahoo.co.jp/common/mediastatement/\" data-ylk=\"slk:state;pos:0\" data-cl-params=\"_cl_link:state;_cl_position:0\">メディアステートメント</a></li><li class=\"_3b1WmJCwznSYqqf7ptd54g\"><a class=\"yMWCYupQNdgppL-NV6sMi _3sAlKGsIBCxTUbNi86oSjt\" href=\"https://privacy.yahoo.co.jp/\" data-ylk=\"slk:policy;pos:0\" data-cl-params=\"_cl_link:policy;_cl_position:0\">プライバシー</a></li></ul></dd></dl></li><li class=\"_2dqDKArI6iGaA3nS7xNUmE\"><dl><dt class=\"_2X2lsrA-jZqBKb6bsA9Vnr\"><span class=\"fQMqQTGJTbIMxjQwZA2zk _3tGRl6x9iIWRiFTkKl3kcR\">Zホールディングス株式会社</span></dt><dd><ul class=\"_3I3C2VL0OPEm7Iyt-OCFz0\"><li class=\"_3b1WmJCwznSYqqf7ptd54g\"><a class=\"yMWCYupQNdgppL-NV6sMi _3sAlKGsIBCxTUbNi86oSjt\" href=\"https://www.z-holdings.co.jp/\" data-ylk=\"slk:z_comp;pos:0\" data-cl-params=\"_cl_link:z_comp;_cl_position:0\">会社概要</a></li><li class=\"_3b1WmJCwznSYqqf7ptd54g\"><a class=\"yMWCYupQNdgppL-NV6sMi _3sAlKGsIBCxTUbNi86oSjt\" href=\"https://www.z-holdings.co.jp/ir/\" data-ylk=\"slk:ir;pos:0\" data-cl-params=\"_cl_link:ir;_cl_position:0\">投資家情報</a></li></ul></dd></dl></li></ul><p class=\"_3rCO0-ffBAEkCS8URNYQBC\"><small class=\"_1wf30cBtHv6aK8mAYdYbuo\">© Yahoo Japan</small></p></footer></div></div><script src=\"https://s.yimg.jp/images/ds/ult/apj/rapid-4.4.0.js\"></script><script>(function(){\n",
      "  var osmode = \"unknown\";\n",
      "  if (typeof window.matchMedia !== \"undefined\") {\n",
      "    if (window.matchMedia(\"(prefers-color-scheme: dark)\").matches) {\n",
      "      osmode = \"dark\";\n",
      "    } else if (window.matchMedia(\"(prefers-color-scheme: light)\").matches) {\n",
      "      osmode = \"light\";\n",
      "    }\n",
      "  }\n",
      "  var sr = new YAHOO.i13n.JP.simpleRapid();\n",
      "  window.__rapid = sr.setSpaceid(2079181999)\n",
      "    .trackedClass(\"ult__mods\")\n",
      "    .trackedViewableClass(\"vult__mods\")\n",
      "    .startViewable()\n",
      "    .setPageParam({\"service\":\"toppage\",\"pagetype\":\"top\",\"status\":\"logout\",\"device\":\"pc\",\"os\":\"other\",\"apptype\":\"web\",\"opttype\":\"pc\",\"mtestid\":\"\",\"ybb\":\"0\",\"premium\":\"0\",\"paypay\":\"0\",\"jis\":\"\",\"grade\":\"c\"})\n",
      "    .setPageParam({ \"osmode\": osmode })\n",
      "    .initRapid();\n",
      "})();</script><script src=\"https://s.yimg.jp/images/ds/yas/ual-2.10.2.min.js\"></script><script>(function(){\n",
      "  window.ualcmds = window.ualcmds || [];\n",
      "  window.ual = window.ual || function() {\n",
      "    ualcmds.push(arguments);\n",
      "  };\n",
      "\n",
      "  ual('config', 'token', '4465a92c-f0fd-406f-b519-efd409cc9849');\n",
      "\n",
      "  ual('global', {\n",
      "    service: \"toppage\",\n",
      "    apptype: \"web\",\n",
      "    mtestid: \"\",\n",
      "    opttype: \"pc\"\n",
      "  });\n",
      "  ual('offset', {\n",
      "    auto: true\n",
      "  });\n",
      "  ual('ctrl', 'start');\n",
      "})();</script></body></html>\n"
     ]
    }
   ],
   "source": [
    "import requests\n",
    "r = requests.get('https://yahoo.co.jp')\n",
    "print(r.text)"
   ]
  },
  {
   "cell_type": "code",
   "execution_count": 21,
   "metadata": {},
   "outputs": [
    {
     "name": "stdout",
     "output_type": "stream",
     "text": [
      "('<!DOCTYPE html><html lang=\"ja\"><head><meta charSet=\"utf-8\"/><meta '\n",
      " 'http-equiv=\"X-UA-Compatible\" content=\"IE=edge,chrome=1\"/><title>Yahoo! '\n",
      " 'JAPAN</title><meta name=\"description\" '\n",
      " 'content=\"あなたの毎日をアップデートする情報ポータル。検索、ニュース、天気、スポーツ、メール、ショッピング、オークションなど便利なサービスを展開しています。\"/><meta '\n",
      " 'name=\"robots\" content=\"noodp\"/><meta name=\"viewport\" '\n",
      " 'content=\"width=1010\"/><link rel=\"dns-prefetch\" href=\"//s.yimg.jp\"/><link '\n",
      " 'rel=\"dns-prefetch\" href=\"//yads.c.yimg.jp\"/><meta '\n",
      " 'name=\"google-site-verification\" '\n",
      " 'content=\"fsLMOiigp5fIpCDMEVodQnQC7jIY1K3UXW5QkQcBmVs\"/><link rel=\"alternate\" '\n",
      " 'href=\"android-app://jp.co.yahoo.android.yjtop/yahoojapan/home/top\"/><link '\n",
      " 'rel=\"alternate\" media=\"only screen and (max-width: 640px)\" '\n",
      " 'href=\"https://m.yahoo.co.jp/\"/><link rel=\"canonical\" '\n",
      " 'href=\"https://www.yahoo.co.jp/\"/><link rel=\"shortcut icon\" '\n",
      " 'href=\"https://s.yimg.jp/c/icon/s/bsc/2.0/favicon.ico\" '\n",
      " 'type=\"image/vnd.microsoft.icon\"/><link rel=\"icon\" '\n",
      " 'href=\"https://s.yimg.jp/c/icon/s/bsc/2.0/favicon.ico\" '\n",
      " 'type=\"image/vnd.microsoft.icon\"/><link rel=\"apple-touch-icon-precomposed\" '\n",
      " 'href=\"https://s.yimg.jp/c/icon/s/bsc/2.0/y120.png\"/><meta '\n",
      " 'property=\"og:title\" content=\"Yahoo! JAPAN\"/><meta property=\"og:type\" '\n",
      " 'content=\"website\"/><meta property=\"og:url\" '\n",
      " 'content=\"https://www.yahoo.co.jp/\"/><meta property=\"og:image\" '\n",
      " 'content=\"https://s.yimg.jp/images/top/ogp/fb_y_1500px.png\"/><meta '\n",
      " 'property=\"og:description\" '\n",
      " 'content=\"あなたの毎日をアップデートする情報ポータル。検索、ニュース、天気、スポーツ、メール、ショッピング、オークションなど便利なサービスを展開しています。\"/><meta '\n",
      " 'property=\"og:site_name\" content=\"Yahoo! JAPAN\"/><meta '\n",
      " 'property=\"twitter:card\" content=\"summary_large_image\"/><meta '\n",
      " 'property=\"twitter:site\" content=\"@Yahoo_JAPAN_PR\"/><meta '\n",
      " 'property=\"twitter:image\" '\n",
      " 'content=\"https://s.yimg.jp/images/top/ogp/tw_y_1400px.png\"/><meta '\n",
      " 'property=\"fb:app_id\" content=\"472870002762883\"/><link rel=\"stylesheet\" '\n",
      " 'href=\"//s.yimg.jp/images/yjtop-pc/orion/v93/bundle_v93.css\"/><script>window.onbeforeunload '\n",
      " '= function() {}</script><script>\\n'\n",
      " '            var TLDataContext = {\\n'\n",
      " '              ual : {\\n'\n",
      " '                pageview : {\\n'\n",
      " '                  service: \"toppage\",\\n'\n",
      " '                  apptype: \"web\",\\n'\n",
      " '                  opttype: \"pc\",\\n'\n",
      " '                  hierarchy_id: \"2079181999\",\\n'\n",
      " \"                  content_id : '',\\n\"\n",
      " \"                  id_type : '',\\n\"\n",
      " \"                  nopv : 'false',\\n\"\n",
      " '                  mtestid: \"\",\\n'\n",
      " \"                  ss_join_id : '',\\n\"\n",
      " \"                  ss_join_id_type : '',\\n\"\n",
      " '                }\\n'\n",
      " '              }\\n'\n",
      " '            };</script><script>(function () {\\n'\n",
      " '              var tagjs = document.createElement(\"script\");\\n'\n",
      " '              var s = document.getElementsByTagName(\"script\")[0];\\n'\n",
      " '              tagjs.async = true;\\n'\n",
      " '              tagjs.src = \"https://s.yjtag.jp/tag.js#site=2wzBV9u\";\\n'\n",
      " '              s.parentNode.insertBefore(tagjs, s);\\n'\n",
      " '            }());</script><script '\n",
      " 'src=\"https://yads.c.yimg.jp/js/yads-async.js\"></script><link '\n",
      " 'rel=\"preconnect\" href=\"//logql.yahoo.co.jp\"/><link rel=\"preconnect\" '\n",
      " 'href=\"//yjtag.yahoo.co.jp\"/><link rel=\"preconnect\" '\n",
      " 'href=\"//yeas.yahoo.co.jp\"/><link rel=\"preconnect\" '\n",
      " 'href=\"//cas.criteo.com\"/><link rel=\"preconnect\" '\n",
      " 'href=\"//ybx-test.yahoo.co.jp\"/><link rel=\"preconnect\" '\n",
      " 'href=\"//quriosity.yahoo.co.jp\"/></head><body><noscript><iframe '\n",
      " 'title=\"PageCount\" src=\"https://b.yjtag.jp/iframe?c=2wzBV9u\" width=\"1\" '\n",
      " 'height=\"1\" frameBorder=\"0\" scrolling=\"no\" marginHeight=\"0\" '\n",
      " 'marginWidth=\"0\"></iframe></noscript><script>bucket_id_for_ad = \\'\\'; '\n",
      " \"bucket_ids = '';</script><script>window.YAHOO = window.YAHOO || {};\\n\"\n",
      " '              window.YAHOO.JP = window.YAHOO.JP || {};\\n'\n",
      " '              window.YAHOO.JP.Fp = window.YAHOO.JP.Fp || {};\\n'\n",
      " '              window.YAHOO.JP.Fp.ads = window.YAHOO.JP.Fp.ads || {};\\n'\n",
      " '              window.YAHOO.JP.Fp.ads.sidehide = true;</script><div '\n",
      " 'id=\"wrapper\" class=\"_1DyDVN-3FsqGF_QKLg1M9G\" data-rma-pos=\"GYJ\"><div '\n",
      " 'id=\"ContentWrapper\"><header class=\"_34gx9tFRGRvqVVrA66m_wl\"><div '\n",
      " 'id=\"Masthead\" class=\"_1mo4G7fxHMqUog3vJGxY2_ ult__mods\"><h1 '\n",
      " 'class=\"_3YIqBohnzWyU3NQ8zb-mQI _1dr5aVDbNPF63JCS2bJhij\"><a '\n",
      " 'class=\"yMWCYupQNdgppL-NV6sMi _3sAlKGsIBCxTUbNi86oSjt\" '\n",
      " 'href=\"https://www.yahoo.co.jp\" data-ylk=\"rsec:header;slk:logo;pos:0\" '\n",
      " 'data-cl-params=\"_cl_vmodule:header;_cl_link:logo;_cl_position:0\">Yahoo! '\n",
      " 'JAPAN</a></h1><div class=\"_15h66qPnVy4iQzPepgAaiY\"><ul '\n",
      " 'class=\"_6iDyy-CUks251J9k1epBP\"><li class=\"_3gsf81y-6_ZDi-j-tMaVHe\"><a '\n",
      " 'class=\"yMWCYupQNdgppL-NV6sMi _3sAlKGsIBCxTUbNi86oSjt\" '\n",
      " 'href=\"https://paypaystep.yahoo.co.jp/?sc_e=ytmh_p2c_web\" '\n",
      " 'data-ylk=\"rsec:header;slk:paypaystep;pos:0\" '\n",
      " 'data-cl-params=\"_cl_vmodule:header;_cl_link:paypaystep;_cl_position:0\" '\n",
      " 'aria-label=\"PayPay STEPへ遷移する\"><p class=\"oLvk9L5Yk-9JOuzi-OHW5\"><span '\n",
      " 'class=\"t_jb9bKlgIcajcRS2hZAP\">PayPay STEP</span><span '\n",
      " 'class=\"_2Uq6Pw5lfFfxr_OD36xHp6 _1dr5aVDbNPF63JCS2bJhij '\n",
      " '_18UPg6R6cxJSC9JHKF8juc\" '\n",
      " 'style=\"width:38px;height:38px\"></span></p></a></li><li '\n",
      " 'class=\"_3gsf81y-6_ZDi-j-tMaVHe\"><a class=\"yMWCYupQNdgppL-NV6sMi '\n",
      " '_3sAlKGsIBCxTUbNi86oSjt\" '\n",
      " 'href=\"https://card.yahoo.co.jp/service/redirect/top/\" '\n",
      " 'data-ylk=\"rsec:header;slk:paypaycard;pos:0\" '\n",
      " 'data-cl-params=\"_cl_vmodule:header;_cl_link:paypaycard;_cl_position:0\" '\n",
      " 'aria-label=\"カードへ遷移する\"><p class=\"oLvk9L5Yk-9JOuzi-OHW5\"><span '\n",
      " 'class=\"t_jb9bKlgIcajcRS2hZAP\">カード</span><span class=\"_2Uq6Pw5lfFfxr_OD36xHp6 '\n",
      " '_1dr5aVDbNPF63JCS2bJhij P1WzQfoRll3q8GIGneUYg\" '\n",
      " 'style=\"width:36px;height:38px\"></span></p></a></li><li '\n",
      " 'class=\"_3gsf81y-6_ZDi-j-tMaVHe\"><a class=\"yMWCYupQNdgppL-NV6sMi '\n",
      " '_3sAlKGsIBCxTUbNi86oSjt\" href=\"https://mail.yahoo.co.jp/\" '\n",
      " 'data-ylk=\"rsec:header;slk:mail;pos:0\" '\n",
      " 'data-cl-params=\"_cl_vmodule:header;_cl_link:mail;_cl_position:0\" '\n",
      " 'aria-label=\"メールへ遷移する\"><p class=\"oLvk9L5Yk-9JOuzi-OHW5\"><span '\n",
      " 'class=\"t_jb9bKlgIcajcRS2hZAP\">メール</span><span class=\"_2Uq6Pw5lfFfxr_OD36xHp6 '\n",
      " '_1dr5aVDbNPF63JCS2bJhij _3Qi5P0lTFbNkWishPzz8tb\" '\n",
      " 'style=\"width:36px;height:38px\"></span></p></a></li></ul></div><div '\n",
      " 'class=\"_2TzkLph0QyL9hAv5c53WeY\"><ul class=\"_6iDyy-CUks251J9k1epBP\"><li '\n",
      " 'class=\"_3gsf81y-6_ZDi-j-tMaVHe\"><a class=\"yMWCYupQNdgppL-NV6sMi '\n",
      " '_3sAlKGsIBCxTUbNi86oSjt\" '\n",
      " 'href=\"https://travel.yahoo.co.jp/ikCo.ashx?cosid=y_010017&amp;cosuid=ytmh&amp;surl=%2F&amp;sc_e=ytmh\" '\n",
      " 'data-ylk=\"rsec:header;slk:travel;pos:0\" '\n",
      " 'data-cl-params=\"_cl_vmodule:header;_cl_link:travel;_cl_position:0\" '\n",
      " 'aria-label=\"トラベルへ遷移する\"><p class=\"oLvk9L5Yk-9JOuzi-OHW5\"><span '\n",
      " 'class=\"t_jb9bKlgIcajcRS2hZAP\">トラベル</span><span '\n",
      " 'class=\"_2Uq6Pw5lfFfxr_OD36xHp6 _1dr5aVDbNPF63JCS2bJhij '\n",
      " '_1yEKxUFSw-Xv2gaBZsYRuI\" '\n",
      " 'style=\"width:38px;height:38px\"></span></p></a></li><li '\n",
      " 'class=\"_3gsf81y-6_ZDi-j-tMaVHe\"><a class=\"yMWCYupQNdgppL-NV6sMi '\n",
      " '_3sAlKGsIBCxTUbNi86oSjt\" href=\"https://auctions.yahoo.co.jp/\" '\n",
      " 'data-ylk=\"rsec:header;slk:auction;pos:0\" '\n",
      " 'data-cl-params=\"_cl_vmodule:header;_cl_link:auction;_cl_position:0\" '\n",
      " 'aria-label=\"ヤフオク!へ遷移する\"><p class=\"oLvk9L5Yk-9JOuzi-OHW5\"><span '\n",
      " 'class=\"t_jb9bKlgIcajcRS2hZAP\">ヤフオク!</span><span '\n",
      " 'class=\"_2Uq6Pw5lfFfxr_OD36xHp6 _1dr5aVDbNPF63JCS2bJhij '\n",
      " '_1K47f2oTmrnpusFOpVVqfY\" '\n",
      " 'style=\"width:38px;height:38px\"></span></p></a></li><li '\n",
      " 'class=\"_3gsf81y-6_ZDi-j-tMaVHe\"><a class=\"yMWCYupQNdgppL-NV6sMi '\n",
      " '_3sAlKGsIBCxTUbNi86oSjt\" href=\"https://shopping.yahoo.co.jp/?sc_e=ytmh\" '\n",
      " 'data-ylk=\"rsec:header;slk:shopping;pos:0\" '\n",
      " 'data-cl-params=\"_cl_vmodule:header;_cl_link:shopping;_cl_position:0\" '\n",
      " 'aria-label=\"ショッピングへ遷移する\"><p class=\"oLvk9L5Yk-9JOuzi-OHW5\"><span '\n",
      " 'class=\"t_jb9bKlgIcajcRS2hZAP\">ショッピング</span><span '\n",
      " 'class=\"_2Uq6Pw5lfFfxr_OD36xHp6 _1dr5aVDbNPF63JCS2bJhij '\n",
      " 'MOLSPrtOUmdnYy_LgNt2f\" '\n",
      " 'style=\"width:38px;height:38px\"></span></p></a></li></ul></div></div><section '\n",
      " 'id=\"search\" class=\"ult__mods _1w9b7DyFfTztW-X6_zmnAE\"><div '\n",
      " 'class=\"_2pgJollUxnY09eN4CPKMrS\"><h1 class=\"_1iMgPNrCw806mefWspPVMk '\n",
      " '_3v9VCsGKsktTB7eaN70w-n\">検索</h1><ul class=\"ZMlm7LHfZujKgm8NY-0N5\"><li><a '\n",
      " 'href=\"https://search.yahoo.co.jp/\" class=\"y9H1Sj9hz4OlEq2_aEt5E\" '\n",
      " 'aria-label=\"ウェブで検索\" tabindex=\"-1\" data-ylk=\"rsec:search;slk:web_tab;pos:0\" '\n",
      " 'data-cl-params=\"_cl_vmodule:search;_cl_link:web_tab;_cl_position:0\"><span '\n",
      " 'class=\"fQMqQTGJTbIMxjQwZA2zk _3tGRl6x9iIWRiFTkKl3kcR\"><span '\n",
      " 'class=\"_1uQvvM7M_K0hc4e29lRa8 '\n",
      " '_2B_ETzo6nh1JNMLebSi_2p\">ウェブ</span></span></a></li><li><a '\n",
      " 'href=\"https://search.yahoo.co.jp/image\" class=\"y9H1Sj9hz4OlEq2_aEt5E\" '\n",
      " 'aria-label=\"画像で検索\" tabindex=\"-1\" data-ylk=\"rsec:search;slk:img;pos:0\" '\n",
      " 'data-cl-params=\"_cl_vmodule:search;_cl_link:img;_cl_position:0\"><span '\n",
      " 'class=\"fQMqQTGJTbIMxjQwZA2zk _3tGRl6x9iIWRiFTkKl3kcR\"><span '\n",
      " 'class=\"_1uQvvM7M_K0hc4e29lRa8\">画像</span></span></a></li><li><a '\n",
      " 'href=\"https://search.yahoo.co.jp/video\" class=\"y9H1Sj9hz4OlEq2_aEt5E\" '\n",
      " 'aria-label=\"動画で検索\" tabindex=\"-1\" data-ylk=\"rsec:search;slk:vd;pos:0\" '\n",
      " 'data-cl-params=\"_cl_vmodule:search;_cl_link:vd;_cl_position:0\"><span '\n",
      " 'class=\"fQMqQTGJTbIMxjQwZA2zk _3tGRl6x9iIWRiFTkKl3kcR\"><span '\n",
      " 'class=\"_1uQvvM7M_K0hc4e29lRa8\">動画</span></span></a></li><li><a '\n",
      " 'href=\"https://chiebukuro.yahoo.co.jp/\" class=\"y9H1Sj9hz4OlEq2_aEt5E\" '\n",
      " 'aria-label=\"知恵袋で検索\" tabindex=\"-1\" data-ylk=\"rsec:search;slk:chie;pos:0\" '\n",
      " 'data-cl-params=\"_cl_vmodule:search;_cl_link:chie;_cl_position:0\"><span '\n",
      " 'class=\"fQMqQTGJTbIMxjQwZA2zk _3tGRl6x9iIWRiFTkKl3kcR\"><span '\n",
      " 'class=\"_1uQvvM7M_K0hc4e29lRa8\">知恵袋</span></span></a></li><li><a '\n",
      " 'href=\"https://map.yahoo.co.jp/\" class=\"y9H1Sj9hz4OlEq2_aEt5E\" '\n",
      " 'aria-label=\"地図で検索\" tabindex=\"-1\" data-ylk=\"rsec:search;slk:map;pos:0\" '\n",
      " 'data-cl-params=\"_cl_vmodule:search;_cl_link:map;_cl_position:0\"><span '\n",
      " 'class=\"fQMqQTGJTbIMxjQwZA2zk _3tGRl6x9iIWRiFTkKl3kcR\"><span '\n",
      " 'class=\"_1uQvvM7M_K0hc4e29lRa8\">地図</span></span></a></li><li><a '\n",
      " 'href=\"https://search.yahoo.co.jp/realtime\" class=\"y9H1Sj9hz4OlEq2_aEt5E\" '\n",
      " 'aria-label=\"リアルタイムで検索\" tabindex=\"-1\" '\n",
      " 'data-ylk=\"rsec:search;slk:realtime;pos:0\" '\n",
      " 'data-cl-params=\"_cl_vmodule:search;_cl_link:realtime;_cl_position:0\"><span '\n",
      " 'class=\"fQMqQTGJTbIMxjQwZA2zk _3tGRl6x9iIWRiFTkKl3kcR\"><span '\n",
      " 'class=\"_1uQvvM7M_K0hc4e29lRa8\">リアルタイム</span></span></a></li><li><a '\n",
      " 'href=\"https://services.yahoo.co.jp/\" class=\"y9H1Sj9hz4OlEq2_aEt5E\" '\n",
      " 'aria-label=\"一覧で検索\" tabindex=\"-1\" data-ylk=\"rsec:search;slk:svc;pos:0\" '\n",
      " 'data-cl-params=\"_cl_vmodule:search;_cl_link:svc;_cl_position:0\"><span '\n",
      " 'class=\"fQMqQTGJTbIMxjQwZA2zk _3tGRl6x9iIWRiFTkKl3kcR\"><span '\n",
      " 'class=\"_1uQvvM7M_K0hc4e29lRa8\">一覧</span></span></a></li></ul><form '\n",
      " 'action=\"https://search.yahoo.co.jp/search\" name=\"sf1\" method=\"get\" '\n",
      " 'role=\"search\"><fieldset><legend>Yahoo!検索</legend><span '\n",
      " 'class=\"DqAzAIGI9nNwKOFNu3ohH\"><input type=\"search\" '\n",
      " 'class=\"n1Bw-ocbo_PYJUKDrSyHN\" name=\"p\" autoComplete=\"on\" '\n",
      " 'aria-label=\"検索したいキーワードを入力してください\" aria-live=\"assertive\"/><button '\n",
      " 'class=\"_3doZ1jaGSB3ytjCOeYg5nG\" type=\"submit\" '\n",
      " 'data-ylk=\"rsec:search;slk:web;pos:0\" '\n",
      " 'data-cl-params=\"_cl_vmodule:search;_cl_link:web;_cl_position:0\"><span '\n",
      " 'class=\"_4L_am9wbgiSNBUD50wbDA\"><span '\n",
      " 'class=\"_3oyNASbPKmiq-iwh602OKt\">検索</span></span></button></span></fieldset><input '\n",
      " 'type=\"hidden\" name=\"fr\" value=\"top_table\"/><input type=\"hidden\" name=\"ei\" '\n",
      " 'value=\"UTF-8\"/><input type=\"hidden\" name=\"ts\"/><input type=\"hidden\" '\n",
      " 'name=\"aq\" value=\"\"/></form></div></section><div id=\"Message\" '\n",
      " 'class=\"ult__mods\"><noscript><section class=\"_1bzp-M2uxs86VaYq0IxNuy\"><h1 '\n",
      " 'class=\"_2lQjNEXfrs2C14psQwQ5ai '\n",
      " '_3v9VCsGKsktTB7eaN70w-n\">JavaScriptの設定について</h1><div '\n",
      " 'class=\"_19J_Z9KVKnQzOVKA0jkC4e\"><p><span class=\"fQMqQTGJTbIMxjQwZA2zk '\n",
      " '_3tGRl6x9iIWRiFTkKl3kcR\">JavaScriptが無効になっています。すべての機能を利用するためには、有効に設定してください。<br/>詳しくは「<a '\n",
      " 'class=\"_1NzGMsC3awTFzjzXnvX-zV\" data-ylk=\"rsec:message;slk:jsof;pos:0\" '\n",
      " 'data-cl-params=\"_cl_vmodule:message;_cl_link:jsof;_cl_position:0\" '\n",
      " 'href=\"https://support.yahoo-net.jp/noscript\">JavaScriptの設定方法</a>」をご覧ください。</span></p></div></section></noscript><section '\n",
      " 'class=\"_1bzp-M2uxs86VaYq0IxNuy\"><h1 class=\"_2lQjNEXfrs2C14psQwQ5ai '\n",
      " '_3v9VCsGKsktTB7eaN70w-n\">推奨ブラウザーについて</h1><div '\n",
      " 'class=\"_19J_Z9KVKnQzOVKA0jkC4e\"><p><span class=\"fQMqQTGJTbIMxjQwZA2zk '\n",
      " '_3tGRl6x9iIWRiFTkKl3kcR\">Yahoo! JAPANトップページの機能を正しくご利用いただくには、下記の環境が必要です。<span '\n",
      " 'class=\"_1XWJVEK6heb_Paj9eU6R1u\">パソコンでご利用のお客様<br/>Windows：Edge 最新版 / Chrome '\n",
      " '最新版 / Firefox 最新版\\u3000macOS：Safari 11.0以上</span><span '\n",
      " 'class=\"_1XWJVEK6heb_Paj9eU6R1u\">タブレットでご利用のお客様<br/>iOS '\n",
      " '9.0以降、または、Android4.4以降のOSに標準搭載されたブラウザー<br/>※日本国内版として発売されている端末でご利用ください。</span></span></p></div></section></div><section '\n",
      " 'id=\"TopLink\" class=\"_2Pb7ROIJrC3Wj9bPxN4J7D ult__mods\"><h1 '\n",
      " 'class=\"T29vXGZu-fmHRJfd123YZ _3v9VCsGKsktTB7eaN70w-n\">お知らせ</h1><ul '\n",
      " 'class=\"QoCp7KDEt29FbN5hCjsCx\" aria-label=\"お知らせ\"><li '\n",
      " 'class=\"_2ZzfUQqYuRip1h-aXoiCHV\"><a class=\"yMWCYupQNdgppL-NV6sMi '\n",
      " '_3sAlKGsIBCxTUbNi86oSjt\" href=\"https://news.yahoo.co.jp/pages/denki\" '\n",
      " 'data-ylk=\"rsec:toplink;slk:link;pos:1;aid:2834820\" '\n",
      " 'data-cl-params=\"_cl_vmodule:toplink;_cl_link:link;_cl_position:1;aid:2834820\"><span '\n",
      " 'class=\"fQMqQTGJTbIMxjQwZA2zk _3tGRl6x9iIWRiFTkKl3kcR\"><span '\n",
      " 'class=\"_3S2Wdrkt1LKANaWcLrZToT\">あす30日も電力ひっ迫注意報\\u3000'\n",
      " '見通しと対策</span></span></a></li><li class=\"_2ZzfUQqYuRip1h-aXoiCHV\"><a '\n",
      " 'class=\"yMWCYupQNdgppL-NV6sMi _3sAlKGsIBCxTUbNi86oSjt\" '\n",
      " 'href=\"https://travel.yahoo.co.jp/ikCo.ashx?cosid=y_010019&amp;cosuid=yttl&amp;surl=feature%2Fcampaign_summer%2F&amp;sc_e=yttl\" '\n",
      " 'data-ylk=\"rsec:toplink;slk:link;pos:2;aid:2833041\" '\n",
      " 'data-cl-params=\"_cl_vmodule:toplink;_cl_link:link;_cl_position:2;aid:2833041\"><span '\n",
      " 'class=\"fQMqQTGJTbIMxjQwZA2zk _3tGRl6x9iIWRiFTkKl3kcR\"><span '\n",
      " 'class=\"_3S2Wdrkt1LKANaWcLrZToT\">宿泊予約するだけで、誰でも最大10％お得に</span></span></a></li><li '\n",
      " 'class=\"_2ZzfUQqYuRip1h-aXoiCHV\"><a class=\"yMWCYupQNdgppL-NV6sMi '\n",
      " '_3sAlKGsIBCxTUbNi86oSjt\" href=\"https://news.yahoo.co.jp/senkyo\" '\n",
      " 'data-ylk=\"rsec:toplink;slk:link;pos:3;aid:2833035\" '\n",
      " 'data-cl-params=\"_cl_vmodule:toplink;_cl_link:link;_cl_position:3;aid:2833035\"><span '\n",
      " 'class=\"fQMqQTGJTbIMxjQwZA2zk _3tGRl6x9iIWRiFTkKl3kcR\"><span '\n",
      " 'class=\"_3S2Wdrkt1LKANaWcLrZToT\">参院選\\u3000'\n",
      " '各選挙区の候補者や政党との相性は</span></span></a></li></ul></section></header><main><div '\n",
      " 'class=\"TB4Q1fVfD913TSKe04tHT\"><nav><div class=\"_1nJ39BFpWaPCIWutB-olO8 '\n",
      " '_171Q0OxQF2Vk3J_CxMxajb -DmdTfmK9dpsdI1vggc-z\"><header '\n",
      " 'class=\"_37AoRe1Io5JOtSIPDdUQCF _1m5d7MNAIFyOM71xJdSK_s '\n",
      " '_3v9VCsGKsktTB7eaN70w-n\"><h1 class=\"_2LJWWRbnY7KqEPyWQukxFD '\n",
      " '_2vlyNSs41eUR8HDyQ8iUvQ\">主なサービス</h1></header><div id=\"ToolList\"><ul '\n",
      " 'class=\"_1glrFPJpWbefWf8qr3k4FU\" aria-label=\"主なサービス\"><li><div '\n",
      " 'class=\"_3Ip8DQAJYKfPeByyVN-utZ\"><a class=\"yMWCYupQNdgppL-NV6sMi '\n",
      " '_3sAlKGsIBCxTUbNi86oSjt\" href=\"https://shopping.yahoo.co.jp/?sc_e=ytc\" '\n",
      " 'aria-label=\"ショッピングへ遷移する\"><p class=\"_2bBRLhI5ZpVYu0tuHZEFrn\"><span '\n",
      " 'class=\"pz0On1w4yAviBGMdKItoQ\"><span class=\"fQMqQTGJTbIMxjQwZA2zk '\n",
      " '_3tGRl6x9iIWRiFTkKl3kcR\">ショッピング</span></span><span '\n",
      " 'class=\"_1Al3K70np2V_Ev1eGkfsBm\"><span class=\"_2Uq6Pw5lfFfxr_OD36xHp6 '\n",
      " '_1dr5aVDbNPF63JCS2bJhij MOLSPrtOUmdnYy_LgNt2f\" '\n",
      " 'style=\"width:20px;height:20px\"></span></span></p></a></div></li><li><div '\n",
      " 'class=\"_3Ip8DQAJYKfPeByyVN-utZ\"><a class=\"yMWCYupQNdgppL-NV6sMi '\n",
      " '_3sAlKGsIBCxTUbNi86oSjt\" href=\"https://paypaymall.yahoo.co.jp/?sc_e=ytc\" '\n",
      " 'aria-label=\"PayPayモールへ遷移する\"><p class=\"_2bBRLhI5ZpVYu0tuHZEFrn\"><span '\n",
      " 'class=\"pz0On1w4yAviBGMdKItoQ\"><span class=\"fQMqQTGJTbIMxjQwZA2zk '\n",
      " '_3tGRl6x9iIWRiFTkKl3kcR\">PayPayモール</span></span><span '\n",
      " 'class=\"_1Al3K70np2V_Ev1eGkfsBm\"><span class=\"_2Uq6Pw5lfFfxr_OD36xHp6 '\n",
      " '_1dr5aVDbNPF63JCS2bJhij _2aNXx7_xy-w5TRQtsAbLhN\" '\n",
      " 'style=\"width:20px;height:20px\"></span></span></p></a></div></li><li><div '\n",
      " 'class=\"_3Ip8DQAJYKfPeByyVN-utZ\"><a class=\"yMWCYupQNdgppL-NV6sMi '\n",
      " '_3sAlKGsIBCxTUbNi86oSjt\" href=\"https://auctions.yahoo.co.jp\" '\n",
      " 'aria-label=\"ヤフオク!へ遷移する\"><p class=\"_2bBRLhI5ZpVYu0tuHZEFrn\"><span '\n",
      " 'class=\"pz0On1w4yAviBGMdKItoQ\"><span class=\"fQMqQTGJTbIMxjQwZA2zk '\n",
      " '_3tGRl6x9iIWRiFTkKl3kcR\">ヤフオク!</span></span><span '\n",
      " 'class=\"_1Al3K70np2V_Ev1eGkfsBm\"><span class=\"_2Uq6Pw5lfFfxr_OD36xHp6 '\n",
      " '_1dr5aVDbNPF63JCS2bJhij _1K47f2oTmrnpusFOpVVqfY\" '\n",
      " 'style=\"width:20px;height:20px\"></span></span></p></a></div></li><li><div '\n",
      " 'class=\"_3Ip8DQAJYKfPeByyVN-utZ\"><a class=\"yMWCYupQNdgppL-NV6sMi '\n",
      " '_3sAlKGsIBCxTUbNi86oSjt\" '\n",
      " 'href=\"https://app.adjust.com/1kmi1m2?redirect=https%3A%2F%2Fpaypayfleamarket.yahoo.co.jp%2F%3Fcpt_s%3Dytopmedia%26cpt_m%3Dkotei%26cpt_n%3Dcontent%26cpt_c%3Dytopmedia\" '\n",
      " 'aria-label=\"PayPayフリマへ遷移する\"><p class=\"_2bBRLhI5ZpVYu0tuHZEFrn\"><span '\n",
      " 'class=\"pz0On1w4yAviBGMdKItoQ\"><span class=\"fQMqQTGJTbIMxjQwZA2zk '\n",
      " '_3tGRl6x9iIWRiFTkKl3kcR\">PayPayフリマ</span></span><span '\n",
      " 'class=\"_1Al3K70np2V_Ev1eGkfsBm\"><span class=\"_2Uq6Pw5lfFfxr_OD36xHp6 '\n",
      " '_1dr5aVDbNPF63JCS2bJhij _3zb-zxOYGPoHJ2-_Ie8y8T\" '\n",
      " 'style=\"width:20px;height:20px\"></span></span></p></a></div></li><li><div '\n",
      " 'class=\"_3Ip8DQAJYKfPeByyVN-utZ\"><a class=\"yMWCYupQNdgppL-NV6sMi '\n",
      " '_3sAlKGsIBCxTUbNi86oSjt\" '\n",
      " 'href=\"https://zozo.jp/?utm_source=yahoo&amp;utm_medium=referral&amp;utm_campaign=web_ytop-leftcolumn\" '\n",
      " 'aria-label=\"ZOZOTOWNへ遷移する\"><p class=\"_2bBRLhI5ZpVYu0tuHZEFrn\"><span '\n",
      " 'class=\"pz0On1w4yAviBGMdKItoQ\"><span class=\"fQMqQTGJTbIMxjQwZA2zk '\n",
      " '_3tGRl6x9iIWRiFTkKl3kcR\">ZOZOTOWN</span></span><span '\n",
      " 'class=\"_1Al3K70np2V_Ev1eGkfsBm\"><span class=\"_2Uq6Pw5lfFfxr_OD36xHp6 '\n",
      " '_1dr5aVDbNPF63JCS2bJhij _2VdNwkD_q8hjK0ZyvATgab\" '\n",
      " 'style=\"width:20px;height:20px\"></span></span></p></a></div></li><li><div '\n",
      " 'class=\"_3Ip8DQAJYKfPeByyVN-utZ\"><a class=\"yMWCYupQNdgppL-NV6sMi '\n",
      " '_3sAlKGsIBCxTUbNi86oSjt\" '\n",
      " 'href=\"https://lohaco.yahoo.co.jp/?bk=t&amp;sc_e=j_as_ya_tc_n&amp;iscr=1\" '\n",
      " 'aria-label=\"LOHACOへ遷移する\"><p class=\"_2bBRLhI5ZpVYu0tuHZEFrn\"><span '\n",
      " 'class=\"pz0On1w4yAviBGMdKItoQ\"><span class=\"fQMqQTGJTbIMxjQwZA2zk '\n",
      " '_3tGRl6x9iIWRiFTkKl3kcR\">LOHACO</span></span><span '\n",
      " 'class=\"_1Al3K70np2V_Ev1eGkfsBm\"><span class=\"_2Uq6Pw5lfFfxr_OD36xHp6 '\n",
      " '_1dr5aVDbNPF63JCS2bJhij _3xvmznkMqRitO0Iqn3ckur\" '\n",
      " 'style=\"width:20px;height:20px\"></span></span></p></a></div></li><li><div '\n",
      " 'class=\"_3Ip8DQAJYKfPeByyVN-utZ\"><a class=\"yMWCYupQNdgppL-NV6sMi '\n",
      " '_3sAlKGsIBCxTUbNi86oSjt\" '\n",
      " 'href=\"https://travel.yahoo.co.jp/ikCo.ashx?cosid=y_010002&amp;cosuid=ytsl&amp;surl=%2F&amp;sc_e=ytsl\" '\n",
      " 'aria-label=\"トラベルへ遷移する\"><p class=\"_2bBRLhI5ZpVYu0tuHZEFrn\"><span '\n",
      " 'class=\"pz0On1w4yAviBGMdKItoQ\"><span class=\"fQMqQTGJTbIMxjQwZA2zk '\n",
      " '_3tGRl6x9iIWRiFTkKl3kcR\">トラベル</span></span><span '\n",
      " 'class=\"_1Al3K70np2V_Ev1eGkfsBm\"><span class=\"_2Uq6Pw5lfFfxr_OD36xHp6 '\n",
      " '_1dr5aVDbNPF63JCS2bJhij _1yEKxUFSw-Xv2gaBZsYRuI\" '\n",
      " 'style=\"width:20px;height:20px\"></span></span></p></a></div></li><li><div '\n",
      " 'class=\"_3Ip8DQAJYKfPeByyVN-utZ\"><a class=\"yMWCYupQNdgppL-NV6sMi '\n",
      " '_3sAlKGsIBCxTUbNi86oSjt\" '\n",
      " 'href=\"https://www.ikyu.com/ikCo.ashx?cosid=ik010002&amp;surl=%2F&amp;sc_e=ytc_pc_ikyu\" '\n",
      " 'aria-label=\"一休.comへ遷移する\"><p class=\"_2bBRLhI5ZpVYu0tuHZEFrn\"><span '\n",
      " 'class=\"pz0On1w4yAviBGMdKItoQ\"><span class=\"fQMqQTGJTbIMxjQwZA2zk '\n",
      " '_3tGRl6x9iIWRiFTkKl3kcR\">一休.com</span></span><span '\n",
      " 'class=\"_1Al3K70np2V_Ev1eGkfsBm\"><span class=\"_2Uq6Pw5lfFfxr_OD36xHp6 '\n",
      " '_1dr5aVDbNPF63JCS2bJhij daLkyi7PiGXeFyVYTU_9n\" '\n",
      " 'style=\"width:20px;height:20px\"></span></span></p></a></div></li><li><div '\n",
      " 'class=\"_3Ip8DQAJYKfPeByyVN-utZ\"><a class=\"yMWCYupQNdgppL-NV6sMi '\n",
      " '_3sAlKGsIBCxTUbNi86oSjt\" '\n",
      " 'href=\"https://restaurant.ikyu.com/rsCosite.asp?CosNo=10000175&amp;CosUrl=\" '\n",
      " 'aria-label=\"一休.comレストランへ遷移する\"><p class=\"_2bBRLhI5ZpVYu0tuHZEFrn\"><span '\n",
      " 'class=\"pz0On1w4yAviBGMdKItoQ\"><span class=\"fQMqQTGJTbIMxjQwZA2zk '\n",
      " '_3tGRl6x9iIWRiFTkKl3kcR\">一休.comレストラン</span></span><span '\n",
      " 'class=\"_1Al3K70np2V_Ev1eGkfsBm\"><span class=\"_2Uq6Pw5lfFfxr_OD36xHp6 '\n",
      " '_1dr5aVDbNPF63JCS2bJhij _1z4Le4zkghapVZCQm9RCy8\" '\n",
      " 'style=\"width:20px;height:20px\"></span></span></p></a></div></li><li><div '\n",
      " 'class=\"_3Ip8DQAJYKfPeByyVN-utZ\"><a class=\"yMWCYupQNdgppL-NV6sMi '\n",
      " '_3sAlKGsIBCxTUbNi86oSjt\" '\n",
      " 'href=\"https://demae-can.com/?utm_source=yahoo&amp;utm_medium=toplink&amp;utm_campaign=demaecantop\" '\n",
      " 'aria-label=\"出前館へ遷移する\"><p class=\"_2bBRLhI5ZpVYu0tuHZEFrn\"><span '\n",
      " 'class=\"pz0On1w4yAviBGMdKItoQ\"><span class=\"fQMqQTGJTbIMxjQwZA2zk '\n",
      " '_3tGRl6x9iIWRiFTkKl3kcR\">出前館</span></span><span '\n",
      " 'class=\"_1Al3K70np2V_Ev1eGkfsBm\"><span class=\"_2Uq6Pw5lfFfxr_OD36xHp6 '\n",
      " '_1dr5aVDbNPF63JCS2bJhij NuRliOifOckuQ9kobVaI9\" '\n",
      " 'style=\"width:20px;height:20px\"></span></span></p></a></div></li></ul></div><footer '\n",
      " 'id=\"ToolFooter\" class=\"_3wZKJtfV8AYYaTP-zoyO9O ult__mods\"><a '\n",
      " 'class=\"yMWCYupQNdgppL-NV6sMi _3sAlKGsIBCxTUbNi86oSjt\" '\n",
      " 'href=\"https://services.yahoo.co.jp/\" data-ylk=\"rsec:tool;slk:list;pos:0\" '\n",
      " 'data-cl-params=\"_cl_vmodule:tool;_cl_link:list;_cl_position:0\" '\n",
      " 'aria-label=\"Yahoo! JAPANのサービス一覧\"><dl class=\"STepvEgbaZ0rLEqfER-qm\"><dt '\n",
      " 'class=\"W2bretj6vyf8QDes2gkQA\"><span class=\"fQMqQTGJTbIMxjQwZA2zk '\n",
      " '_3tGRl6x9iIWRiFTkKl3kcR\">サービス一覧</span></dt><dd '\n",
      " 'class=\"_37zK--zuySKLzNE12rgdHL\"><span class=\"_2Uq6Pw5lfFfxr_OD36xHp6 '\n",
      " '_1dr5aVDbNPF63JCS2bJhij _3WrFs0ChLr_s9-gBqS7yts\" '\n",
      " 'style=\"width:12px;height:12px\"></span></dd></dl></a></footer></div></nav></div><div '\n",
      " 'class=\"uNpDe6C78e3sXg1jhoFPr\"><div class=\"_2DunygeBZHdgHX_Gih3GC4\" '\n",
      " 'id=\"Topics\"><article><div class=\"_1nJ39BFpWaPCIWutB-olO8 '\n",
      " '-DmdTfmK9dpsdI1vggc-z\"><header class=\"_3WRl3h4EAx9fdzwK76sfHC\"><h1 '\n",
      " 'class=\"_2LJWWRbnY7KqEPyWQukxFD _9YxVmCAhrwLz2V6qXWqBJ\" '\n",
      " 'aria-label=\"Yahoo!ニュース\">ニュース</h1></header><section id=\"tabpanelTopics1\" '\n",
      " 'class=\"ult__mods\" role=\"tabpanel\" aria-labelledby=\"tabTopics1\" '\n",
      " 'aria-hidden=\"false\"><header class=\"_5swsXRdQMtHOvhS2bwHid '\n",
      " '_3v9VCsGKsktTB7eaN70w-n\"><h1>主要 ニュース</h1></header><div '\n",
      " 'class=\"_1XAfHUWtx6tfYZuWDVjNxZ\"><div class=\"_2jjSS8r_I9Zd6O9NFJtDN-\" '\n",
      " 'aria-label=\"主要 ニュース\"><p class=\"_2vq5UBfOFpYcyqNRy51gDf\"><span '\n",
      " 'class=\"fQMqQTGJTbIMxjQwZA2zk _2VDw54wcDejORZkozpOysW\">6/29(水) '\n",
      " '17:48更新</span></p><ul><li class=\"_2j0udhv5jERZtYzddeDwcv\"><article '\n",
      " 'class=\"QLtbNZwO-lssuRUcWewbd\" data-ual-view-type=\"list\" '\n",
      " 'data-ual=\"id_type:shannon_article;content_id:bb138333e026dd8fd63d3c3716d4162b0714478a;element_id:first-news-topics-text\"><a '\n",
      " 'class=\"yMWCYupQNdgppL-NV6sMi _3sAlKGsIBCxTUbNi86oSjt\" '\n",
      " 'href=\"https://news.yahoo.co.jp/pickup/6431016\" '\n",
      " 'data-ylk=\"rsec:tpto;slk:title;pos:1;tpid:6431016;imgsize:s;cmt_num:326\" '\n",
      " 'data-cl-params=\"_cl_vmodule:tpto;_cl_link:title;_cl_position:1;tpid:6431016;imgsize:s;cmt_num:326\" '\n",
      " 'data-ual-gotocontent=\"true\"><div class=\"_2cXD1uC4eaOih4-zkRgqjU\"><div '\n",
      " 'class=\"TRuzXRRZHRqbqgLUCCco9\"><h1 class=\"_3cl937Zpn1ce8mDKd5kp7u\"><span '\n",
      " 'class=\"fQMqQTGJTbIMxjQwZA2zk _1alzSpTqJzvSVUWqpx82d4\">電力ひっ迫 '\n",
      " '東電管内30日も注意報</span></h1></div></div></a></article></li><li '\n",
      " 'class=\"_2j0udhv5jERZtYzddeDwcv\"><article class=\"QLtbNZwO-lssuRUcWewbd\" '\n",
      " 'data-ual-view-type=\"list\" '\n",
      " 'data-ual=\"id_type:shannon_article;content_id:f9f7663bf672367dfa4f959e011334d683a80290;element_id:first-news-topics-text\"><a '\n",
      " 'class=\"yMWCYupQNdgppL-NV6sMi _3sAlKGsIBCxTUbNi86oSjt\" '\n",
      " 'href=\"https://news.yahoo.co.jp/pickup/6431013\" '\n",
      " 'data-ylk=\"rsec:tpto;slk:title;pos:2;tpid:6431013;imgsize:s;cmt_num:2143\" '\n",
      " 'data-cl-params=\"_cl_vmodule:tpto;_cl_link:title;_cl_position:2;tpid:6431013;imgsize:s;cmt_num:2143\" '\n",
      " 'data-ual-gotocontent=\"true\"><div class=\"_2cXD1uC4eaOih4-zkRgqjU\"><div '\n",
      " 'class=\"TRuzXRRZHRqbqgLUCCco9\"><h1 class=\"_3cl937Zpn1ce8mDKd5kp7u\"><span '\n",
      " 'class=\"fQMqQTGJTbIMxjQwZA2zk _1alzSpTqJzvSVUWqpx82d4\">電力大手4社 '\n",
      " '8月電気料金値上げ</span></h1></div></div></a></article></li><li '\n",
      " 'class=\"_2j0udhv5jERZtYzddeDwcv\"><article class=\"QLtbNZwO-lssuRUcWewbd\" '\n",
      " 'data-ual-view-type=\"list\" '\n",
      " 'data-ual=\"id_type:shannon_article;content_id:257f789286ce5bcaafceab73b44c6d05ad70def1;element_id:first-news-topics-text\"><a '\n",
      " 'class=\"yMWCYupQNdgppL-NV6sMi _3sAlKGsIBCxTUbNi86oSjt\" '\n",
      " 'href=\"https://news.yahoo.co.jp/pickup/6431026\" '\n",
      " 'data-ylk=\"rsec:tpto;slk:title;pos:3;tpid:6431026;imgsize:s;cmt_num:116\" '\n",
      " 'data-cl-params=\"_cl_vmodule:tpto;_cl_link:title;_cl_position:3;tpid:6431026;imgsize:s;cmt_num:116\" '\n",
      " 'data-ual-gotocontent=\"true\"><div class=\"_2cXD1uC4eaOih4-zkRgqjU\"><div '\n",
      " 'class=\"TRuzXRRZHRqbqgLUCCco9\"><h1 class=\"_3cl937Zpn1ce8mDKd5kp7u\"><span '\n",
      " 'class=\"fQMqQTGJTbIMxjQwZA2zk _1alzSpTqJzvSVUWqpx82d4\">40℃の酷暑継続か '\n",
      " '来週は戻り梅雨</span></h1><span class=\"_2obRU_TgAxzHaYqOXrZYlv\"><span '\n",
      " 'class=\"h4yLXygiSc5wwNlJOQEdz _1dr5aVDbNPF63JCS2bJhij '\n",
      " '_2M3AyDfFaeJl3Uo7lUPMAp\" '\n",
      " 'style=\"width:30px;height:12px\">NEW</span></span></div></div></a></article></li><li '\n",
      " 'class=\"_2j0udhv5jERZtYzddeDwcv\"><article class=\"QLtbNZwO-lssuRUcWewbd\" '\n",
      " 'data-ual-view-type=\"list\" '\n",
      " 'data-ual=\"id_type:shannon_article;content_id:16749c03f5f44b20bb82de481670c6d5283099f2;element_id:first-news-topics-text\"><a '\n",
      " 'class=\"yMWCYupQNdgppL-NV6sMi _3sAlKGsIBCxTUbNi86oSjt\" '\n",
      " 'href=\"https://news.yahoo.co.jp/pickup/6431022\" '\n",
      " 'data-ylk=\"rsec:tpto;slk:title;pos:4;tpid:6431022;imgsize:s;cmt_num:0\" '\n",
      " 'data-cl-params=\"_cl_vmodule:tpto;_cl_link:title;_cl_position:4;tpid:6431022;imgsize:s;cmt_num:0\" '\n",
      " 'data-ual-gotocontent=\"true\"><div class=\"_2cXD1uC4eaOih4-zkRgqjU\"><div '\n",
      " 'class=\"TRuzXRRZHRqbqgLUCCco9\"><h1 class=\"_3cl937Zpn1ce8mDKd5kp7u\"><span '\n",
      " 'class=\"fQMqQTGJTbIMxjQwZA2zk _1alzSpTqJzvSVUWqpx82d4\">USB紛失 '\n",
      " '市長のボーナスをカット</span></h1></div></div></a></article></li><li '\n",
      " 'class=\"_2j0udhv5jERZtYzddeDwcv\"><article class=\"QLtbNZwO-lssuRUcWewbd\" '\n",
      " 'data-ual-view-type=\"list\" '\n",
      " 'data-ual=\"id_type:shannon_article;content_id:4051f9a4cf7088f867e21e5378ae3ed3f35564d6;element_id:first-news-topics-text\"><a '\n",
      " 'class=\"yMWCYupQNdgppL-NV6sMi _3sAlKGsIBCxTUbNi86oSjt\" '\n",
      " 'href=\"https://news.yahoo.co.jp/pickup/6431024\" '\n",
      " 'data-ylk=\"rsec:tpto;slk:title;pos:5;tpid:6431024;imgsize:s;cmt_num:337\" '\n",
      " 'data-cl-params=\"_cl_vmodule:tpto;_cl_link:title;_cl_position:5;tpid:6431024;imgsize:s;cmt_num:337\" '\n",
      " 'data-ual-gotocontent=\"true\"><div class=\"_2cXD1uC4eaOih4-zkRgqjU\"><div '\n",
      " 'class=\"TRuzXRRZHRqbqgLUCCco9\"><h1 class=\"_3cl937Zpn1ce8mDKd5kp7u\"><span '\n",
      " 'class=\"fQMqQTGJTbIMxjQwZA2zk _1alzSpTqJzvSVUWqpx82d4\">バレー名将が部員に傷害疑い '\n",
      " '逮捕</span></h1><span class=\"_2obRU_TgAxzHaYqOXrZYlv\"><span '\n",
      " 'class=\"h4yLXygiSc5wwNlJOQEdz _1dr5aVDbNPF63JCS2bJhij '\n",
      " '_2M3AyDfFaeJl3Uo7lUPMAp\" '\n",
      " 'style=\"width:30px;height:12px\">NEW</span></span></div></div></a></article></li><li '\n",
      " 'class=\"_2j0udhv5jERZtYzddeDwcv\"><article class=\"QLtbNZwO-lssuRUcWewbd\" '\n",
      " 'data-ual-view-type=\"list\" '\n",
      " 'data-ual=\"id_type:shannon_article;content_id:c3814b56f3a20f1590b40ee42f90eb7307f9a7ea;element_id:first-news-topics-text\"><a '\n",
      " 'class=\"yMWCYupQNdgppL-NV6sMi _3sAlKGsIBCxTUbNi86oSjt\" '\n",
      " 'href=\"https://news.yahoo.co.jp/pickup/6431011\" '\n",
      " 'data-ylk=\"rsec:tpto;slk:title;pos:6;tpid:6431011;imgsize:s;cmt_num:383\" '\n",
      " 'data-cl-params=\"_cl_vmodule:tpto;_cl_link:title;_cl_position:6;tpid:6431011;imgsize:s;cmt_num:383\" '\n",
      " 'data-ual-gotocontent=\"true\"><div class=\"_2cXD1uC4eaOih4-zkRgqjU\"><div '\n",
      " 'class=\"TRuzXRRZHRqbqgLUCCco9\"><h1 class=\"_3cl937Zpn1ce8mDKd5kp7u\"><span '\n",
      " 'class=\"fQMqQTGJTbIMxjQwZA2zk _1alzSpTqJzvSVUWqpx82d4\">アニサキス食中毒 '\n",
      " 'なぜ痛む</span></h1><span class=\"_2obRU_TgAxzHaYqOXrZYlv\"><span '\n",
      " 'class=\"h4yLXygiSc5wwNlJOQEdz _1dr5aVDbNPF63JCS2bJhij '\n",
      " '_2M3AyDfFaeJl3Uo7lUPMAp\" '\n",
      " 'style=\"width:30px;height:12px\">NEW</span></span></div></div></a></article></li><li '\n",
      " 'class=\"_2j0udhv5jERZtYzddeDwcv\"><article class=\"QLtbNZwO-lssuRUcWewbd\" '\n",
      " 'data-ual-view-type=\"list\" '\n",
      " 'data-ual=\"id_type:shannon_article;content_id:7ad09c76b7c2a762b05ee80d7e1b4339a6d083fa;element_id:first-news-topics-text\"><a '\n",
      " 'class=\"yMWCYupQNdgppL-NV6sMi _3sAlKGsIBCxTUbNi86oSjt\" '\n",
      " 'href=\"https://news.yahoo.co.jp/pickup/6431020\" '\n",
      " 'data-ylk=\"rsec:tpto;slk:title;pos:7;tpid:6431020;imgsize:s;cmt_num:1976\" '\n",
      " 'data-cl-params=\"_cl_vmodule:tpto;_cl_link:title;_cl_position:7;tpid:6431020;imgsize:s;cmt_num:1976\" '\n",
      " 'data-ual-gotocontent=\"true\"><div class=\"_2cXD1uC4eaOih4-zkRgqjU\"><div '\n",
      " 'class=\"TRuzXRRZHRqbqgLUCCco9\"><h1 class=\"_3cl937Zpn1ce8mDKd5kp7u\"><span '\n",
      " 'class=\"fQMqQTGJTbIMxjQwZA2zk _1alzSpTqJzvSVUWqpx82d4\">騒動のキャディー '\n",
      " '処分なら不本意</span></h1></div></div></a></article></li><li '\n",
      " 'class=\"_2j0udhv5jERZtYzddeDwcv\"><article class=\"QLtbNZwO-lssuRUcWewbd\" '\n",
      " 'data-ual-view-type=\"list\" '\n",
      " 'data-ual=\"id_type:shannon_article;content_id:e49522909560400fc16948928c68c146d43b8bfb;element_id:first-news-topics-text\"><a '\n",
      " 'class=\"yMWCYupQNdgppL-NV6sMi _3sAlKGsIBCxTUbNi86oSjt\" '\n",
      " 'href=\"https://news.yahoo.co.jp/pickup/6431028\" '\n",
      " 'data-ylk=\"rsec:tpto;slk:title;pos:8;tpid:6431028;imgsize:s;cmt_num:110\" '\n",
      " 'data-cl-params=\"_cl_vmodule:tpto;_cl_link:title;_cl_position:8;tpid:6431028;imgsize:s;cmt_num:110\" '\n",
      " 'data-ual-gotocontent=\"true\"><div class=\"_2cXD1uC4eaOih4-zkRgqjU\"><div '\n",
      " 'class=\"TRuzXRRZHRqbqgLUCCco9\"><h1 class=\"_3cl937Zpn1ce8mDKd5kp7u\"><span '\n",
      " 'class=\"fQMqQTGJTbIMxjQwZA2zk _1alzSpTqJzvSVUWqpx82d4\">竹内涼真 '\n",
      " '髪形は「おすすめです」</span></h1><span class=\"_2obRU_TgAxzHaYqOXrZYlv\"><span '\n",
      " 'class=\"h4yLXygiSc5wwNlJOQEdz _1dr5aVDbNPF63JCS2bJhij '\n",
      " '_2M3AyDfFaeJl3Uo7lUPMAp\" '\n",
      " 'style=\"width:30px;height:12px\">NEW</span></span></div></div></a></article></li></ul></div><div '\n",
      " 'class=\"_3sm0x0pVyxLkf4q9ubmXSL\"><article><a class=\"yMWCYupQNdgppL-NV6sMi '\n",
      " '_3sAlKGsIBCxTUbNi86oSjt\" '\n",
      " 'href=\"https://news.yahoo.co.jp/articles/7d876b1cc08176b78acd3b5c5d29aa357b12d837/images/000\" '\n",
      " 'data-ylk=\"rsec:tpto;slk:title;pos:9;imgsize:l\" '\n",
      " 'data-cl-params=\"_cl_vmodule:tpto;_cl_link:title;_cl_position:9;imgsize:l\"><div '\n",
      " 'class=\"_1EYwdR4JxrwgpIvWk7vO3f\"><h1 class=\"RS4h_eDWC6FIIyYMupWR0\"><span '\n",
      " 'class=\"fQMqQTGJTbIMxjQwZA2zk _1alzSpTqJzvSVUWqpx82d4\">6月猛暑</span></h1><p '\n",
      " 'class=\"_2e8OreFgYIc3gdzYJLKAMA\"><time '\n",
      " 'class=\"_1GD9Sx7FpCs4EuL3bT974r\">6/29(水) 14:37</time></p><div '\n",
      " 'class=\"_1pfcRKnf6y-2AXzpXf0vrb\"><cite '\n",
      " 'class=\"O9jggTRv0zy3XcPayfJLa\">共同通信</cite></div><div '\n",
      " 'class=\"_1UmUawjY6VSzmTK3Y-1sjq\"><span '\n",
      " 'class=\"rStpk9W4eUO5IMVhnJylj\"><picture><source type=\"image/webp\" '\n",
      " 'srcSet=\"https://news-pctr.c.yimg.jp/t/news-topics/images/tpc/2022/6/29/e16bcdda05f841a4ca5560403e919af99ba15b2762cb88848088fc9de89fdc3d.jpg?h=200&amp;w=200&amp;pri=l&amp;fmt=webp\"/><img '\n",
      " 'src=\"https://news-pctr.c.yimg.jp/t/news-topics/images/tpc/2022/6/29/e16bcdda05f841a4ca5560403e919af99ba15b2762cb88848088fc9de89fdc3d.jpg?h=200&amp;w=200&amp;pri=l\" '\n",
      " 'width=\"90\" height=\"62.14090909090909\" '\n",
      " 'alt=\"\"/></picture></span></div></div></a></article></div></div><footer '\n",
      " 'class=\"_14QMUEF7FBJllh14_fachi\"><ul class=\"g0enqV_RXcWSi7gOheAhU\"><li '\n",
      " 'class=\"_3gXYBXvKzn55TlnxGoxJ5j\"><span class=\"fQMqQTGJTbIMxjQwZA2zk '\n",
      " '_1alzSpTqJzvSVUWqpx82d4\"><a class=\"yMWCYupQNdgppL-NV6sMi '\n",
      " '_3sAlKGsIBCxTUbNi86oSjt\" href=\"https://news.yahoo.co.jp/topics/top-picks\" '\n",
      " 'data-ylk=\"rsec:tpto;slk:more;pos:0\" '\n",
      " 'data-cl-params=\"_cl_vmodule:tpto;_cl_link:more;_cl_position:0\">もっと見る</a></span></li><li '\n",
      " 'class=\"_3gXYBXvKzn55TlnxGoxJ5j\"><span class=\"fQMqQTGJTbIMxjQwZA2zk '\n",
      " '_1alzSpTqJzvSVUWqpx82d4\"><a class=\"yMWCYupQNdgppL-NV6sMi '\n",
      " '_3sAlKGsIBCxTUbNi86oSjt\" href=\"https://news.yahoo.co.jp/topics\" '\n",
      " 'data-ylk=\"rsec:tpto;slk:list;pos:0\" '\n",
      " 'data-cl-params=\"_cl_vmodule:tpto;_cl_link:list;_cl_position:0\">トピックス一覧</a></span></li></ul></footer></section></div></article></div></div><div '\n",
      " 'class=\"_25JlXdhY8HDBefygTGBvyW\"><article '\n",
      " 'class=\"_3Ehituw3p_tjwuQ6KpjDWE\"><div class=\"_1nJ39BFpWaPCIWutB-olO8 '\n",
      " '_171Q0OxQF2Vk3J_CxMxajb -DmdTfmK9dpsdI1vggc-z\"><div '\n",
      " 'class=\"_3DayOTWaRJVwUMySMNY4MZ\"><header class=\"ipzr3pZxMz2g8uDg9Y7R1 '\n",
      " '_3v9VCsGKsktTB7eaN70w-n\"><h1 class=\"_2LJWWRbnY7KqEPyWQukxFD '\n",
      " '_2vlyNSs41eUR8HDyQ8iUvQ\">個人に関わる情報</h1></header><div id=\"Login\" '\n",
      " 'class=\"ult__mods JnVVZlSIAMbTJUrCMznTu\"><div '\n",
      " 'class=\"_3anmkKnMOA7QwHXTM7PZ9T\"><p class=\"_1tJgZl7jyxpfZIocuTRj5W\"><a '\n",
      " 'class=\"yMWCYupQNdgppL-NV6sMi _3sAlKGsIBCxTUbNi86oSjt\" '\n",
      " 'href=\"https://login.yahoo.co.jp/config/login?.src=www&amp;.done=https://www.yahoo.co.jp/\" '\n",
      " 'data-ylk=\"rsec:personal;slk:login;pos:0\" '\n",
      " 'data-cl-params=\"_cl_vmodule:personal;_cl_link:login;_cl_position:0\"><span '\n",
      " 'class=\"fQMqQTGJTbIMxjQwZA2zk _3tGRl6x9iIWRiFTkKl3kcR\">ログイン</span></a></p><p '\n",
      " 'class=\"_1hINco49ET4FljpITFfh4h\"><a class=\"yMWCYupQNdgppL-NV6sMi '\n",
      " '_3sAlKGsIBCxTUbNi86oSjt\" '\n",
      " 'href=\"https://account.edit.yahoo.co.jp/registration?.src=www&amp;.done=https://www.yahoo.co.jp/\" '\n",
      " 'data-ylk=\"rsec:personal;slk:reg;pos:0\" '\n",
      " 'data-cl-params=\"_cl_vmodule:personal;_cl_link:reg;_cl_position:0\"><span '\n",
      " 'class=\"_1mkb9myOuisBstoCqO0Hqs\">ID新規取得</span></a></p></div><a '\n",
      " 'class=\"yMWCYupQNdgppL-NV6sMi _3sAlKGsIBCxTUbNi86oSjt\" '\n",
      " 'href=\"https://login.yahoo.co.jp/config/login?.src=www&amp;.done=https%3A%2F%2Faccounts.yahoo.co.jp%2Fprofile%3F.done%3Dhttps%253A%252F%252Fwww.yahoo.co.jp%252F%253F.src%253Dwww%2526t_cushion%253D1\" '\n",
      " 'data-ylk=\"rsec:personal;slk:profile;pos:0\" '\n",
      " 'data-cl-params=\"_cl_vmodule:personal;_cl_link:profile;_cl_position:0\"><p '\n",
      " 'class=\"_2KSAVmekATGu43KySZB31Z '\n",
      " '_39bsyXI766slVaQ8YaCP7e\">登録情報</p></a></div><div '\n",
      " 'class=\"_3sWLgEua45mRS1wa27goG-\"><section><div class=\"_1nJ39BFpWaPCIWutB-olO8 '\n",
      " '-DmdTfmK9dpsdI1vggc-z\"><header class=\"_37AoRe1Io5JOtSIPDdUQCF '\n",
      " '_1m5d7MNAIFyOM71xJdSK_s _3v9VCsGKsktTB7eaN70w-n\"><h1 '\n",
      " 'class=\"_2LJWWRbnY7KqEPyWQukxFD '\n",
      " '_2vlyNSs41eUR8HDyQ8iUvQ\">あなたのステータス</h1></header><ul '\n",
      " 'class=\"_2Wm09S4b119SO3Eoh_Q7V3\" aria-label=\"あなたのステータス\"><li id=\"StatusMail\" '\n",
      " 'class=\"_2RpFjP5HbDyD457N6YoFih\"><a class=\"yMWCYupQNdgppL-NV6sMi '\n",
      " '_3sAlKGsIBCxTUbNi86oSjt\" href=\"https://mail.yahoo.co.jp/\" '\n",
      " 'data-ylk=\"rsec:personal;slk:mail;pos:0\" '\n",
      " 'data-cl-params=\"_cl_vmodule:personal;_cl_link:mail;_cl_position:0\" '\n",
      " 'aria-label=\"メール\"><dl class=\"NhCWhleHpZ0CADioxObVu\"><dt '\n",
      " 'class=\"_3KpLuhOuze7bsGr1VOVvCU _1cwjJ3tGb1rIXP4crTFbkT\"><span '\n",
      " 'class=\"_2Uq6Pw5lfFfxr_OD36xHp6 _1dr5aVDbNPF63JCS2bJhij '\n",
      " '_3Qi5P0lTFbNkWishPzz8tb\" style=\"width:34px;height:24px\">メール</span></dt><dd '\n",
      " 'class=\"_1CLgF9dk2PVVFQFnko3vN0\"><span class=\"fQMqQTGJTbIMxjQwZA2zk '\n",
      " 'DB1xWkV-AiF3oBGL1BuYd\">メール</span></dd></dl></a></li><li id=\"StatusMyCoupon\" '\n",
      " 'class=\"_2RpFjP5HbDyD457N6YoFih ult__mods\"><a class=\"yMWCYupQNdgppL-NV6sMi '\n",
      " '_3sAlKGsIBCxTUbNi86oSjt\" '\n",
      " 'href=\"https://takarabako.yahoo.co.jp/couponlist?sc_e=ytprsnl_m2cwithlp_tkbcplistkpc\" '\n",
      " 'data-ylk=\"rsec:personal;slk:coupon;pos:0\" '\n",
      " 'data-cl-params=\"_cl_vmodule:personal;_cl_link:coupon;_cl_position:0\" '\n",
      " 'aria-label=\"クーポン確認\"><dl class=\"NhCWhleHpZ0CADioxObVu\"><dt '\n",
      " 'class=\"_3KpLuhOuze7bsGr1VOVvCU _13KS_mFqHK2VUqgquLqEUn\"><span '\n",
      " 'class=\"_2Uq6Pw5lfFfxr_OD36xHp6 _1dr5aVDbNPF63JCS2bJhij '\n",
      " '_1Vg0G_MV-B3DdCtI-6SS8z\" '\n",
      " 'style=\"width:32px;height:26px\">Myクーポン</span></dt><dd '\n",
      " 'class=\"_1CLgF9dk2PVVFQFnko3vN0\"><span class=\"fQMqQTGJTbIMxjQwZA2zk '\n",
      " 'DB1xWkV-AiF3oBGL1BuYd\">クーポン確認</span></dd></dl></a></li><li id=\"StatusPayPay\" '\n",
      " 'class=\"_2RpFjP5HbDyD457N6YoFih ult__mods\"><a class=\"yMWCYupQNdgppL-NV6sMi '\n",
      " '_3sAlKGsIBCxTUbNi86oSjt\" '\n",
      " 'href=\"https://paypay.yahoo.co.jp/balance?.done=https%3A%2F%2Fwww.yahoo.co.jp%2F&amp;.bail=https%3A%2F%2Fwww.yahoo.co.jp%2F&amp;.linkdisp=1&amp;sc_e=ywww_pp_top_pc1\" '\n",
      " 'data-ylk=\"rsec:personal;slk:paypay;pos:0;badge:off\" '\n",
      " 'data-cl-params=\"_cl_vmodule:personal;_cl_link:paypay;_cl_position:0;badge:off\" '\n",
      " 'aria-label=\"PayPay残高確認\"><dl class=\"NhCWhleHpZ0CADioxObVu\"><dt '\n",
      " 'class=\"_3KpLuhOuze7bsGr1VOVvCU\"><span class=\"_2Uq6Pw5lfFfxr_OD36xHp6 '\n",
      " '_1dr5aVDbNPF63JCS2bJhij _2288dlil4Nkm3lO8Sm3hDU\" '\n",
      " 'style=\"width:28px;height:28px\">PayPay</span></dt><dd '\n",
      " 'class=\"_1CLgF9dk2PVVFQFnko3vN0\"><span class=\"fQMqQTGJTbIMxjQwZA2zk '\n",
      " 'DB1xWkV-AiF3oBGL1BuYd\">PayPay残高確認</span></dd></dl></a></li></ul></div></section></div><div '\n",
      " 'class=\"_31418k5_VMxE0Bfx2e1yNh\"><article id=\"Today\" class=\"ult__mods\"><div '\n",
      " 'class=\"_1nJ39BFpWaPCIWutB-olO8 -DmdTfmK9dpsdI1vggc-z\"><header '\n",
      " 'class=\"_3KxBQ9kjbz4FI25qkyAiJg\"><h1 class=\"_1kmEi41WiB4M_UKwNzOtG5 '\n",
      " '_3v9VCsGKsktTB7eaN70w-n\">今日の日付</h1><div '\n",
      " 'class=\"_17f0xnyODgIyXzpprYD8Ot\"><p><a class=\"yMWCYupQNdgppL-NV6sMi '\n",
      " '_3sAlKGsIBCxTUbNi86oSjt\" href=\"https://calendar.yahoo.co.jp\" '\n",
      " 'data-ylk=\"rsec:today;slk:date;pos:0\" '\n",
      " 'data-cl-params=\"_cl_vmodule:today;_cl_link:date;_cl_position:0\" '\n",
      " 'aria-label=\"今日の日付は2022年6月29日\\u3000水曜日\"><span class=\"fQMqQTGJTbIMxjQwZA2zk '\n",
      " '_3tGRl6x9iIWRiFTkKl3kcR\"><time class=\"_39pIdCsxycrMrZfr-69cAP\" '\n",
      " 'dateTime=\"2022-06-29T09:05:16.000Z\">2022年6月29日(水)</time></span></a></p></div></header></div></article></div></div></div></article></div></main><footer '\n",
      " 'id=\"footer\" role=\"contentinfo\" class=\"_2GpKo0TlJwonmUj2nqQxuE '\n",
      " 'ult__mods\"><ul><li class=\"_2dqDKArI6iGaA3nS7xNUmE\"><dl><dt '\n",
      " 'class=\"_2X2lsrA-jZqBKb6bsA9Vnr\"><span class=\"fQMqQTGJTbIMxjQwZA2zk '\n",
      " '_3tGRl6x9iIWRiFTkKl3kcR\">ヤフー株式会社</span></dt><dd><ul '\n",
      " 'class=\"_3I3C2VL0OPEm7Iyt-OCFz0\"><li class=\"_3b1WmJCwznSYqqf7ptd54g\"><a '\n",
      " 'class=\"yMWCYupQNdgppL-NV6sMi _3sAlKGsIBCxTUbNi86oSjt\" '\n",
      " 'href=\"https://about.yahoo.co.jp/\" data-ylk=\"slk:comp;pos:0\" '\n",
      " 'data-cl-params=\"_cl_link:comp;_cl_position:0\">会社概要</a></li><li '\n",
      " 'class=\"_3b1WmJCwznSYqqf7ptd54g\"><a class=\"yMWCYupQNdgppL-NV6sMi '\n",
      " '_3sAlKGsIBCxTUbNi86oSjt\" href=\"https://about.yahoo.co.jp/csr/\" '\n",
      " 'data-ylk=\"slk:soc;pos:0\" '\n",
      " 'data-cl-params=\"_cl_link:soc;_cl_position:0\">社会的責任</a></li><li '\n",
      " 'class=\"_3b1WmJCwznSYqqf7ptd54g\"><a class=\"yMWCYupQNdgppL-NV6sMi '\n",
      " '_3sAlKGsIBCxTUbNi86oSjt\" href=\"https://marketing.yahoo.co.jp/\" '\n",
      " 'data-ylk=\"slk:ad;pos:0\" '\n",
      " 'data-cl-params=\"_cl_link:ad;_cl_position:0\">広告掲載について</a></li><li '\n",
      " 'class=\"_3b1WmJCwznSYqqf7ptd54g\"><a class=\"yMWCYupQNdgppL-NV6sMi '\n",
      " '_3sAlKGsIBCxTUbNi86oSjt\" href=\"https://about.yahoo.co.jp/hr/\" '\n",
      " 'data-ylk=\"slk:hr;pos:0\" '\n",
      " 'data-cl-params=\"_cl_link:hr;_cl_position:0\">採用情報</a></li></ul><ul '\n",
      " 'class=\"_3I3C2VL0OPEm7Iyt-OCFz0\"><li class=\"_3b1WmJCwznSYqqf7ptd54g\"><a '\n",
      " 'class=\"yMWCYupQNdgppL-NV6sMi _3sAlKGsIBCxTUbNi86oSjt\" '\n",
      " 'href=\"https://about.yahoo.co.jp/common/terms/\" '\n",
      " 'data-ylk=\"slk:agreement;pos:0\" '\n",
      " 'data-cl-params=\"_cl_link:agreement;_cl_position:0\">利用規約</a></li><li '\n",
      " 'class=\"_3b1WmJCwznSYqqf7ptd54g\"><a class=\"yMWCYupQNdgppL-NV6sMi '\n",
      " '_3sAlKGsIBCxTUbNi86oSjt\" href=\"https://about.yahoo.co.jp/common/disclaimer/\" '\n",
      " 'data-ylk=\"slk:disc;pos:0\" '\n",
      " 'data-cl-params=\"_cl_link:disc;_cl_position:0\">免責事項</a></li><li '\n",
      " 'class=\"_3b1WmJCwznSYqqf7ptd54g\"><a class=\"yMWCYupQNdgppL-NV6sMi '\n",
      " '_3sAlKGsIBCxTUbNi86oSjt\" '\n",
      " 'href=\"https://about.yahoo.co.jp/common/mediastatement/\" '\n",
      " 'data-ylk=\"slk:state;pos:0\" '\n",
      " 'data-cl-params=\"_cl_link:state;_cl_position:0\">メディアステートメント</a></li><li '\n",
      " 'class=\"_3b1WmJCwznSYqqf7ptd54g\"><a class=\"yMWCYupQNdgppL-NV6sMi '\n",
      " '_3sAlKGsIBCxTUbNi86oSjt\" href=\"https://privacy.yahoo.co.jp/\" '\n",
      " 'data-ylk=\"slk:policy;pos:0\" '\n",
      " 'data-cl-params=\"_cl_link:policy;_cl_position:0\">プライバシー</a></li></ul></dd></dl></li><li '\n",
      " 'class=\"_2dqDKArI6iGaA3nS7xNUmE\"><dl><dt '\n",
      " 'class=\"_2X2lsrA-jZqBKb6bsA9Vnr\"><span class=\"fQMqQTGJTbIMxjQwZA2zk '\n",
      " '_3tGRl6x9iIWRiFTkKl3kcR\">Zホールディングス株式会社</span></dt><dd><ul '\n",
      " 'class=\"_3I3C2VL0OPEm7Iyt-OCFz0\"><li class=\"_3b1WmJCwznSYqqf7ptd54g\"><a '\n",
      " 'class=\"yMWCYupQNdgppL-NV6sMi _3sAlKGsIBCxTUbNi86oSjt\" '\n",
      " 'href=\"https://www.z-holdings.co.jp/\" data-ylk=\"slk:z_comp;pos:0\" '\n",
      " 'data-cl-params=\"_cl_link:z_comp;_cl_position:0\">会社概要</a></li><li '\n",
      " 'class=\"_3b1WmJCwznSYqqf7ptd54g\"><a class=\"yMWCYupQNdgppL-NV6sMi '\n",
      " '_3sAlKGsIBCxTUbNi86oSjt\" href=\"https://www.z-holdings.co.jp/ir/\" '\n",
      " 'data-ylk=\"slk:ir;pos:0\" '\n",
      " 'data-cl-params=\"_cl_link:ir;_cl_position:0\">投資家情報</a></li></ul></dd></dl></li></ul><p '\n",
      " 'class=\"_3rCO0-ffBAEkCS8URNYQBC\"><small class=\"_1wf30cBtHv6aK8mAYdYbuo\">© '\n",
      " 'Yahoo Japan</small></p></footer></div></div><script '\n",
      " 'src=\"https://s.yimg.jp/images/ds/ult/apj/rapid-4.4.0.js\"></script><script>(function(){\\n'\n",
      " '  var osmode = \"unknown\";\\n'\n",
      " '  if (typeof window.matchMedia !== \"undefined\") {\\n'\n",
      " '    if (window.matchMedia(\"(prefers-color-scheme: dark)\").matches) {\\n'\n",
      " '      osmode = \"dark\";\\n'\n",
      " '    } else if (window.matchMedia(\"(prefers-color-scheme: light)\").matches) '\n",
      " '{\\n'\n",
      " '      osmode = \"light\";\\n'\n",
      " '    }\\n'\n",
      " '  }\\n'\n",
      " '  var sr = new YAHOO.i13n.JP.simpleRapid();\\n'\n",
      " '  window.__rapid = sr.setSpaceid(2079181999)\\n'\n",
      " '    .trackedClass(\"ult__mods\")\\n'\n",
      " '    .trackedViewableClass(\"vult__mods\")\\n'\n",
      " '    .startViewable()\\n'\n",
      " '    '\n",
      " '.setPageParam({\"service\":\"toppage\",\"pagetype\":\"top\",\"status\":\"logout\",\"device\":\"pc\",\"os\":\"other\",\"apptype\":\"web\",\"opttype\":\"pc\",\"mtestid\":\"\",\"ybb\":\"0\",\"premium\":\"0\",\"paypay\":\"0\",\"jis\":\"\",\"grade\":\"c\"})\\n'\n",
      " '    .setPageParam({ \"osmode\": osmode })\\n'\n",
      " '    .initRapid();\\n'\n",
      " '})();</script><script '\n",
      " 'src=\"https://s.yimg.jp/images/ds/yas/ual-2.10.2.min.js\"></script><script>(function(){\\n'\n",
      " '  window.ualcmds = window.ualcmds || [];\\n'\n",
      " '  window.ual = window.ual || function() {\\n'\n",
      " '    ualcmds.push(arguments);\\n'\n",
      " '  };\\n'\n",
      " '\\n'\n",
      " \"  ual('config', 'token', '4465a92c-f0fd-406f-b519-efd409cc9849');\\n\"\n",
      " '\\n'\n",
      " \"  ual('global', {\\n\"\n",
      " '    service: \"toppage\",\\n'\n",
      " '    apptype: \"web\",\\n'\n",
      " '    mtestid: \"\",\\n'\n",
      " '    opttype: \"pc\"\\n'\n",
      " '  });\\n'\n",
      " \"  ual('offset', {\\n\"\n",
      " '    auto: true\\n'\n",
      " '  });\\n'\n",
      " \"  ual('ctrl', 'start');\\n\"\n",
      " '})();</script></body></html>')\n"
     ]
    }
   ],
   "source": [
    "import requests\n",
    "import pprint\n",
    "r = requests.get('https://yahoo.co.jp')\n",
    "pprint.pprint(r.text)"
   ]
  },
  {
   "cell_type": "code",
   "execution_count": 23,
   "metadata": {},
   "outputs": [
    {
     "data": {
      "text/plain": [
       "'https://zipcloud.ibsnet.co.jp/api/search?zipcode=1600201'"
      ]
     },
     "execution_count": 23,
     "metadata": {},
     "output_type": "execute_result"
    }
   ],
   "source": [
    "import requests\n",
    "base_url = 'https://zipcloud.ibsnet.co.jp/api/search'\n",
    "query_parameter = '?zipcode='\n",
    "zipcode = '1600201'\n",
    "request_url = base_url + query_parameter + zipcode\n",
    "request_url"
   ]
  },
  {
   "cell_type": "code",
   "execution_count": 24,
   "metadata": {},
   "outputs": [
    {
     "data": {
      "text/plain": [
       "{'message': None, 'results': None, 'status': 200}"
      ]
     },
     "execution_count": 24,
     "metadata": {},
     "output_type": "execute_result"
    }
   ],
   "source": [
    "requests.get(request_url).json()"
   ]
  },
  {
   "cell_type": "markdown",
   "metadata": {},
   "source": [
    "json {'key': 'value'}"
   ]
  },
  {
   "cell_type": "code",
   "execution_count": 26,
   "metadata": {},
   "outputs": [
    {
     "name": "stdout",
     "output_type": "stream",
     "text": [
      "{'batchcomplete': '',\n",
      " 'query': {'pages': {'105826': {'ns': 0,\n",
      "                                'pageid': 105826,\n",
      "                                'revisions': [{'*': '{{混同|柔術}}\\n'\n",
      "                                                    '{{Infobox_武道・武術\\n'\n",
      "                                                    '|読み=Jiu-jitsu Brasileiro\\n'\n",
      "                                                    '|画像名=GABRIEL_VELLA_vs_ROMINHO_51.jpg\\n'\n",
      "                                                    '|画像サイズ=250px\\n'\n",
      "                                                    '|画像説明=\\n'\n",
      "                                                    '|別名=BJJ\\n'\n",
      "                                                    '|競技形式=\\n'\n",
      "                                                    '|使用武器=なし\\n'\n",
      "                                                    '|発生国={{BRA}}\\n'\n",
      "                                                    '|発生年=公称20世紀初頭\\n'\n",
      "                                                    '|創始者=カーロス・グレイシー\\n'\n",
      "                                                    '|源流=[[柔道]]\\n'\n",
      "                                                    '|流派=[[マチャド柔術]]<br '\n",
      "                                                    '/>[[ノヴァウニオン柔術]]<br '\n",
      "                                                    '/>[[バルボーザ柔術]]<br '\n",
      "                                                    '/>[[カナディアン柔術]]\\n'\n",
      "                                                    '|派生種目=\\n'\n",
      "                                                    '|主要技術=抑込技、絞め技、関節技、投げ技\\n'\n",
      "                                                    '|公式ウェブサイト=[http://www.ibjjf.org/ '\n",
      "                                                    '国際ブラジリアン柔術連盟]\\n'\n",
      "                                                    '}}\\n'\n",
      "                                                    \"'''ブラジリアン柔術'''（ブラジリアンじゅうじゅつ、{{Lang-en-short|Brazilian \"\n",
      "                                                    \"jiu-jitsu}}、略称'''BJJ'''、{{Lang-pt-short|jiu-jitsu \"\n",
      "                                                    \"brasileiro}}）は、'''グレイシー柔術'''から発展した[[ブラジル]]の[[格闘技]]。\\n\"\n",
      "                                                    '\\n'\n",
      "                                                    '[[ブラジル]]に移民した[[日本人]][[柔道家]]・[[前田光世]]が自らの[[プロレスラー]]などとの戦いから修得した技術や[[柔道]]または[[柔術]]の技術を[[カーロス・グレイシー]]、ジュルジ・グレイシーなどに伝え、彼らが改変してできあがった。ブラジルでは[[リオデジャネイロ市|リオデジャネイロ]]を中心に[[サンパウロ]]や[[クリチバ]]などで、長年に渡り盛んに行われている。\\n'\n",
      "                                                    '\\n'\n",
      "                                                    'ブラジリアン柔術には、[[護身術]]と[[格闘技]]という側面があるが、最初に[[前田光世]]から手ほどきを受けた[[カーロス・グレイシー]]の弟である[[エリオ・グレイシー]]は小柄で[[喘息]]持ちであった。そんな彼でも自分の身を守り、体格や力の上で劣る相手でも勝てるように考案されたのがグレイシー柔術で、[[カーロス・グレイシー|グレイシー柔術]]の武道的な側面を簡略化し、競技として発展させたものがブラジリアン柔術である。それらは、[[寝技]]の組み技主体であるが故の安全性の高さや、全くの素人からでも始められるハードルの低さから、競技人口が急速に増加している。[[国際柔術連盟]] '\n",
      "                                                    '(JJIF) '\n",
      "                                                    \"での名称は'''寝技柔術'''（ねわざじゅうじゅつ、{{Lang-en-short|Jiu-Jitsu}}、{{Lang-fr-short|Ne \"\n",
      "                                                    'waza}}）。\\n'\n",
      "                                                    '\\n'\n",
      "                                                    '== 概要 ==\\n'\n",
      "                                                    \"ブラジリアン柔術は'''柔術競技'''、'''[[総合格闘技|バーリトゥード]]'''、'''[[護身術]]'''を3つの柱にしている。\\n\"\n",
      "                                                    '\\n'\n",
      "                                                    '# '\n",
      "                                                    \"稽古は'''柔術競技'''を中心に行われ、この競技において上達するとバーリトゥードでもある程度強くなるように考えられている。しかしながら、柔術競技は寝技の組み技が主体のため、安全性が高い着衣格闘技である。国内外問わずこの柔術競技のみを教えている道場も多い。\\n\"\n",
      "                                                    '# '\n",
      "                                                    \"'''バーリトゥード'''は原則、着衣無しの『なんでもあり』の試合（総合格闘技）で、稽古では柔術競技との細かな技術的な違いを中心に教えられる。実際に技を掛け合う乱取り稽古は諸々の現代格闘技と同じくスパーリングと呼ばれる。\\n\"\n",
      "                                                    '# '\n",
      "                                                    \"他の武術・格闘技では、実戦=バーリトゥード（何でもあり）、と考えがちだが、ブラジリアン柔術ではバーリトゥードと'''護身術'''を区別して捉えている。他の二つと異なり、立ち姿勢で不意打ちの状況が中心である。\\n\"\n",
      "                                                    '\\n'\n",
      "                                                    '== 歴史 ==\\n'\n",
      "                                                    '{{脚注の不足|date=2019年10月|section=1}}\\n'\n",
      "                                                    '=== 勃興期 ===\\n'\n",
      "                                                    '以下の歴史はグレイシーバッハJAPANとグレイシーアカデミーの公式サイトなどを元に記述する。\\n'\n",
      "                                                    '20世紀前半、日本を離れた前田光世の柔術にほれ込んだスコットランド系移民をルーツに持つガスタオン・グレイシーが自分の子供達に柔術を教えてほしいと依頼し、長男の[[カーロス・グレイシー]]らが前田から学ぶこととなった。末弟のエリオはカーロスから学んだが、カーロスと比べて肉体が決して強くなかったエリオはてこの原理を応用した技術開発に取り組み、その延長線上で教授法を獲得して兄弟の中でも頭角を表し始めた。\\n'\n",
      "                                                    'カーロスは自らだけでなく、兄弟達の試合のマネージメントを行って柔術の有効性を証明し続けることで着実に国内での柔術の足場を築いていった。特にエリオは技術に秀でていたことから積極的に他流試合に出続けた。その中でも特に知られているのがエリオと[[木村政彦]]の一戦であり、エリオは最終的に敗れたがその前の試合では日本人柔道家相手に好成績を残しており、内一人を十字絞めで絞め落として日系人コミュニティを大いに動揺させた。\\n'\n",
      "                                                    '\\n'\n",
      "                                                    '=== 1950年代-90年代 ===\\n'\n",
      "                                                    '1950年代以降、グレイシー一族が活動していたブラジル北東部におけるバーリ・トゥードは衰退期に入っていったが柔術は存続し続けた。カーロスは20人以上の子供をもうけたが、多くを人格者、指導者として優れていたエリオに預けていた。一族でも史上最高の柔術家と目されている[[ホーウス・グレイシー]]もその一人だった。ホーウスはエリオが重視していた防御的なスタイルに限界を感じ、自ら積極的に攻め立てるスタイルを模索して柔術だけではなく柔道、レスリング、サンボといった他の組技系格闘技を修めて柔術に技術革新をもたらした。\\n'\n",
      "                                                    '後にホーウスは事故死してしまうが、彼の指導を受けて成長し、バーリ・トゥードで名を馳せていた[[レイ・ズール]]を破った[[ヒクソン・グレイシー]]をはじめとする新世代のグレイシー一族や、[[オズワルド・アウヴェス]]といった非グレイシー系の黒帯が増えたことで柔術の普及は進んでいった。\\n'\n",
      "                                                    '\\n'\n",
      "                                                    '=== 1990年代 - 2000年代 ===\\n'\n",
      "                                                    'もともと何でもありのケンカでは強いのは打撃であり、組技は実戦では役に立たないと思われてきた。そんな中で[[1993年]][[11月12日]]、エリオの息子[[ホイス・グレイシー]]が、長兄[[ホリオン・グレイシー]]が主催した[[UFC '\n",
      "                                                    '1]]（反則攻撃は[[サミング|目潰し]]、噛み付きのみの格闘技大会）で参加選手中、最軽量だったにもかかわらず優勝し、一躍柔術が脚光を浴びた。この大会は広いフィールドで1対1の状況が約束されているという柔術が最も得意とする条件で行われたため、大会の認可が下りた際ホリオンは柔術による世界の格闘技市場制圧を確信したとまで語っている。\\n'\n",
      "                                                    'その結果、全米中の格闘技の道場やジムでブラジリアン柔術が普及し始め、グレイシー一族だけでなく[[ビクトー・ベウフォート]]や[[アントニオ・ホドリゴ・ノゲイラ]]ら柔術をバックボーンにもつ格闘家が好成績を収めるとその他の格闘家も寝技を研究していき、世界の格闘技情勢は一変した。\\n'\n",
      "                                                    '\\n'\n",
      "                                                    '=== 2010年代以降 ===\\n'\n",
      "                                                    '国際的に普及した柔術はさらに安全面での配慮や競技人口の増大により他の格闘技と同様スポーツ化の様相を見せ始め、いわゆるモダン柔術という相手のバックを積極的に狙って試合を優位に運んだり、[[護身術]]、[[格闘技]]の観点からは考えられない試合展開（お互いに尻餅をついて向き合い、コントロールを試みるダブルガードなど）が見られてきた。これに対してグレイシー一族（特にIBJJFに関わっていないエリオ派）らを中心とした保守派や、独特のアプローチで柔術とMMAの技術の互換性を志向し続けている[[エディ・ブラボー]]らによりIBJJFルールではない試合が行われるようになり、[[Metamoris]]をはじめとするポイント制を廃したグラップリング、柔術大会が話題を呼び始めている。\\n'\n",
      "                                                    '\\n'\n",
      "                                                    '=== 日本における団体の設立 ===\\n'\n",
      "                                                    '日本では、[[1997年]]（平成9年）に[[渡辺孝真]]を会長とした[[日本ブラジリアン柔術連盟]] '\n",
      "                                                    '(JBJJF) '\n",
      "                                                    'が設立された。また[[2008年]]（平成20年）2月に、[[ヒクソン・グレイシー]]を会長とする[[全日本柔術連盟]] '\n",
      "                                                    '(JJFJ) が設立された。\\n'\n",
      "                                                    '\\n'\n",
      "                                                    '== 帯制度 ==\\n'\n",
      "                                                    '帯の色は[[柔道]]や[[空手道]]のように習熟度や実力によって分けられており、白帯、青帯、紫帯、茶帯、[[黒帯]]の順に高位となっていく。柔道の場合は各県において昇段審査があり、受験者同士の試合結果にて取得する点を一定数貯めると昇段といった制度があるが、柔術では試合や大会での戦績に応じて指導者の判断で授与するのが一般的である。\\n'\n",
      "                                                    '\\n'\n",
      "                                                    '黒帯制度がある各武道の中でも昇段が最難関と言われており、黒帯を取得出来る者は稀である。目安として青帯は基礎技術を習熟し、紫帯で指導員としての実力を有し、茶帯および黒帯は下位帯に対して圧倒的な実力差を有する。習得期間や寝技の技量・戦歴によって、所属先の指導者が帯の昇格を認めると柔術を始めてから1年で昇格をする場合もあれば10年以上の歳月をかけて昇格する人もいる。ただし、[[総合格闘技]]のプロ経験を持った者や柔道・レスリング・サンボ等で[[オリンピック]]出場経験・全日本大会以上の優勝経験を持った者は無条件で色帯として昇格される場合もある<ref '\n",
      "                                                    'group=\"注\">柔道世界選手権に出場経験がある[[鳥居智男]]の場合、ブラジリアン柔術を始めた時点で紫帯に昇級している。</ref>。また、中学生で緑帯を所得したものは中学校卒業した時点で青帯昇格となる。ブラジル柔術連盟（CBJJ）によると、[[黒帯]]に昇格してから31年経った者に[[赤帯]]を授けている。\\n'\n",
      "                                                    '\\n'\n",
      "                                                    '紫帯以上の指導者はいつでも門下生に自分の帯のより一段階下の帯を認定することが出来る。黒帯二段以上は黒帯以下の全ての帯を認定することが出来、黒帯初段は2011年の改制により、黒帯（黒帯無段）を認定することが出来ない。黒帯初段以上は指導者個人ではなく、国際ブラジリアン柔術連盟の公認連盟のみが認定することが出来る。\\n'\n",
      "                                                    '\\n'\n",
      "                                                    'ただし、それぞれ最短終了期間が定められており、青帯の場合は会員登録から最低2年以上経過しないと紫帯を取得することが出来ない。\\n'\n",
      "                                                    '\\n'\n",
      "                                                    '== IBJJFルール ==\\n'\n",
      "                                                    '以下は[[IBJJF]]ルールの抜粋である。\\n'\n",
      "                                                    '\\n'\n",
      "                                                    '=== 勝敗の決定 ===\\n'\n",
      "                                                    '* [[極技|サブミッション]] - '\n",
      "                                                    '[[絞め技]]や[[関節技]]で相手選手がタップする、あるいは失神する。\\n'\n",
      "                                                    '* 怪我などによる棄権\\n'\n",
      "                                                    '* 重大反則行為による失格\\n'\n",
      "                                                    '* ポイント\\n'\n",
      "                                                    '* アドバンテージ\\n'\n",
      "                                                    '* ネガティブ\\n'\n",
      "                                                    '* レフェリー判定\\n'\n",
      "                                                    '\\n'\n",
      "                                                    '時間内に決着が付かなかった場合はポイント数の多い選手が勝利となる。ポイントが同数の場合アドバンテージ数が多い選手が、そしてアドバンテージも同数の場合、ネガティブの少ない選手が勝利となる。\\n'\n",
      "                                                    '全てが同数の場合は審判が判定する（レフェリー判定）ため引き分けはない。ただし両者失格はある。\\n'\n",
      "                                                    '==== ポジティブポイント====\\n'\n",
      "                                                    '{{See also|グラウンドポジション}}\\n'\n",
      "                                                    '\\n'\n",
      "                                                    '{| class=\"wikitable\"\\n'\n",
      "                                                    '|-\\n'\n",
      "                                                    '!名称!!ポジティブポイント!!詳細\\n'\n",
      "                                                    '|-\\n'\n",
      "                                                    '|[[テイクダウン]]||rowspan=\"3\"|2点||立っている相手を倒し、寝技に持ち込むこと。\\n'\n",
      "                                                    '|-\\n'\n",
      "                                                    '|[[ガードポジション#スイープ|スイープ]]||[[グラウンドポジション|ガードポジション]]の選手が上の選手をひっくり返して上下逆になること。\\n'\n",
      "                                                    '|-\\n'\n",
      "                                                    '|[[浮固|ニーオンベリー]]||仰向けの相手の胴体に膝を乗せ、もう一方の膝を立て足を床についた体勢。\\n'\n",
      "                                                    '|-\\n'\n",
      "                                                    '|[[ガードポジション#パスガード|パスガード]]||3点||[[グラウンドポジション|インサイドガードポジション]]から脱し柔道の[[抑込技]]状態、ニーオンベリーもしくはマウントポジションをとる。\\n'\n",
      "                                                    '|-\\n'\n",
      "                                                    '|[[グラウンドポジション|マウント]]||rowspan=\"2\"|4点||仰向け、腹ばいもしくは横向けの相手に馬乗りの体勢をとる。\\n'\n",
      "                                                    '|-\\n'\n",
      "                                                    '|[[グラウンドポジション#バックグラブポジション|バックコントロール]]||背後から相手の鼠蹊部に両かかとを置く。\\n'\n",
      "                                                    '|}\\n'\n",
      "                                                    '上記ポイントは3秒以上キープすることで付与される。またニーオンザベリー、パスガードは左右をスイッチしてもポイントは加算されない。\\n'\n",
      "                                                    '\\n'\n",
      "                                                    '==== ネガティブポイント====\\n'\n",
      "                                                    '相手と組むことを避ける。もしくは組んでも膠着を誘発する行為はストーリング（時間稼ぎ）とみなされペナルティーが与えられる。\\n'\n",
      "                                                    '\\n'\n",
      "                                                    '=== 主な反則行為 ===\\n'\n",
      "                                                    '==== 非常に重大な反則 ====\\n'\n",
      "                                                    '即座に失格となる\\n'\n",
      "                                                    '* '\n",
      "                                                    'サブミッションが仕掛けられた状態で意図的に場外へ出る行為\\n'\n",
      "                                                    '* '\n",
      "                                                    '噛みつき、サミング、髪を引っ張る、打撃行為、急所攻撃、指先で鼻孔に攻撃するなど\\n'\n",
      "                                                    '* その他常識、道徳的に反する行為や言動\\n'\n",
      "                                                    '\\n'\n",
      "                                                    '==== 重大な反則 ====\\n'\n",
      "                                                    '2度目の警告より、ペナルティーに追加して相手に1ポイントのアドバンテージが与えられる。3度目は（アドバンテージより上位の）2ポイント、4度目で失格となる（ペナルティは累積）。\\n'\n",
      "                                                    '\\n'\n",
      "                                                    '* 相手の道衣を掴まず膝やお尻を着く\\n'\n",
      "                                                    '* 膠着を誘発する行為\\n'\n",
      "                                                    '* 相手の道衣の袖口、裾口の中に指を入れる行為\\n'\n",
      "                                                    '* 道衣を掴まず拳でチョークを掛ける行為\\n'\n",
      "                                                    '\\n'\n",
      "                                                    '=== 禁止行為 ===\\n'\n",
      "                                                    '以下は禁止行為の抜粋である。\\n'\n",
      "                                                    '\\n'\n",
      "                                                    '{| class=\"wikitable\"\\n'\n",
      "                                                    '|-\\n'\n",
      "                                                    '!階級!!反則技!!解説\\n'\n",
      "                                                    '|-\\n'\n",
      "                                                    '|rowspan=\"12\"|全階級|||[[ネックロック]]||絞めを伴わない[[関節技#首関節技|首関節技]]、頸椎への攻撃\\n'\n",
      "                                                    '|-\\n'\n",
      "                                                    '|[[蟹挟]]||IBJJFルールやJJIFルールを採用しない大会では茶帯以上で使用可の場合がある\\n'\n",
      "                                                    '|-\\n'\n",
      "                                                    '|[[ヒールホールド]]||踵固め\\n'\n",
      "                                                    '|-\\n'\n",
      "                                                    '|[[スラミング]]||ガード状態の相手を床に叩きつける行為。<br '\n",
      "                                                    '/>バックコントロールしている相手を叩きつける行為も同様\\n'\n",
      "                                                    '|-\\n'\n",
      "                                                    '|[[外掛け]]||[[足関節技]]や[[スイープ]]を仕掛ける際に相手の脚に外側から自らの脚を絡みつける行為\\n'\n",
      "                                                    '|-\\n'\n",
      "                                                    '|[[アキレス腱固め|ストレートフットロック]]を仕掛けた脚を、もう一方の脚の方向へねじる行為||\\n'\n",
      "                                                    '|-\\n'\n",
      "                                                    '|ストレートフットロックで外から掛ける足が相手の中心線から超える||[[アキレス腱固め#片足挫腹足|片足挫腹足]]において\\n'\n",
      "                                                    '|-\\n'\n",
      "                                                    '|頭、頸を床に打ち付ける行為||ドライバー、[[ジャーマン・スープレックス|後ろ反り投げ]]など\\n'\n",
      "                                                    '|-\\n'\n",
      "                                                    '|指を反対側（甲側）に曲げる行為||指固め\\n'\n",
      "                                                    '|-\\n'\n",
      "                                                    '|膝をねじって決める行為||[[足緘]]など\\n'\n",
      "                                                    '|-\\n'\n",
      "                                                    '|外向き[[トーホールド]]||外向き足首固め、足取緘\\n'\n",
      "                                                    '|-\\n'\n",
      "                                                    '|すべての打撃||\\n'\n",
      "                                                    '|-\\n'\n",
      "                                                    '|rowspan=\"4\"|白帯青帯紫帯||内向き[[トーホールド]]||内向き足首固め、足取緘\\n'\n",
      "                                                    '|-\\n'\n",
      "                                                    '|[[ストレートニーロック]]||\\n'\n",
      "                                                    '|-\\n'\n",
      "                                                    '|[[カーフスライサー]]||相手のふくらはぎを潰す膝固めなど\\n'\n",
      "                                                    '|-\\n'\n",
      "                                                    '|[[バイセップスライサー]]||[[キーロック]]など相手の[[上腕二頭筋]]潰し\\n'\n",
      "                                                    '|-\\n'\n",
      "                                                    '|rowspan=\"3\"|白帯及びジュブナイル以下||[[リストロック]]||手首固め\\n'\n",
      "                                                    '|-\\n'\n",
      "                                                    '|クローズドガードで肝臓や鋤骨を圧迫する行為||クローズドガードポジションからの[[胴絞]]において\\n'\n",
      "                                                    '|-\\n'\n",
      "                                                    '|頭を対戦相手の体の外側に出して掛けるシングルレッグテイクダウン||\\n'\n",
      "                                                    '|-\\n'\n",
      "                                                    '|rowspan=\"6\"|ティーン以下||[[三角絞め]]から頭を引きつける行為||\\n'\n",
      "                                                    '|-\\n'\n",
      "                                                    '|脊髄への攻撃を伴うチョーク||[[裸絞#ノーギ・エゼキエル・チョーク|ノーギ・エゼキエル・チョーク]]\\n'\n",
      "                                                    '|-\\n'\n",
      "                                                    '|[[袖車絞め]]||袖を使用した前腕による絞め（エゼキエル・チョーク）\\n'\n",
      "                                                    '|-\\n'\n",
      "                                                    '|[[ギロチンチョーク]]||\\n'\n",
      "                                                    '|-\\n'\n",
      "                                                    '|[[アームトライアングル]]||[[肩固]]、[[アナコンダ・チョーク]]、[[ダースチョーク]]など\\n'\n",
      "                                                    '|-\\n'\n",
      "                                                    '|ストレートフットロック||[[アキレス腱固め]]\\n'\n",
      "                                                    '|-\\n'\n",
      "                                                    '|ジュニア以下||両脚を開脚させて極める関節技||\\n'\n",
      "                                                    '|}\\n'\n",
      "                                                    '\\n'\n",
      "                                                    '=== 柔術衣 ===\\n'\n",
      "                                                    '柔術衣は柔道着と比べ細身で、メーカー名のパッチあるいは刺繍が目立つようにデザインされている。また柔道は白の柔道着で大会に出場することが一般的だが、柔術では上下同色の黒、白、青（紺色を含む）であれば公式大会に出場できる。また、袖の余り幅は6.8 '\n",
      "                                                    'cm以上必要である。\\n'\n",
      "                                                    '\\n'\n",
      "                                                    '=== 年齢カテゴリ ===\\n'\n",
      "                                                    '{| class=\"wikitable\"\\n'\n",
      "                                                    '|-\\n'\n",
      "                                                    '!カテゴリ!!対象年齢\\n'\n",
      "                                                    '|-\\n'\n",
      "                                                    '|マイティーマイトI～III|4歳 - 6歳\\n'\n",
      "                                                    '|-\\n'\n",
      "                                                    '|ピーウィーI～III||7歳 - 9歳\\n'\n",
      "                                                    '|-\\n'\n",
      "                                                    '|ジュニアI～III||10歳 - 12歳\\n'\n",
      "                                                    '|-\\n'\n",
      "                                                    '|ティーンI～III||13歳 - 15歳\\n'\n",
      "                                                    '|-\\n'\n",
      "                                                    '|ジュブナイルI～II||16歳 - 17歳\\n'\n",
      "                                                    '|-\\n'\n",
      "                                                    '|アダルト||18歳 - 29歳\\n'\n",
      "                                                    '|-\\n'\n",
      "                                                    '|マスター1||30歳 - 35歳\\n'\n",
      "                                                    '|-\\n'\n",
      "                                                    '|マスター2||36歳 - 40歳\\n'\n",
      "                                                    '|-\\n'\n",
      "                                                    '|マスター3||41歳 - 45歳\\n'\n",
      "                                                    '|-\\n'\n",
      "                                                    '|マスター4||46歳 - 50歳\\n'\n",
      "                                                    '|-\\n'\n",
      "                                                    '|マスター5||51歳 - 55歳\\n'\n",
      "                                                    '|-\\n'\n",
      "                                                    '|マスター6||56歳以上\\n'\n",
      "                                                    '|}\\n'\n",
      "                                                    '算出方法：（現在の西暦年）-（誕生年）\\n'\n",
      "                                                    '\\n'\n",
      "                                                    '=== 階級（着衣時） ===\\n'\n",
      "                                                    '{| class=\"wikitable\"\\n'\n",
      "                                                    '|-\\n'\n",
      "                                                    '! 体重 !! 階級名称\\n'\n",
      "                                                    '|-\\n'\n",
      "                                                    '| 57.5 kg以下 || ルースター級 '\n",
      "                                                    '(Rooster)\\n'\n",
      "                                                    '|-\\n'\n",
      "                                                    '| 64.0 kg以下 || ライトフェザー級 '\n",
      "                                                    '(Light-Feather)\\n'\n",
      "                                                    '|-\\n'\n",
      "                                                    '| 70.0 kg以下 || フェザー級 '\n",
      "                                                    '(Feather)\\n'\n",
      "                                                    '|-\\n'\n",
      "                                                    '| 76.0 kg以下 || ライト級 '\n",
      "                                                    '(Light)\\n'\n",
      "                                                    '|-\\n'\n",
      "                                                    '| 82.3 kg以下 || ミドル級 '\n",
      "                                                    '(Middle)\\n'\n",
      "                                                    '|-\\n'\n",
      "                                                    '| 88.3 kg以下 || ミディアムヘビー級 '\n",
      "                                                    '(Medium-Heavy)\\n'\n",
      "                                                    '|-\\n'\n",
      "                                                    '| 94.3 kg以下 || ヘビー級 '\n",
      "                                                    '(Heavy)\\n'\n",
      "                                                    '|-\\n'\n",
      "                                                    '| 100.5 kg以下 || スーパーヘビー級 '\n",
      "                                                    '(Super-Heavy)\\n'\n",
      "                                                    '|-\\n'\n",
      "                                                    '| 100.6 kg以上 || ウルトラヘビー級 '\n",
      "                                                    '(Ultra-Heavy)\\n'\n",
      "                                                    '|-\\n'\n",
      "                                                    '| 無差別 || オープンクラス級 '\n",
      "                                                    '(Open-class)\\n'\n",
      "                                                    '|}\\n'\n",
      "                                                    '\\n'\n",
      "                                                    '=== 試合時間 ===\\n'\n",
      "                                                    '{| class=\"wikitable\"\\n'\n",
      "                                                    '|-\\n'\n",
      "                                                    '! 帯／階級\\n'\n",
      "                                                    '! プレミリン\\n'\n",
      "                                                    '! ミリン\\n'\n",
      "                                                    '! インファンティウ\\n'\n",
      "                                                    '! インファント・ジュベニウ\\n'\n",
      "                                                    '! ジュベニウ\\n'\n",
      "                                                    '! アダルト\\n'\n",
      "                                                    '! マスター\\n'\n",
      "                                                    '! シニア以上\\n'\n",
      "                                                    '|-\\n'\n",
      "                                                    '|白帯\\n'\n",
      "                                                    '|2分\\n'\n",
      "                                                    '|3分\\n'\n",
      "                                                    '|4分\\n'\n",
      "                                                    '|4分\\n'\n",
      "                                                    '|5分\\n'\n",
      "                                                    '|5分\\n'\n",
      "                                                    '|5分\\n'\n",
      "                                                    '|5分\\n'\n",
      "                                                    '|-\\n'\n",
      "                                                    '|青帯\\n'\n",
      "                                                    '| -\\n'\n",
      "                                                    '| -\\n'\n",
      "                                                    '| -\\n'\n",
      "                                                    '| -\\n'\n",
      "                                                    '|5分\\n'\n",
      "                                                    '|6分\\n'\n",
      "                                                    '|5分\\n'\n",
      "                                                    '|5分\\n'\n",
      "                                                    '|-\\n'\n",
      "                                                    '|紫帯\\n'\n",
      "                                                    '| -\\n'\n",
      "                                                    '| -\\n'\n",
      "                                                    '| -\\n'\n",
      "                                                    '| -\\n'\n",
      "                                                    '| -\\n'\n",
      "                                                    '|7分\\n'\n",
      "                                                    '|6分\\n'\n",
      "                                                    '|5分\\n'\n",
      "                                                    '|-\\n'\n",
      "                                                    '|茶帯\\n'\n",
      "                                                    '| -\\n'\n",
      "                                                    '| -\\n'\n",
      "                                                    '| -\\n'\n",
      "                                                    '| -\\n'\n",
      "                                                    '| -\\n'\n",
      "                                                    '|8分\\n'\n",
      "                                                    '|6分\\n'\n",
      "                                                    '|5分\\n'\n",
      "                                                    '|-\\n'\n",
      "                                                    '|黒帯\\n'\n",
      "                                                    '| -\\n'\n",
      "                                                    '| -\\n'\n",
      "                                                    '| -\\n'\n",
      "                                                    '| -\\n'\n",
      "                                                    '| -\\n'\n",
      "                                                    '|10分\\n'\n",
      "                                                    '|6分\\n'\n",
      "                                                    '|5分\\n'\n",
      "                                                    '|}\\n'\n",
      "                                                    '※空白はその帯を取得できる年齢でないことを示す\\n'\n",
      "                                                    '\\n'\n",
      "                                                    '=== 具体的な試合展開 ===\\n'\n",
      "                                                    '柔道と異なり綺麗に投げても一本勝ちにはならずテイクダウン（2ポイント）またはアドバンテージ（柔道で言う効果。ADポイントとして別集計1ポイント）のみが与えられる。また、引き込みが認められている。そして、寝技で上側の選手が相手選手に組まない場合もそのまま試合は継続される。また寝技の攻防が膠着した場合にブレイク（待て）がかかるまでの時間は柔道と比較してかなり長い。そのため、寝技中心の試合展開になることが多い。\\n'\n",
      "                                                    '\\n'\n",
      "                                                    '寝技は柔道と同様、下の者が相手と正対し、膝や脚を使って防御するガードポジションを取っていれば抑え込み、フォールやポイントが取られないのが[[アマチュアレスリング|レスリング]]や[[サンボ '\n",
      "                                                    '(格闘技)|サンボ]]と異なる大きな特徴である。また、抑え込みでは一本にならず、20秒以上同じ抑え込みを続けると反則を取られる。また、20世紀終盤の柔道では寝技で亀になって防御することが多かったが、柔術ではその態勢で背に乗られ、相手の両足を鼠径部に差し込まれると失点になる（4ポイント）ため、亀の姿勢のままでいることは少ない。下側の者はガードの状態にしようとするか、正対できずうつ伏せの場合は相手に頭を向け手で相手が背後に行けないように[[がぶり|がぶられ]]ながら防御する。\\n'\n",
      "                                                    '\\n'\n",
      "                                                    '一本勝ちは、関節技や絞め技を極めた場合である。実力が拮抗している場合は一本を狙わず、ポジショニングによって与えられるポイントあるいはアドバンテージ等での判定勝利を狙う選手も多い。\\n'\n",
      "                                                    '\\n'\n",
      "                                                    '== 大会・選手権 ==\\n'\n",
      "                                                    'コパ・パラエストラ、GIアマチュアオープントーナメント、デラヒーバカップ、COPA '\n",
      "                                                    'DUMAU '\n",
      "                                                    'KIMONOS（コパ・ドゥマウ・キモノス）、全日本選手権、レグナムJAM、コパ・トウホク、コパ・インファイト、カンペオナート・ジャポネーズ、JAM、コパ・ストライプル、COPA '\n",
      "                                                    'AXIS（コパ・アクシス）、白帯カーニバル、ポゴナカップ、キング・オブ・パラエストラ、全日本ブラジリアン柔術新人戦トーナメント、何気杯、コパ・ダ・アミザデ、CJCT、ヒクソン杯、アジサプリメント柔術大会、[[ワールドゲームズ]][[ヨーロピアン柔術|柔術]]寝技柔術、[[アジア競技大会]]柔術寝技柔術、[[東南アジア競技大会]]柔術寝技柔術、柔術グランドスラム・パリ・オープン寝技柔術など。日本国外でも様々な柔術の大会が開催されている。\\n'\n",
      "                                                    '\\n'\n",
      "                                                    '=== 全日本選手権 ===\\n'\n",
      "                                                    '[[日本ブラジリアン柔術連盟]]（JBJJF）が[[1998年]]（平成10年）から[[全日本ブラジリアン柔術選手権]]を開催し、[[一般社団法人 '\n",
      "                                                    '全日本柔術連盟|全日本柔術連盟]]（JJFJ）が[[2008年]]（平成20年）から[[全日本柔術チャンピオンシップ]]（日本オープン柔術選手権）を開催している。また、過去には[[パラエストラ]]が主催していた「カンペオナート・ジャポネーズ・デ・ジュウジュツ・アベルト（全日本オープン選手権）」があった。[https://sjjjf.org/ '\n",
      "                                                    'スポーツ柔術日本連盟]が、[[2018年]]（平成30年）より、全日本柔術選手権を開催を始めた。[https://sjjjf.org/ '\n",
      "                                                    'スポーツ柔術日本連盟]は、2021年まで3回連続で同大会を開催し、パラ柔術やマスターもあわせて約600名の参加者が集まる大会にまで参加者が増えている。\\n'\n",
      "                                                    '\\n'\n",
      "                                                    '=== 世界選手権 ===\\n'\n",
      "                                                    'ブラジリアン柔術の世界選手権はいくつかある。過去には「柔術ワールドカップ」があった。\\n'\n",
      "                                                    '; [[世界柔術選手権]]（World '\n",
      "                                                    'Jiu-Jitsu Championship）\\n'\n",
      "                                                    ': [[国際ブラジリアン柔術連盟]]（IBJJF) '\n",
      "                                                    \"が主催する大会。通称'''ムンジアル'''。最も古くから続く世界大会。\\n\"\n",
      "                                                    '; 世界柔術選手権 (Ju-Jitsu World '\n",
      "                                                    'Championship)\\n'\n",
      "                                                    ': [[国際柔術連盟]] (Ju-Jitsu '\n",
      "                                                    'International Federation '\n",
      "                                                    ', JJIF) '\n",
      "                                                    'が主催する大会。[[柔術ファイティングシステム]]などを中心に実施してきた同大会だが、2010年代から「[[ヨーロピアン柔術#寝技柔術|寝技柔術]]」の名でブラジリアン柔術も実施する。2018年頃から寝技柔術の英名は '\n",
      "                                                    'Jiu-Jitsu '\n",
      "                                                    \"としている。略称'''JJWC'''。\\n\"\n",
      "                                                    '; [[柔術競技世界]]（Mundial de '\n",
      "                                                    'Jiu-Jitsu Esportivo）\\n'\n",
      "                                                    ': [[ブラジル柔術競技連盟]]（CBJJE) '\n",
      "                                                    'が主催する大会。この大会もムンジアルという名称を用いている。2007年から始まった世界大会。\\n'\n",
      "                                                    '; [[グレイシー柔術世界選手権]]（The '\n",
      "                                                    'Gracie Jiu-Jitsu World '\n",
      "                                                    'Championship)\\n'\n",
      "                                                    ': '\n",
      "                                                    '[[国際グレイシー柔術連盟]]（IGJJF）が主催する大会。2003年から始まった。ムンジアルやコパ・ド・ムンドと違い、競技スポーツではなく護身としての柔術を標榜しているため、上記2つの大会とは試合ルールが異なる。まず[[スラム '\n",
      "                                                    '(曖昧さ回避)|スラム]]（バスター）が紫帯の部以上のカテゴリーで認められている（スラムとは相手を持ち上げて地面に叩き付ける技）。また試合時間が最大で30分と大幅に長い。加えて、寝技で膠着状態になると強制的にスタンド状態に戻され、コイントスで上下のポジションが決定される。\\n'\n",
      "                                                    '; [[柔術オリンピック世界杯]]（Copa do '\n",
      "                                                    'Mundo de Jiu-Jitsu '\n",
      "                                                    'Olimpico）\\n'\n",
      "                                                    ': '\n",
      "                                                    '[[ブラジル柔術オリンピック連盟]]（CBJJO) '\n",
      "                                                    \"が主催していた大会。通称'''コパ・ド・ムンド'''（「世界杯」の意）。IBJJF主催の大会に反発した団体（[[ノヴァウニオン]]他）が1996年から始めた。選手の参加費を格段に安くし、優勝者には賞金が出る制度を初めて行った。正式には、柔術オリンピック \"\n",
      "                                                    'コパ・ド・ムンド・デ・ジウジツ・オリンピコと言う。同大会は、2006年の開催をもって消滅し、2007年以後はCBJJOの後継団体である[[ブラジル柔術競技連盟]]（CBJJE）が、IBJJFとは異なるもう一つのムンジアルを開催している。\\n'\n",
      "                                                    '\\n'\n",
      "                                                    '== 「柔術」という名称を使っている経緯 ==\\n'\n",
      "                                                    '===当時、柔道と柔術の区別が曖昧だったからという説===\\n'\n",
      "                                                    '[[明治時代]]には、講道館柔道は柔術の一流派とされており<ref>厳密には今昔をとわず「柔道」とは武術の流儀名でも格闘技名でもなく、「道」の名の示すとおり、嘉納治五郎の創作した徳目プログラムを指す。現在「柔道」（講道館柔道）という名で知られまた呼ばれる格技種目は、本来その教材となる（嘉納流の）柔術流儀のことであった。{{要出典|date=2020-02}}</ref>、まだ柔術と柔道を明確に区別する習慣がなかった。前田光世が日本を発った時、柔道は嘉納柔術という呼び方をされていたため、「柔術」となったと考えられる。例えば、『[[坊っちゃん]]』と『[[三四郎]]』は[[1906年]]（明治39年）と[[1908年]]（明治41年）に書かれたものであるが、[[嘉納治五郎]]と親交のあった[[夏目漱石]]はこれらの作品で「柔術」と書いている。講道館で柔道を修業した者も自分の技を「柔術」と称することが多かった。戦中まで[[大日本武徳会]]の「[[大日本武徳会武道専門学校 '\n",
      "                                                    '(旧制)|武道専門学校]]」（武専）で教授されていた「柔術」も、技術内容は講道館柔道と同じものであった。一方で、研究者の内田賢次は、前田光世については「柔道」と「柔術」をはっきり区別していたと、前田が書いた手紙から読み取っている<ref '\n",
      "                                                    'name=区別>{{Cite book '\n",
      "                                                    '|和書|author1=三宅タロー|author2=谷幸雄|authorlink2=谷幸雄 '\n",
      "                                                    '|title=対訳「The Game of '\n",
      "                                                    'Ju-jitsu」柔術の勝負|quote=  '\n",
      "                                                    '|others=内田賢次（監修）|location=日本|origdate=2013-08-08|date=|publisher=創英社、[[三省堂書店]] '\n",
      "                                                    '|pages=3-4|isbn=978-4-88142-811-5}}</ref>。\\n'\n",
      "                                                    '\\n'\n",
      "                                                    '===前田光世が自粛したという説===\\n'\n",
      "                                                    '「柔術」と名付けられているのは、[[講道館]]柔道を離れた身である前田光世が「柔道」という言葉の使用を自粛して[[ブラジル人]]らに技を教授したからだといわれている。一方で[[増田俊也]]は自著で、ブラジルに入る前に前田への講道館からの処分が解け昇段してる、としている<ref>{{Cite '\n",
      "                                                    'book |和書 |last= |first= '\n",
      "                                                    '|author=増田俊也|authorlink=増田俊也 '\n",
      "                                                    '|coauthors=|translator=   '\n",
      "                                                    '|origdate=2011年9月30日| '\n",
      "                                                    'date = |year= '\n",
      "                                                    '|title=[[木村政彦はなぜ力道山を殺さなかったのか]]|edition '\n",
      "                                                    '=|publisher=新潮社 '\n",
      "                                                    '|location=日本|page=330 '\n",
      "                                                    '|id= '\n",
      "                                                    '|isbn=978-4-10-330071-7 '\n",
      "                                                    '|quote= }}</ref>。\\n'\n",
      "                                                    '\\n'\n",
      "                                                    '===外国では柔術の方が通りが良かったという説===\\n'\n",
      "                                                    '当時外国では「柔術」という言葉が過去に海外へ出た柔道家や古流の柔術家達によってすでに広まっており、通りが良かった面がある。\\n'\n",
      "                                                    '\\n'\n",
      "                                                    '=== 起源は柔道以外の柔術だったという説 '\n",
      "                                                    '===\\n'\n",
      "                                                    '起源は柔道以外の[[古流柔術]]または新興の柔術だった、というストレートだが少数派の説である。\\n'\n",
      "                                                    '\\n'\n",
      "                                                    '前田から直に教わったカルロス・グレイシーやグレイシーを経ないブラジリアン柔術家として知られるルイジ・フランサ・フィリョは、前田は「柔道」ではなく「柔術」とはっきりと言っていた、と証言している<ref>{{Cite '\n",
      "                                                    'book |和書 |last= |first= '\n",
      "                                                    '|author=増田俊也|authorlink=増田俊也 '\n",
      "                                                    '|coauthors=|origdate=2011年9月30日| '\n",
      "                                                    'date = |year= '\n",
      "                                                    '|title=[[木村政彦はなぜ力道山を殺さなかったのか]]|edition '\n",
      "                                                    '=|publisher=新潮社 '\n",
      "                                                    '|location=日本|pages=329-330 '\n",
      "                                                    '|id= '\n",
      "                                                    '|isbn=978-4-10-330071-7 '\n",
      "                                                    '|quote= '\n",
      "                                                    '}}</ref>。そして、研究者の内田賢次は、前田光世は「柔道」と「柔術」をはっきり区別していたと、前田が書いた手紙から読み取っている<ref '\n",
      "                                                    'name=区別 />。\\n'\n",
      "                                                    '\\n'\n",
      "                                                    '柔道家（当時七段）の石井勇吉は自著で、[[サンパウロ]]にあるブラジリアン柔術道場アカデミア・デ・ペドロ・エメテリオ柔術は古流柔術の流れをくむ道場だ、としている<ref>{{Cite '\n",
      "                                                    'book |和書 |last= |first= '\n",
      "                                                    '|author= 石井勇吉|authorlink= '\n",
      "                                                    '|coauthors=[[石井千秋]]|translator=   '\n",
      "                                                    '|origdate=|origyear=1971 '\n",
      "                                                    '| date = |year= '\n",
      "                                                    '|title=黒帯三代 '\n",
      "                                                    '南米紀行・米洲を征覇して|edition '\n",
      "                                                    '=|publisher=石井機械製作所 '\n",
      "                                                    '|location=日本|page= |id= '\n",
      "                                                    '|isbn=|quote= '\n",
      "                                                    '}}</ref>。石井勇吉の父親は古流柔術[[天神真楊流]]の石井清吉柳喜斎源正義であり、五男は[[エリオ・グレイシー]]の一番弟子[[ペドロ・エメテリオ]]のアカデミア・デ・ペドロ・エメテリオ柔術で立ち技の指導員であった[[チアキ・イシイ]]（[[1972年ミュンヘンオリンピックの柔道競技|ミュンヘンオリンピック柔道]]銅メダリスト）である。\\n'\n",
      "                                                    '\\n'\n",
      "                                                    'また、ブラジリアン柔術の起源が柔道とされるのは前田に柔道以外の柔術の経験がないとされていたのも一因だが、実は前田は[[ロンドン]]の日本柔術学校 '\n",
      "                                                    '(the Japanese School of '\n",
      "                                                    'Ju-jitsu) で指導員をしており<ref '\n",
      "                                                    'name=GAME>{{Cite book '\n",
      "                                                    '|和書|author1=三宅タロー|authorlink1=三宅タロー|author2=谷幸雄|authorlink2=谷幸雄 '\n",
      "                                                    '|title=対訳「The Game of '\n",
      "                                                    'Ju-jitsu」柔術の勝負|quote=  '\n",
      "                                                    '|others=内田賢次（監修）|location=日本|origdate=2013-08-08|date=|publisher=創英社、[[三省堂書店]] '\n",
      "                                                    '|page=4|isbn=978-4-88142-811-5}}</ref>、新興か古流であるこの柔術を修得していた。この道場の設立者は[[谷幸雄]]と[[三宅タロー]]（三宅多留次）である。この柔術のセオリーが記載された両設立者による書籍『The '\n",
      "                                                    'Game of '\n",
      "                                                    'Ju-jitsu』によると、寝技では上の場合は柔道の抑込技状態が有利とされており、特にマウントポジションが有利とされている<ref>{{Cite '\n",
      "                                                    'book '\n",
      "                                                    '|和書|author1=三宅タロー|authorlink1=三宅タロー|author2=谷幸雄|authorlink2=谷幸雄 '\n",
      "                                                    '|title=対訳「The Game of '\n",
      "                                                    'Ju-jitsu」柔術の勝負|quote=  '\n",
      "                                                    '|others=内田賢次（監修）|location=日本|origdate=2013-08-08|date=|publisher=創英社、[[三省堂書店]] '\n",
      "                                                    '|pages=88-89|isbn=978-4-88142-811-5}}</ref>。バックコントロールやバックマウントについては特に記載はない。つまりは柔道とブラジリアン柔術の中間的なセオリーとなっている。書籍『The '\n",
      "                                                    'Game of '\n",
      "                                                    'Ju-jitsu』の日本語対訳本『柔術の勝負』の副題も『明治期の柔道基本技術』となっていて、この柔術は柔道に近いものであり、ブラジリアン柔術の起源がこの柔術だとしても、柔道とする説ともさほど矛盾はない。監修をつとめた内田賢次は、日本柔術学校の技術的背景について、[[谷幸雄]]は柔道（当時初段）と天神真楊流柔術や[[不遷流]]柔術などの古流柔術、三宅タローは[[起倒流]]、[[竹内流]]、不遷流で柔道は講道館での調査の結果、段位の取得が確認できなかった、としている<ref '\n",
      "                                                    'name=GAME />。書籍『The Game '\n",
      "                                                    'of '\n",
      "                                                    'Ju-jitsu』に掲載された筆者写真でも谷が黒帯を締めているのに対し、三宅は不遷流[[免許|免許皆伝]]でありながら当時の古流柔術の慣習と同様、黒帯を締めていない。両者が経験した不遷流は、寝技が優れている、として知られている流派である。\\n'\n",
      "                                                    '\\n'\n",
      "                                                    '== 国際競技連盟 ==\\n'\n",
      "                                                    '主な[[国際競技連盟]]は以下である。\\n'\n",
      "                                                    '* [[国際ブラジリアン柔術連盟]]（IBJJF） '\n",
      "                                                    '国内最大勢力\\n'\n",
      "                                                    '*[[国際柔術連盟]]（JJIF）\\n'\n",
      "                                                    '*[[国際オリンピック委員会]]公認団体[[GAISF]]、AIMSに加盟。\\n'\n",
      "                                                    '\\n'\n",
      "                                                    '* [[国際グレイシー柔術連盟]]（IGJJF）\\n'\n",
      "                                                    '* '\n",
      "                                                    '[[ブラジル柔術オリンピック連盟]]（CBJJO） '\n",
      "                                                    '- 消滅\\n'\n",
      "                                                    '*[https://sjjif.com/ '\n",
      "                                                    'スポーツ柔術国際連盟]（SJJIF）\\n'\n",
      "                                                    '\\n'\n",
      "                                                    '== 国内競技連盟 ==\\n'\n",
      "                                                    '主な[[国内競技連盟]]は以下である。\\n'\n",
      "                                                    ';IBJJF系\\n'\n",
      "                                                    '* [[ブラジル柔術連盟]] (CBJJ)\\n'\n",
      "                                                    '* '\n",
      "                                                    '[[日本ブラジリアン柔術連盟]]（JBJJF）\\n'\n",
      "                                                    ';JJIF系\\n'\n",
      "                                                    '* [[全日本柔術連盟]]（JJFJ）\\n'\n",
      "                                                    '* [[フランス柔道柔術剣道及び関連武道連盟]] '\n",
      "                                                    '(FFJDA)\\n'\n",
      "                                                    '* アラブ首長国連邦柔術連盟 (UAEJJF)\\n'\n",
      "                                                    ':プロブラジリアン柔術のAJPワールドツアーを主催しているAJP '\n",
      "                                                    '(Abu Dhabi Jiu Jitsu Pro) '\n",
      "                                                    'が2019年にここから分離独立した。しかしながら2020年1月11日現在、サイト上に記載している私書箱番号は同一である<ref>{{Cite '\n",
      "                                                    'web |date= '\n",
      "                                                    '|url=http://www.jjif.info/index.php?id=85|title=UAE '\n",
      "                                                    'Jiu-Jitsu '\n",
      "                                                    'Federation|website=JJIF|location=UAE '\n",
      "                                                    '|accessdate=2020-01-11 '\n",
      "                                                    '|quote=PO Box '\n",
      "                                                    '110004|auther=}}</ref><ref>{{Cite '\n",
      "                                                    'web |date= '\n",
      "                                                    '|url=https://ajptour.com/en/support '\n",
      "                                                    '|title=CONTACT OUR TEAM '\n",
      "                                                    '|website=AJP|location=UAE '\n",
      "                                                    '|accessdate=2020-01-11 '\n",
      "                                                    '|quote=PO BOX '\n",
      "                                                    '110004|auther=}}</ref>。\\n'\n",
      "                                                    '\\n'\n",
      "                                                    \"'''SJJIF系'''\\n\"\n",
      "                                                    '\\n'\n",
      "                                                    '*[https://www.asjjf.org/ '\n",
      "                                                    'アジアスポーツ柔術連盟]（ASJJF）\\n'\n",
      "                                                    '* [https://sjjjf.org/ '\n",
      "                                                    'スポーツ柔術日本連盟]（SJJJF）\\n'\n",
      "                                                    '\\n'\n",
      "                                                    '== 脚注 ==\\n'\n",
      "                                                    '{{脚注ヘルプ}}\\n'\n",
      "                                                    '=== 注釈 ===\\n'\n",
      "                                                    '{{Reflist|group=\"注\"}}\\n'\n",
      "                                                    '=== 出典 ===\\n'\n",
      "                                                    '{{Reflist|2}}\\n'\n",
      "                                                    '\\n'\n",
      "                                                    '== 関連項目 ==\\n'\n",
      "                                                    '* [[ブラジリアン柔術家一覧]]\\n'\n",
      "                                                    '* [[ブラジリアン柔術選手一覧]]\\n'\n",
      "                                                    '\\n'\n",
      "                                                    '== 外部リンク ==\\n'\n",
      "                                                    '{{Commons&cat|Brazilian '\n",
      "                                                    'jiu-jitsu}}\\n'\n",
      "                                                    '\\n'\n",
      "                                                    '=== 情報サイト ===\\n'\n",
      "                                                    '*[http://btbrasil.livedoor.biz/ '\n",
      "                                                    'ブラジリアン柔術＆グラップリングニュースブログ '\n",
      "                                                    'ブラジルブログ]\\n'\n",
      "                                                    '* '\n",
      "                                                    '[http://jiujitsushinbun.com/\\u3000'\n",
      "                                                    '柔術新聞]\\n'\n",
      "                                                    '* '\n",
      "                                                    '[https://bjjplus2013.blogspot.com/\\u3000'\n",
      "                                                    'BJJ PLUS]\\n'\n",
      "                                                    '* '\n",
      "                                                    '[https://www.youtube.com/user/amebayoug0001\\u3000'\n",
      "                                                    'BJJ CHANNEL（※YouTube）]\\n'\n",
      "                                                    '\\n'\n",
      "                                                    '=== 国際競技連盟 ===\\n'\n",
      "                                                    '* [http://ibjjf.com/ '\n",
      "                                                    '国際ブラジリアン柔術連盟]（IBJJF）\\n'\n",
      "                                                    '* [http://cbjj.com.br/ '\n",
      "                                                    '柔術競技ブラジル連盟]（CBJJ）\\n'\n",
      "                                                    '* [http://www.jjif.info/ '\n",
      "                                                    '国際柔術連盟] (JJIF)\\n'\n",
      "                                                    '\\n'\n",
      "                                                    '=== 国内競技連盟 ===\\n'\n",
      "                                                    '設立順\\n'\n",
      "                                                    '* [http://www.jbjjf.com/ '\n",
      "                                                    '一般社団法人 '\n",
      "                                                    '日本ブラジリアン柔術連盟]（JBJJF)\\n'\n",
      "                                                    '* [http://www.jjfj.org/ '\n",
      "                                                    '一般社団法人 全日本柔術連盟]（JJFJ)\\n'\n",
      "                                                    '*[https://sjjjf.org/ '\n",
      "                                                    'NPO法人\\u3000'\n",
      "                                                    'SJJJFスポーツ柔術日本連盟]（SJJJF）\\n'\n",
      "                                                    '\\n'\n",
      "                                                    '{{武道・武術}}\\n'\n",
      "                                                    '{{スポーツ一覧}}\\n'\n",
      "                                                    '{{Authority control}}\\n'\n",
      "                                                    '\\n'\n",
      "                                                    '{{DEFAULTSORT:ふらしりあんしゆうしゆつ}}\\n'\n",
      "                                                    '[[Category:ブラジリアン柔術|*]]\\n'\n",
      "                                                    '[[Category:格闘技]]\\n'\n",
      "                                                    '[[Category:柔術]]\\n'\n",
      "                                                    '[[Category:柔道]]\\n'\n",
      "                                                    '[[Category:ブラジルのスポーツ]]',\n",
      "                                               'contentformat': 'text/x-wiki',\n",
      "                                               'contentmodel': 'wikitext'}],\n",
      "                                'title': 'ブラジリアン柔術'}}},\n",
      " 'warnings': {'main': {'*': 'Subscribe to the mediawiki-api-announce mailing '\n",
      "                            'list at '\n",
      "                            '<https://lists.wikimedia.org/postorius/lists/mediawiki-api-announce.lists.wikimedia.org/> '\n",
      "                            'for notice of API deprecations and breaking '\n",
      "                            'changes. Use [[Special:ApiFeatureUsage]] to see '\n",
      "                            'usage of deprecated features by your '\n",
      "                            'application.'},\n",
      "              'revisions': {'*': 'Because \"rvslots\" was not specified, a '\n",
      "                                 'legacy format has been used for the output. '\n",
      "                                 'This format is deprecated, and in the future '\n",
      "                                 'the new format will always be used.'}}}\n"
     ]
    }
   ],
   "source": [
    "import requests, pprint\n",
    "api_url = 'https://ja.wikipedia.org/w/api.php'\n",
    "api_params = {'format':'json', 'action':'query', 'titles':'ブラジリアン柔術',  'prop':'revisions', 'rvprop':'content'} \n",
    "wiki_data = requests.get(api_url, params = api_params).json()\n",
    "pprint.pprint(wiki_data)"
   ]
  },
  {
   "cell_type": "code",
   "execution_count": 27,
   "metadata": {},
   "outputs": [
    {
     "data": {
      "text/plain": [
       "'ブラジリアン柔術（ブラジリアンじゅうじゅつ、英: Brazilian jiu-jitsu、略称BJJ、葡: jiu-jitsu brasileiro）は、グレイシー柔術から発展したブラジルの格闘技。\\nブラジルに移民した日本人柔道家・前田光世が自らのプロレスラーなどとの戦いから修得した技術や柔道または柔術の技術をカーロス・グレイシー、ジュルジ・グレイシーなどに伝え、彼らが改変してできあがった。ブラジルではリオデジャネイロを中心にサンパウロやクリチバなどで、長年に渡り盛んに行われている。\\nブラジリアン柔術には、護身術と格闘技という側面があるが、最初に前田光世から手ほどきを受けたカーロス・グレイシーの弟であるエリオ・グレイシーは小柄で喘息持ちであった。そんな彼でも自分の身を守り、体格や力の上で劣る相手でも勝てるように考案されたのがグレイシー柔術で、グレイシー柔術の武道的な側面を簡略化し、競技として発展させたものがブラジリアン柔術である。それらは、寝技の組み技主体であるが故の安全性の高さや、全くの素人からでも始められるハードルの低さから、競技人口が急速に増加している。国際柔術連盟 (JJIF) での名称は寝技柔術（ねわざじゅうじゅつ、英: Jiu-Jitsu、仏: Ne waza）。'"
      ]
     },
     "execution_count": 27,
     "metadata": {},
     "output_type": "execute_result"
    }
   ],
   "source": [
    "import wikipedia\n",
    "wikipedia.set_lang('ja')\n",
    "wikipedia.summary('ブラジリアン柔術')"
   ]
  },
  {
   "cell_type": "code",
   "execution_count": 28,
   "metadata": {},
   "outputs": [
    {
     "name": "stdout",
     "output_type": "stream",
     "text": [
      "('ブラジリアン柔術（ブラジリアンじゅうじゅつ、英: Brazilian jiu-jitsu、略称BJJ、葡: jiu-jitsu '\n",
      " 'brasileiro）は、グレイシー柔術から発展したブラジルの格闘技。\\n'\n",
      " 'ブラジルに移民した日本人柔道家・前田光世が自らのプロレスラーなどとの戦いから修得した技術や柔道または柔術の技術をカーロス・グレイシー、ジュルジ・グレイシーなどに伝え、彼らが改変してできあがった。ブラジルではリオデジャネイロを中心にサンパウロやクリチバなどで、長年に渡り盛んに行われている。\\n'\n",
      " 'ブラジリアン柔術には、護身術と格闘技という側面があるが、最初に前田光世から手ほどきを受けたカーロス・グレイシーの弟であるエリオ・グレイシーは小柄で喘息持ちであった。そんな彼でも自分の身を守り、体格や力の上で劣る相手でも勝てるように考案されたのがグレイシー柔術で、グレイシー柔術の武道的な側面を簡略化し、競技として発展させたものがブラジリアン柔術である。それらは、寝技の組み技主体であるが故の安全性の高さや、全くの素人からでも始められるハードルの低さから、競技人口が急速に増加している。国際柔術連盟 '\n",
      " '(JJIF) での名称は寝技柔術（ねわざじゅうじゅつ、英: Jiu-Jitsu、仏: Ne waza）。\\n'\n",
      " '\\n'\n",
      " '\\n'\n",
      " '== 概要 ==\\n'\n",
      " 'ブラジリアン柔術は柔術競技、バーリトゥード、護身術を3つの柱にしている。\\n'\n",
      " '\\n'\n",
      " '稽古は柔術競技を中心に行われ、この競技において上達するとバーリトゥードでもある程度強くなるように考えられている。しかしながら、柔術競技は寝技の組み技が主体のため、安全性が高い着衣格闘技である。国内外問わずこの柔術競技のみを教えている道場も多い。\\n'\n",
      " 'バーリトゥードは原則、着衣無しの『なんでもあり』の試合（総合格闘技）で、稽古では柔術競技との細かな技術的な違いを中心に教えられる。実際に技を掛け合う乱取り稽古は諸々の現代格闘技と同じくスパーリングと呼ばれる。\\n'\n",
      " '他の武術・格闘技では、実戦=バーリトゥード（何でもあり）、と考えがちだが、ブラジリアン柔術ではバーリトゥードと護身術を区別して捉えている。他の二つと異なり、立ち姿勢で不意打ちの状況が中心である。\\n'\n",
      " '\\n'\n",
      " '\\n'\n",
      " '== 歴史 ==\\n'\n",
      " '\\n'\n",
      " '\\n'\n",
      " '=== 勃興期 ===\\n'\n",
      " '以下の歴史はグレイシーバッハJAPANとグレイシーアカデミーの公式サイトなどを元に記述する。\\n'\n",
      " '20世紀前半、日本を離れた前田光世の柔術にほれ込んだスコットランド系移民をルーツに持つガスタオン・グレイシーが自分の子供達に柔術を教えてほしいと依頼し、長男のカーロス・グレイシーらが前田から学ぶこととなった。末弟のエリオはカーロスから学んだが、カーロスと比べて肉体が決して強くなかったエリオはてこの原理を応用した技術開発に取り組み、その延長線上で教授法を獲得して兄弟の中でも頭角を表し始めた。\\n'\n",
      " 'カーロスは自らだけでなく、兄弟達の試合のマネージメントを行って柔術の有効性を証明し続けることで着実に国内での柔術の足場を築いていった。特にエリオは技術に秀でていたことから積極的に他流試合に出続けた。その中でも特に知られているのがエリオと木村政彦の一戦であり、エリオは最終的に敗れたがその前の試合では日本人柔道家相手に好成績を残しており、内一人を十字絞めで絞め落として日系人コミュニティを大いに動揺させた。\\n'\n",
      " '\\n'\n",
      " '\\n'\n",
      " '=== 1950年代-90年代 ===\\n'\n",
      " '1950年代以降、グレイシー一族が活動していたブラジル北東部におけるバーリ・トゥードは衰退期に入っていったが柔術は存続し続けた。カーロスは20人以上の子供をもうけたが、多くを人格者、指導者として優れていたエリオに預けていた。一族でも史上最高の柔術家と目されているホーウス・グレイシーもその一人だった。ホーウスはエリオが重視していた防御的なスタイルに限界を感じ、自ら積極的に攻め立てるスタイルを模索して柔術だけではなく柔道、レスリング、サンボといった他の組技系格闘技を修めて柔術に技術革新をもたらした。\\n'\n",
      " '後にホーウスは事故死してしまうが、彼の指導を受けて成長し、バーリ・トゥードで名を馳せていたレイ・ズールを破ったヒクソン・グレイシーをはじめとする新世代のグレイシー一族や、オズワルド・アウヴェスといった非グレイシー系の黒帯が増えたことで柔術の普及は進んでいった。\\n'\n",
      " '\\n'\n",
      " '\\n'\n",
      " '=== 1990年代 - 2000年代 ===\\n'\n",
      " 'もともと何でもありのケンカでは強いのは打撃であり、組技は実戦では役に立たないと思われてきた。そんな中で1993年11月12日、エリオの息子ホイス・グレイシーが、長兄ホリオン・グレイシーが主催したUFC '\n",
      " '1（反則攻撃は目潰し、噛み付きのみの格闘技大会）で参加選手中、最軽量だったにもかかわらず優勝し、一躍柔術が脚光を浴びた。この大会は広いフィールドで1対1の状況が約束されているという柔術が最も得意とする条件で行われたため、大会の認可が下りた際ホリオンは柔術による世界の格闘技市場制圧を確信したとまで語っている。\\n'\n",
      " 'その結果、全米中の格闘技の道場やジムでブラジリアン柔術が普及し始め、グレイシー一族だけでなくビクトー・ベウフォートやアントニオ・ホドリゴ・ノゲイラら柔術をバックボーンにもつ格闘家が好成績を収めるとその他の格闘家も寝技を研究していき、世界の格闘技情勢は一変した。\\n'\n",
      " '\\n'\n",
      " '\\n'\n",
      " '=== 2010年代以降 ===\\n'\n",
      " '国際的に普及した柔術はさらに安全面での配慮や競技人口の増大により他の格闘技と同様スポーツ化の様相を見せ始め、いわゆるモダン柔術という相手のバックを積極的に狙って試合を優位に運んだり、護身術、格闘技の観点からは考えられない試合展開（お互いに尻餅をついて向き合い、コントロールを試みるダブルガードなど）が見られてきた。これに対してグレイシー一族（特にIBJJFに関わっていないエリオ派）らを中心とした保守派や、独特のアプローチで柔術とMMAの技術の互換性を志向し続けているエディ・ブラボーらによりIBJJFルールではない試合が行われるようになり、Metamorisをはじめとするポイント制を廃したグラップリング、柔術大会が話題を呼び始めている。\\n'\n",
      " '\\n'\n",
      " '\\n'\n",
      " '=== 日本における団体の設立 ===\\n'\n",
      " '日本では、1997年（平成9年）に渡辺孝真を会長とした日本ブラジリアン柔術連盟 (JBJJF) '\n",
      " 'が設立された。また2008年（平成20年）2月に、ヒクソン・グレイシーを会長とする全日本柔術連盟 (JJFJ) が設立された。\\n'\n",
      " '\\n'\n",
      " '\\n'\n",
      " '== 帯制度 ==\\n'\n",
      " '帯の色は柔道や空手道のように習熟度や実力によって分けられており、白帯、青帯、紫帯、茶帯、黒帯の順に高位となっていく。柔道の場合は各県において昇段審査があり、受験者同士の試合結果にて取得する点を一定数貯めると昇段といった制度があるが、柔術では試合や大会での戦績に応じて指導者の判断で授与するのが一般的である。\\n'\n",
      " '黒帯制度がある各武道の中でも昇段が最難関と言われており、黒帯を取得出来る者は稀である。目安として青帯は基礎技術を習熟し、紫帯で指導員としての実力を有し、茶帯および黒帯は下位帯に対して圧倒的な実力差を有する。習得期間や寝技の技量・戦歴によって、所属先の指導者が帯の昇格を認めると柔術を始めてから1年で昇格をする場合もあれば10年以上の歳月をかけて昇格する人もいる。ただし、総合格闘技のプロ経験を持った者や柔道・レスリング・サンボ等でオリンピック出場経験・全日本大会以上の優勝経験を持った者は無条件で色帯として昇格される場合もある。また、中学生で緑帯を所得したものは中学校卒業した時点で青帯昇格となる。ブラジル柔術連盟（CBJJ）によると、黒帯に昇格してから31年経った者に赤帯を授けている。\\n'\n",
      " '紫帯以上の指導者はいつでも門下生に自分の帯のより一段階下の帯を認定することが出来る。黒帯二段以上は黒帯以下の全ての帯を認定することが出来、黒帯初段は2011年の改制により、黒帯（黒帯無段）を認定することが出来ない。黒帯初段以上は指導者個人ではなく、国際ブラジリアン柔術連盟の公認連盟のみが認定することが出来る。\\n'\n",
      " 'ただし、それぞれ最短終了期間が定められており、青帯の場合は会員登録から最低2年以上経過しないと紫帯を取得することが出来ない。\\n'\n",
      " '\\n'\n",
      " '\\n'\n",
      " '== IBJJFルール ==\\n'\n",
      " '以下はIBJJFルールの抜粋である。\\n'\n",
      " '\\n'\n",
      " '\\n'\n",
      " '=== 勝敗の決定 ===\\n'\n",
      " 'サブミッション - 絞め技や関節技で相手選手がタップする、あるいは失神する。\\n'\n",
      " '怪我などによる棄権\\n'\n",
      " '重大反則行為による失格\\n'\n",
      " 'ポイント\\n'\n",
      " 'アドバンテージ\\n'\n",
      " 'ネガティブ\\n'\n",
      " 'レフェリー判定時間内に決着が付かなかった場合はポイント数の多い選手が勝利となる。ポイントが同数の場合アドバンテージ数が多い選手が、そしてアドバンテージも同数の場合、ネガティブの少ない選手が勝利となる。\\n'\n",
      " '全てが同数の場合は審判が判定する（レフェリー判定）ため引き分けはない。ただし両者失格はある。\\n'\n",
      " '\\n'\n",
      " '\\n'\n",
      " '==== ポジティブポイント ====\\n'\n",
      " '\\n'\n",
      " '上記ポイントは3秒以上キープすることで付与される。またニーオンザベリー、パスガードは左右をスイッチしてもポイントは加算されない。\\n'\n",
      " '\\n'\n",
      " '\\n'\n",
      " '==== ネガティブポイント ====\\n'\n",
      " '相手と組むことを避ける。もしくは組んでも膠着を誘発する行為はストーリング（時間稼ぎ）とみなされペナルティーが与えられる。\\n'\n",
      " '\\n'\n",
      " '\\n'\n",
      " '=== 主な反則行為 ===\\n'\n",
      " '\\n'\n",
      " '\\n'\n",
      " '==== 非常に重大な反則 ====\\n'\n",
      " '即座に失格となる\\n'\n",
      " '\\n'\n",
      " 'サブミッションが仕掛けられた状態で意図的に場外へ出る行為\\n'\n",
      " '噛みつき、サミング、髪を引っ張る、打撃行為、急所攻撃、指先で鼻孔に攻撃するなど\\n'\n",
      " 'その他常識、道徳的に反する行為や言動\\n'\n",
      " '\\n'\n",
      " '\\n'\n",
      " '==== 重大な反則 ====\\n'\n",
      " '2度目の警告より、ペナルティーに追加して相手に1ポイントのアドバンテージが与えられる。3度目は（アドバンテージより上位の）2ポイント、4度目で失格となる（ペナルティは累積）。\\n'\n",
      " '\\n'\n",
      " '相手の道衣を掴まず膝やお尻を着く\\n'\n",
      " '膠着を誘発する行為\\n'\n",
      " '相手の道衣の袖口、裾口の中に指を入れる行為\\n'\n",
      " '道衣を掴まず拳でチョークを掛ける行為\\n'\n",
      " '\\n'\n",
      " '\\n'\n",
      " '=== 禁止行為 ===\\n'\n",
      " '以下は禁止行為の抜粋である。\\n'\n",
      " '\\n'\n",
      " '\\n'\n",
      " '=== 柔術衣 ===\\n'\n",
      " '柔術衣は柔道着と比べ細身で、メーカー名のパッチあるいは刺繍が目立つようにデザインされている。また柔道は白の柔道着で大会に出場することが一般的だが、柔術では上下同色の黒、白、青（紺色を含む）であれば公式大会に出場できる。また、袖の余り幅は6.8 '\n",
      " 'cm以上必要である。\\n'\n",
      " '\\n'\n",
      " '\\n'\n",
      " '=== 年齢カテゴリ ===\\n'\n",
      " '算出方法：（現在の西暦年）-（誕生年）\\n'\n",
      " '\\n'\n",
      " '\\n'\n",
      " '=== 階級（着衣時） ===\\n'\n",
      " '\\n'\n",
      " '\\n'\n",
      " '=== 試合時間 ===\\n'\n",
      " '※空白はその帯を取得できる年齢でないことを示す\\n'\n",
      " '\\n'\n",
      " '\\n'\n",
      " '=== 具体的な試合展開 ===\\n'\n",
      " '柔道と異なり綺麗に投げても一本勝ちにはならずテイクダウン（2ポイント）またはアドバンテージ（柔道で言う効果。ADポイントとして別集計1ポイント）のみが与えられる。また、引き込みが認められている。そして、寝技で上側の選手が相手選手に組まない場合もそのまま試合は継続される。また寝技の攻防が膠着した場合にブレイク（待て）がかかるまでの時間は柔道と比較してかなり長い。そのため、寝技中心の試合展開になることが多い。\\n'\n",
      " '寝技は柔道と同様、下の者が相手と正対し、膝や脚を使って防御するガードポジションを取っていれば抑え込み、フォールやポイントが取られないのがレスリングやサンボと異なる大きな特徴である。また、抑え込みでは一本にならず、20秒以上同じ抑え込みを続けると反則を取られる。また、20世紀終盤の柔道では寝技で亀になって防御することが多かったが、柔術ではその態勢で背に乗られ、相手の両足を鼠径部に差し込まれると失点になる（4ポイント）ため、亀の姿勢のままでいることは少ない。下側の者はガードの状態にしようとするか、正対できずうつ伏せの場合は相手に頭を向け手で相手が背後に行けないようにがぶられながら防御する。\\n'\n",
      " '一本勝ちは、関節技や絞め技を極めた場合である。実力が拮抗している場合は一本を狙わず、ポジショニングによって与えられるポイントあるいはアドバンテージ等での判定勝利を狙う選手も多い。\\n'\n",
      " '\\n'\n",
      " '\\n'\n",
      " '== 大会・選手権 ==\\n'\n",
      " 'コパ・パラエストラ、GIアマチュアオープントーナメント、デラヒーバカップ、COPA DUMAU '\n",
      " 'KIMONOS（コパ・ドゥマウ・キモノス）、全日本選手権、レグナムJAM、コパ・トウホク、コパ・インファイト、カンペオナート・ジャポネーズ、JAM、コパ・ストライプル、COPA '\n",
      " 'AXIS（コパ・アクシス）、白帯カーニバル、ポゴナカップ、キング・オブ・パラエストラ、全日本ブラジリアン柔術新人戦トーナメント、何気杯、コパ・ダ・アミザデ、CJCT、ヒクソン杯、アジサプリメント柔術大会、ワールドゲームズ柔術寝技柔術、アジア競技大会柔術寝技柔術、東南アジア競技大会柔術寝技柔術、柔術グランドスラム・パリ・オープン寝技柔術など。日本国外でも様々な柔術の大会が開催されている。\\n'\n",
      " '\\n'\n",
      " '\\n'\n",
      " '=== 全日本選手権 ===\\n'\n",
      " '日本ブラジリアン柔術連盟（JBJJF）が1998年（平成10年）から全日本ブラジリアン柔術選手権を開催し、全日本柔術連盟（JJFJ）が2008年（平成20年）から全日本柔術チャンピオンシップ（日本オープン柔術選手権）を開催している。また、過去にはパラエストラが主催していた「カンペオナート・ジャポネーズ・デ・ジュウジュツ・アベルト（全日本オープン選手権）」があった。スポーツ柔術日本連盟が、2018年（平成30年）より、全日本柔術選手権を開催を始めた。スポーツ柔術日本連盟は、2021年まで3回連続で同大会を開催し、パラ柔術やマスターもあわせて約600名の参加者が集まる大会にまで参加者が増えている。\\n'\n",
      " '\\n'\n",
      " '\\n'\n",
      " '=== 世界選手権 ===\\n'\n",
      " 'ブラジリアン柔術の世界選手権はいくつかある。過去には「柔術ワールドカップ」があった。\\n'\n",
      " '\\n'\n",
      " '世界柔術選手権（World Jiu-Jitsu Championship）\\n'\n",
      " '国際ブラジリアン柔術連盟（IBJJF) が主催する大会。通称ムンジアル。最も古くから続く世界大会。\\n'\n",
      " '世界柔術選手権 (Ju-Jitsu World Championship)\\n'\n",
      " '国際柔術連盟 (Ju-Jitsu International Federation , JJIF) '\n",
      " 'が主催する大会。柔術ファイティングシステムなどを中心に実施してきた同大会だが、2010年代から「寝技柔術」の名でブラジリアン柔術も実施する。2018年頃から寝技柔術の英名は '\n",
      " 'Jiu-Jitsu としている。略称JJWC。\\n'\n",
      " '柔術競技世界（Mundial de Jiu-Jitsu Esportivo）\\n'\n",
      " 'ブラジル柔術競技連盟（CBJJE) が主催する大会。この大会もムンジアルという名称を用いている。2007年から始まった世界大会。\\n'\n",
      " 'グレイシー柔術世界選手権（The Gracie Jiu-Jitsu World Championship)\\n'\n",
      " '国際グレイシー柔術連盟（IGJJF）が主催する大会。2003年から始まった。ムンジアルやコパ・ド・ムンドと違い、競技スポーツではなく護身としての柔術を標榜しているため、上記2つの大会とは試合ルールが異なる。まずスラム（バスター）が紫帯の部以上のカテゴリーで認められている（スラムとは相手を持ち上げて地面に叩き付ける技）。また試合時間が最大で30分と大幅に長い。加えて、寝技で膠着状態になると強制的にスタンド状態に戻され、コイントスで上下のポジションが決定される。\\n'\n",
      " '柔術オリンピック世界杯（Copa do Mundo de Jiu-Jitsu Olimpico）\\n'\n",
      " 'ブラジル柔術オリンピック連盟（CBJJO) '\n",
      " 'が主催していた大会。通称コパ・ド・ムンド（「世界杯」の意）。IBJJF主催の大会に反発した団体（ノヴァウニオン他）が1996年から始めた。選手の参加費を格段に安くし、優勝者には賞金が出る制度を初めて行った。正式には、柔術オリンピック '\n",
      " 'コパ・ド・ムンド・デ・ジウジツ・オリンピコと言う。同大会は、2006年の開催をもって消滅し、2007年以後はCBJJOの後継団体であるブラジル柔術競技連盟（CBJJE）が、IBJJFとは異なるもう一つのムンジアルを開催している。\\n'\n",
      " '\\n'\n",
      " '\\n'\n",
      " '== 「柔術」という名称を使っている経緯 ==\\n'\n",
      " '\\n'\n",
      " '\\n'\n",
      " '=== 当時、柔道と柔術の区別が曖昧だったからという説 ===\\n'\n",
      " '明治時代には、講道館柔道は柔術の一流派とされており、まだ柔術と柔道を明確に区別する習慣がなかった。前田光世が日本を発った時、柔道は嘉納柔術という呼び方をされていたため、「柔術」となったと考えられる。例えば、『坊っちゃん』と『三四郎』は1906年（明治39年）と1908年（明治41年）に書かれたものであるが、嘉納治五郎と親交のあった夏目漱石はこれらの作品で「柔術」と書いている。講道館で柔道を修業した者も自分の技を「柔術」と称することが多かった。戦中まで大日本武徳会の「武道専門学校」（武専）で教授されていた「柔術」も、技術内容は講道館柔道と同じものであった。一方で、研究者の内田賢次は、前田光世については「柔道」と「柔術」をはっきり区別していたと、前田が書いた手紙から読み取っている。\\n'\n",
      " '\\n'\n",
      " '\\n'\n",
      " '=== 前田光世が自粛したという説 ===\\n'\n",
      " '「柔術」と名付けられているのは、講道館柔道を離れた身である前田光世が「柔道」という言葉の使用を自粛してブラジル人らに技を教授したからだといわれている。一方で増田俊也は自著で、ブラジルに入る前に前田への講道館からの処分が解け昇段してる、としている。\\n'\n",
      " '\\n'\n",
      " '\\n'\n",
      " '=== 外国では柔術の方が通りが良かったという説 ===\\n'\n",
      " '当時外国では「柔術」という言葉が過去に海外へ出た柔道家や古流の柔術家達によってすでに広まっており、通りが良かった面がある。\\n'\n",
      " '\\n'\n",
      " '\\n'\n",
      " '=== 起源は柔道以外の柔術だったという説 ===\\n'\n",
      " '起源は柔道以外の古流柔術または新興の柔術だった、というストレートだが少数派の説である。\\n'\n",
      " '前田から直に教わったカルロス・グレイシーやグレイシーを経ないブラジリアン柔術家として知られるルイジ・フランサ・フィリョは、前田は「柔道」ではなく「柔術」とはっきりと言っていた、と証言している。そして、研究者の内田賢次は、前田光世は「柔道」と「柔術」をはっきり区別していたと、前田が書いた手紙から読み取っている。\\n'\n",
      " '柔道家（当時七段）の石井勇吉は自著で、サンパウロにあるブラジリアン柔術道場アカデミア・デ・ペドロ・エメテリオ柔術は古流柔術の流れをくむ道場だ、としている。石井勇吉の父親は古流柔術天神真楊流の石井清吉柳喜斎源正義であり、五男はエリオ・グレイシーの一番弟子ペドロ・エメテリオのアカデミア・デ・ペドロ・エメテリオ柔術で立ち技の指導員であったチアキ・イシイ（ミュンヘンオリンピック柔道銅メダリスト）である。\\n'\n",
      " 'また、ブラジリアン柔術の起源が柔道とされるのは前田に柔道以外の柔術の経験がないとされていたのも一因だが、実は前田はロンドンの日本柔術学校 (the '\n",
      " 'Japanese School of Ju-jitsu) '\n",
      " 'で指導員をしており、新興か古流であるこの柔術を修得していた。この道場の設立者は谷幸雄と三宅タロー（三宅多留次）である。この柔術のセオリーが記載された両設立者による書籍『The '\n",
      " 'Game of '\n",
      " 'Ju-jitsu』によると、寝技では上の場合は柔道の抑込技状態が有利とされており、特にマウントポジションが有利とされている。バックコントロールやバックマウントについては特に記載はない。つまりは柔道とブラジリアン柔術の中間的なセオリーとなっている。書籍『The '\n",
      " 'Game of '\n",
      " 'Ju-jitsu』の日本語対訳本『柔術の勝負』の副題も『明治期の柔道基本技術』となっていて、この柔術は柔道に近いものであり、ブラジリアン柔術の起源がこの柔術だとしても、柔道とする説ともさほど矛盾はない。監修をつとめた内田賢次は、日本柔術学校の技術的背景について、谷幸雄は柔道（当時初段）と天神真楊流柔術や不遷流柔術などの古流柔術、三宅タローは起倒流、竹内流、不遷流で柔道は講道館での調査の結果、段位の取得が確認できなかった、としている。書籍『The '\n",
      " 'Game of '\n",
      " 'Ju-jitsu』に掲載された筆者写真でも谷が黒帯を締めているのに対し、三宅は不遷流免許皆伝でありながら当時の古流柔術の慣習と同様、黒帯を締めていない。両者が経験した不遷流は、寝技が優れている、として知られている流派である。\\n'\n",
      " '\\n'\n",
      " '\\n'\n",
      " '== 国際競技連盟 ==\\n'\n",
      " '主な国際競技連盟は以下である。\\n'\n",
      " '\\n'\n",
      " '国際ブラジリアン柔術連盟（IBJJF） 国内最大勢力\\n'\n",
      " '国際柔術連盟（JJIF）\\n'\n",
      " '国際オリンピック委員会公認団体GAISF、AIMSに加盟。国際グレイシー柔術連盟（IGJJF）\\n'\n",
      " 'ブラジル柔術オリンピック連盟（CBJJO） - 消滅\\n'\n",
      " 'スポーツ柔術国際連盟（SJJIF）\\n'\n",
      " '\\n'\n",
      " '\\n'\n",
      " '== 国内競技連盟 ==\\n'\n",
      " '主な国内競技連盟は以下である。\\n'\n",
      " '\\n'\n",
      " 'IBJJF系ブラジル柔術連盟 (CBJJ)\\n'\n",
      " '日本ブラジリアン柔術連盟（JBJJF）JJIF系全日本柔術連盟（JJFJ）\\n'\n",
      " 'フランス柔道柔術剣道及び関連武道連盟 (FFJDA)\\n'\n",
      " 'アラブ首長国連邦柔術連盟 (UAEJJF)プロブラジリアン柔術のAJPワールドツアーを主催しているAJP (Abu Dhabi Jiu Jitsu '\n",
      " 'Pro) が2019年にここから分離独立した。しかしながら2020年1月11日現在、サイト上に記載している私書箱番号は同一である。SJJIF系\\n'\n",
      " '\\n'\n",
      " 'アジアスポーツ柔術連盟（ASJJF）\\n'\n",
      " 'スポーツ柔術日本連盟（SJJJF）\\n'\n",
      " '\\n'\n",
      " '\\n'\n",
      " '== 脚注 ==\\n'\n",
      " '\\n'\n",
      " '\\n'\n",
      " '=== 注釈 ===\\n'\n",
      " '\\n'\n",
      " '\\n'\n",
      " '=== 出典 ===\\n'\n",
      " '\\n'\n",
      " '\\n'\n",
      " '== 関連項目 ==\\n'\n",
      " 'ブラジリアン柔術家一覧\\n'\n",
      " 'ブラジリアン柔術選手一覧\\n'\n",
      " '\\n'\n",
      " '\\n'\n",
      " '== 外部リンク ==\\n'\n",
      " '\\n'\n",
      " '\\n'\n",
      " '=== 情報サイト ===\\n'\n",
      " 'ブラジリアン柔術＆グラップリングニュースブログ ブラジルブログ\\n'\n",
      " '柔術新聞\\n'\n",
      " 'BJJ PLUS\\n'\n",
      " 'BJJ CHANNEL（※YouTube）\\n'\n",
      " '\\n'\n",
      " '\\n'\n",
      " '=== 国際競技連盟 ===\\n'\n",
      " '国際ブラジリアン柔術連盟（IBJJF）\\n'\n",
      " '柔術競技ブラジル連盟（CBJJ）\\n'\n",
      " '国際柔術連盟 (JJIF)\\n'\n",
      " '\\n'\n",
      " '\\n'\n",
      " '=== 国内競技連盟 ===\\n'\n",
      " '設立順\\n'\n",
      " '\\n'\n",
      " '一般社団法人 日本ブラジリアン柔術連盟（JBJJF)\\n'\n",
      " '一般社団法人 全日本柔術連盟（JJFJ)\\n'\n",
      " 'NPO法人\\u3000SJJJFスポーツ柔術日本連盟（SJJJF）')\n"
     ]
    }
   ],
   "source": [
    "import wikipedia, pprint\n",
    "wikipedia.set_lang('ja')\n",
    "search_page = wikipedia.page('ブラジリアン柔術')\n",
    "pprint.pprint(search_page.content)"
   ]
  },
  {
   "cell_type": "code",
   "execution_count": 29,
   "metadata": {},
   "outputs": [],
   "source": [
    "from bs4 import BeautifulSoup\n",
    "soup = BeautifulSoup(\"<html> Lolipop </html>\", \"html.parser\")"
   ]
  },
  {
   "cell_type": "code",
   "execution_count": 31,
   "metadata": {},
   "outputs": [
    {
     "data": {
      "text/plain": [
       "<title>Yahoo! JAPAN</title>"
      ]
     },
     "execution_count": 31,
     "metadata": {},
     "output_type": "execute_result"
    }
   ],
   "source": [
    "import requests\n",
    "from bs4 import BeautifulSoup\n",
    "html_data = requests.get('https://www.yahoo.co.jp/')\n",
    "soup = BeautifulSoup(html_data.text, \"html.parser\")\n",
    "soup.title"
   ]
  },
  {
   "cell_type": "code",
   "execution_count": 34,
   "metadata": {},
   "outputs": [
    {
     "name": "stdout",
     "output_type": "stream",
     "text": [
      "ローコード／ノーコード開発市場が24.3％の大幅増、2023年度には1,000億円規模に\n",
      "国内ITベンダーの売上ランキング2021年版、1位は富士通、アクセンチュアは2桁増\n",
      "【独自】USEN、新決済サービス「Uペイ」を展開か\n",
      "PayPayの100億円キャンペーンが正式に終了、開始からわずか10日間\n",
      "HPE、オールフラッシュ「HPE Nimble Storage」を刷新　SCMとNVMeを活用可能に\n",
      "基調講演に落合陽一氏　アートやエンジニアリングなどの広告における役割とは\n",
      "ヤマト運輸がEC事業者向けAPIを公開　エアークローゼットが導入第1号に\n",
      "アイピーキューブ、企業・学校向け統合認証プラットフォームを発表\n",
      "三井住友FG、Office 365をグループ全体で全面採用　邦銀初のMyAnalyticsも導入\n",
      "米IICとIVIが産業用IoT推進で合意、共同テストベッド実施など5項目\n",
      "日立造船がSAP S/4HANAをクラウド展開、コンカーやAribaも導入\n",
      "Googleが出資したリップルの仮想通貨「XRP」、アット東京が日本初のValidator運営事業者に\n",
      "東芝、法人向けに「dynabook VC72/B」を発売　360度開閉する2in1、軽さ約1,099g\n",
      "アット東京にJPNAPの接続拠点が新設　国内主要IX事業者が集積\n",
      "ようやく底打ちか、約2年ぶりにPCの出荷台数が増加\n"
     ]
    },
    {
     "name": "stderr",
     "output_type": "stream",
     "text": [
      "c:\\Users\\pokat\\AppData\\Local\\Programs\\Python\\Python310\\lib\\site-packages\\bs4\\builder\\__init__.py:545: XMLParsedAsHTMLWarning: It looks like you're parsing an XML document using an HTML parser. If this really is an HTML document (maybe it's XHTML?), you can ignore or filter this warning. If it's XML, you should know that using an XML parser will be more reliable. To parse this document as XML, make sure you have the lxml package installed, and pass the keyword argument `features=\"xml\"` into the BeautifulSoup constructor.\n",
      "  warnings.warn(\n"
     ]
    }
   ],
   "source": [
    "import requests\n",
    "from bs4 import BeautifulSoup\n",
    "news_data = requests.get('https://www.sbbit.jp/index2.rss')\n",
    "soup = BeautifulSoup(news_data.text, 'html.parser')\n",
    "for news in soup.findAll('item'):\n",
    "    print(news.title.text)"
   ]
  },
  {
   "cell_type": "code",
   "execution_count": 37,
   "metadata": {},
   "outputs": [
    {
     "name": "stdout",
     "output_type": "stream",
     "text": [
      "<item>\n",
      "<title>ローコード／ノーコード開発市場が24.3％の大幅増、2023年度には1,000億円規模に</title>\n",
      "<link/>https://www.sbbit.jp/article/cont1/81414\n",
      "      <description>ITRの調査によると、2020年度の国内のローコード／ノーコード開発市場は前年度比24.3％の515億8,000万円の大幅増となった。今後も2桁成長が継続し、2023年度には1,000億円規模に達するという。\n",
      "</description>\n",
      "<pubdate>Fri, 18 Feb 2022 16:28:00 +0900</pubdate>\n",
      "</item>\n",
      "-------------\n",
      "<item>\n",
      "<title>国内ITベンダーの売上ランキング2021年版、1位は富士通、アクセンチュアは2桁増</title>\n",
      "<link/>https://www.sbbit.jp/article/cont1/23789\n",
      "      <description>IDC Japanが2021年7月12日に発表した国内ITサービス市場のベンダー売上ランキングによると、上位5社は、1位から順に、富士通、NTTデータ、日立製作所、NEC、IBMとなった。NTTデータが、3位から2位に順位を上げた。2020年の国内ITサービス市場は前年比2.8％減の5兆6,834億円となった。\n",
      "</description>\n",
      "<pubdate>Mon, 12 Jul 2021 14:47:00 +0900</pubdate>\n",
      "</item>\n",
      "-------------\n",
      "<item>\n",
      "<title>【独自】USEN、新決済サービス「Uペイ」を展開か</title>\n",
      "<link/>https://www.sbbit.jp/article/cont1/36390\n",
      "      <description>音楽サービスなどを手掛けるUSEN-NEXT HOLDINGS（以下、USEN）が独自の決済サービス「Uペイ」を検討していることがわかった。店舗などで利用されることが多い、75万件超のUSENサービス利用者に対して同サービスを展開する可能性がある。\n",
      "\n",
      "</description>\n",
      "<pubdate>Thu, 09 May 2019 12:22:00 +0900</pubdate>\n",
      "</item>\n",
      "-------------\n",
      "<item>\n",
      "<title>PayPayの100億円キャンペーンが正式に終了、開始からわずか10日間</title>\n",
      "<link/>https://www.sbbit.jp/article/cont1/35832\n",
      "      <description>PayPayは13日、2018年12月4日に開始した「100億円あげちゃうキャンペーン」について、還元額が上限の100億円相当に達したと発表した。キャンペーン開始からわずか10日間で終了することになった。</description>\n",
      "<pubdate>Thu, 13 Dec 2018 22:12:00 +0900</pubdate>\n",
      "</item>\n",
      "-------------\n",
      "<item>\n",
      "<title>HPE、オールフラッシュ「HPE Nimble Storage」を刷新　SCMとNVMeを活用可能に</title>\n",
      "<link/>https://www.sbbit.jp/article/cont1/34950\n",
      "      <description>日本ヒューレット・パッカード（以下、HPE）は22日、オールフラッシュアレイ「HPE Nimble Storage」の刷新を発表した。新製品は価格性能比で最大3倍を実現、容量効率を「保証」するHPE Store More Guaranteeを採用するとともに、次世代ストレージ技術のストレージ・クラス・メモリ（SCM）やNVMeを活用できるよう設計されているという。</description>\n",
      "<pubdate>Tue, 22 May 2018 14:04:34 +0900</pubdate>\n",
      "</item>\n",
      "-------------\n",
      "<item>\n",
      "<title>基調講演に落合陽一氏　アートやエンジニアリングなどの広告における役割とは</title>\n",
      "<link/>https://www.sbbit.jp/article/cont1/34693\n",
      "      <description>六本木の東京ミッドタウンにて5月14日（月）から5月17日（木）の4日間開催される、世界最大級のマーケティング＆コミュニケーションイベント「Advertising Week Asia 2018」（アドバタイジング・ウィーク・アジア2018）は、今年のキーノート・スピーカーとして、メディアアーティストの落合陽一氏の登壇を発表した。\n",
      "</description>\n",
      "<pubdate>Mon, 12 Mar 2018 21:34:00 +0900</pubdate>\n",
      "</item>\n",
      "-------------\n",
      "<item>\n",
      "<title>ヤマト運輸がEC事業者向けAPIを公開　エアークローゼットが導入第1号に</title>\n",
      "<link/>https://www.sbbit.jp/article/cont1/34261\n",
      "      <description>ヤマト運輸は11月20日、クロネコメンバーズのサービスとEC事業者のサービスを連携し、ECで商品を購入した顧客がそのサイトやアプリ内で荷物を受け取る場所や時間を変更できるAPIの公開を開始した。また、同日エアークローゼットが同APIを導入して、ファッションレンタルサービス「airCloset」とID連携をすることも発表された。\n",
      "</description>\n",
      "<pubdate>Tue, 21 Nov 2017 16:30:00 +0900</pubdate>\n",
      "</item>\n",
      "-------------\n",
      "<item>\n",
      "<title>アイピーキューブ、企業・学校向け統合認証プラットフォームを発表</title>\n",
      "<link/>https://www.sbbit.jp/article/cont1/33991\n",
      "      <description>IT基盤の設計・構築と関連製品の開発・販売を行うアイピーキューブは28日、企業や学校で利用しているITシステムやクラウドサービスのIDと認証を統合管理するための統合認証プラットフォーム「IP3-ACE」を発表した。</description>\n",
      "<pubdate>Wed, 30 Aug 2017 14:30:00 +0900</pubdate>\n",
      "</item>\n",
      "-------------\n",
      "<item>\n",
      "<title>三井住友FG、Office 365をグループ全体で全面採用　邦銀初のMyAnalyticsも導入</title>\n",
      "<link/>https://www.sbbit.jp/article/cont1/33764\n",
      "      <description>三井住友フィナンシャルグループ（以下、三井住友FG）が「Office 365」をグループ全体で導入することがわかった。グループの中核となる三井住友銀行は、2016年5月に「Office 365」を全面採用することを決定していたが、導入効果の検証を終えたため、2017年7月より全行での利用を順次開始していくという。</description>\n",
      "<pubdate>Fri, 30 Jun 2017 15:28:00 +0900</pubdate>\n",
      "</item>\n",
      "-------------\n",
      "<item>\n",
      "<title>米IICとIVIが産業用IoT推進で合意、共同テストベッド実施など5項目</title>\n",
      "<link/>https://www.sbbit.jp/article/cont1/33556\n",
      "      <description>日本版インダストリー4.0を推進する団体、インダストリアル・バリューチェーン・イニシアティブ（以下、IVI）と米GEやシスコらで構成される米インダストリアル・インターネット・コンソーシアム（以下、IIC）は26日、独ハノーバーにおいて産業用IoT（インダストリアルIoT：以下、IIoT）推進で連携する合意文書（MoU）に調印した。両者はインターネットの産業利用における相互運用、ポータビリティ、セキュリティ、プライバシーを高めるために協力していくという。</description>\n",
      "<pubdate>Thu, 27 Apr 2017 11:10:00 +0900</pubdate>\n",
      "</item>\n",
      "-------------\n",
      "<item>\n",
      "<title>日立造船がSAP S/4HANAをクラウド展開、コンカーやAribaも導入</title>\n",
      "<link/>https://www.sbbit.jp/article/cont1/33368\n",
      "      <description>日立造船は事務基幹システムをSAP S/4HANAに刷新し、2018年8月よりクラウドで展開する。S/4HANAのほか、人事ソリューション「SuccessFactors」、調達・購買ソリューション「Ariba」、出張・経費管理ソリューション「Concur Travel &amp;amp; Expense」などを採用するという。日本IBMとSAPジャパンが手がけた。</description>\n",
      "<pubdate>Thu, 09 Mar 2017 11:43:00 +0900</pubdate>\n",
      "</item>\n",
      "-------------\n",
      "<item>\n",
      "<title>Googleが出資したリップルの仮想通貨「XRP」、アット東京が日本初のValidator運営事業者に</title>\n",
      "<link/>https://www.sbbit.jp/article/cont1/33212\n",
      "      <description>アット東京は2月1日より、SBI Ripple Asiaと共同で、日本で初めて、仮想通貨XRPのブロックチェーンであるRipple Consensuses Ledger上の「Validatorノード」の運営を開始した。</description>\n",
      "<pubdate>Wed, 01 Feb 2017 19:19:19 +0900</pubdate>\n",
      "</item>\n",
      "-------------\n",
      "<item>\n",
      "<title>東芝、法人向けに「dynabook VC72/B」を発売　360度開閉する2in1、軽さ約1,099g</title>\n",
      "<link/>https://www.sbbit.jp/article/cont1/33160\n",
      "      <description>東芝クライアントソリューションは19日、法人向けの12.5型 2in1コンバーチブルPC「dynabook VC72/B」を発表、販売を開始した。</description>\n",
      "<pubdate>Thu, 19 Jan 2017 21:53:00 +0900</pubdate>\n",
      "</item>\n",
      "-------------\n",
      "<item>\n",
      "<title>アット東京にJPNAPの接続拠点が新設　国内主要IX事業者が集積</title>\n",
      "<link/>https://www.sbbit.jp/article/cont1/33132\n",
      "      <description>アット東京は12日、インターネットマルチフィードがアット東京 中央センター（以下「CC1」）内に同社の新たな接続拠点を開設し、2017年4月からインターネット相互接続サービスである「JPNAPサービス」の提供を開始することを発表した。</description>\n",
      "<pubdate>Thu, 12 Jan 2017 19:29:00 +0900</pubdate>\n",
      "</item>\n",
      "-------------\n",
      "<item>\n",
      "<title>ようやく底打ちか、約2年ぶりにPCの出荷台数が増加</title>\n",
      "<link/>https://www.sbbit.jp/article/cont1/32942\n",
      "      <description>2016年第3四半期の国内クライアントPC出荷台数が、前年同期比で6.3％増の252万台となった。前年同期比で増加になったのは、2014年第2四半期（4月～6月）以来、9四半期ぶりとなる。</description>\n",
      "<pubdate>Thu, 24 Nov 2016 11:53:00 +0900</pubdate>\n",
      "</item>\n",
      "-------------\n"
     ]
    }
   ],
   "source": [
    "import requests\n",
    "from bs4 import BeautifulSoup\n",
    "news_data = requests.get('https://www.sbbit.jp/index2.rss')\n",
    "soup = BeautifulSoup(news_data.text, 'html.parser')\n",
    "for news in soup.findAll('item'):\n",
    "    print(news)\n",
    "    print('-------------')"
   ]
  },
  {
   "cell_type": "code",
   "execution_count": 46,
   "metadata": {},
   "outputs": [
    {
     "data": {
      "text/plain": [
       "'睦月'"
      ]
     },
     "execution_count": 46,
     "metadata": {},
     "output_type": "execute_result"
    }
   ],
   "source": [
    "import monthtest\n",
    "monthtest.japanese(1)"
   ]
  },
  {
   "cell_type": "code",
   "execution_count": 44,
   "metadata": {},
   "outputs": [
    {
     "data": {
      "text/plain": [
       "'葉月'"
      ]
     },
     "execution_count": 44,
     "metadata": {},
     "output_type": "execute_result"
    }
   ],
   "source": [
    "monthtest.japanese(8)"
   ]
  },
  {
   "cell_type": "code",
   "execution_count": 45,
   "metadata": {},
   "outputs": [
    {
     "data": {
      "text/plain": [
       "'師走'"
      ]
     },
     "execution_count": 45,
     "metadata": {},
     "output_type": "execute_result"
    }
   ],
   "source": [
    "monthtest.japanese(12)"
   ]
  },
  {
   "cell_type": "code",
   "execution_count": 47,
   "metadata": {},
   "outputs": [
    {
     "data": {
      "text/plain": [
       "'月の名前を入力してください'"
      ]
     },
     "execution_count": 47,
     "metadata": {},
     "output_type": "execute_result"
    }
   ],
   "source": [
    "monthtest.japanese(15)"
   ]
  }
 ],
 "metadata": {
  "interpreter": {
   "hash": "419284614519436501c3aebe476c3f7ba1d8e2765297e8b8519b078b7a2e26ad"
  },
  "kernelspec": {
   "display_name": "Python 3.10.4 64-bit",
   "language": "python",
   "name": "python3"
  },
  "language_info": {
   "codemirror_mode": {
    "name": "ipython",
    "version": 3
   },
   "file_extension": ".py",
   "mimetype": "text/x-python",
   "name": "python",
   "nbconvert_exporter": "python",
   "pygments_lexer": "ipython3",
   "version": "3.10.4"
  },
  "orig_nbformat": 4
 },
 "nbformat": 4,
 "nbformat_minor": 2
}
